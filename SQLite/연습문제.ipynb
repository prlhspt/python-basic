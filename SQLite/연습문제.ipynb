{
 "cells": [
  {
   "cell_type": "markdown",
   "metadata": {},
   "source": [
    "# 연습문제 2번"
   ]
  },
  {
   "cell_type": "code",
   "execution_count": 198,
   "metadata": {},
   "outputs": [],
   "source": [
    "# 내용 삭제\n",
    "sql = 'DELETE FROM IDOL';\n",
    "\n",
    "cur.execute(sql)\n",
    "conn.commit()"
   ]
  },
  {
   "cell_type": "code",
   "execution_count": 207,
   "metadata": {},
   "outputs": [],
   "source": [
    "# 내용 삭제\n",
    "sql = 'DELETE FROM SONGS';\n",
    "\n",
    "cur.execute(sql)\n",
    "conn.commit()"
   ]
  },
  {
   "cell_type": "code",
   "execution_count": 164,
   "metadata": {},
   "outputs": [],
   "source": [
    "# 테이블 삭제\n",
    "sql = 'DROP TABLE IDOL'\n",
    "\n",
    "cur.execute(sql)\n",
    "conn.commit()"
   ]
  },
  {
   "cell_type": "code",
   "execution_count": 205,
   "metadata": {},
   "outputs": [
    {
     "data": {
      "text/plain": [
       "[['song', 'gid', 'year', 'composer', 'lyrics', 0],\n",
       " ['작은 것들을 위한 시', '1', '2019', 'Pdogg 외', '모든 게 궁금해 How’s your day', 1],\n",
       " ['FAKE LOVE', '1', '2018', 'Pdogg 외', '널 위해서라면 난 슬퍼도 기쁜 척 할 수가 있었어', 2],\n",
       " ['넌 is 뭔들', '2', '2016', '김도훈 외', 'Hey 거기 미소가 예쁜 남자 바로 너', 3],\n",
       " ['음오아예 (Um Oh Ah Yeh)',\n",
       "  '2',\n",
       "  '2015',\n",
       "  '김도훈',\n",
       "  'oh yes 음 오 아 예 너에게 빠져들겠어 자꾸 반응하잖아',\n",
       "  4],\n",
       " ['HER', '4', '2014', '지코 외', 'Jesus 무슨 말이 필요해 모두 널 작품이라고 불러', 5],\n",
       " ['으르렁', '5', '2013', '신혁 외', '나 으르렁 으르렁 으르렁 대 나 으르렁 으르렁 으르렁 대', 6],\n",
       " ['MAMA',\n",
       "  '5',\n",
       "  '2012',\n",
       "  '유영진',\n",
       "  'Careless careless Shoot anonymous anonymous',\n",
       "  7],\n",
       " ['CHEER UP',\n",
       "  '6',\n",
       "  '2016',\n",
       "  '블랙아이드필승 외',\n",
       "  'CHEER UP BABY CHEER UP BABY 좀 더 힘을 내',\n",
       "  8],\n",
       " ['TT', '6', '2016', '블랙아이드필승 외', '이런 내 맘 모르고 너무해 너무해', 9],\n",
       " ['빨간 맛',\n",
       "  '11',\n",
       "  '2017',\n",
       "  'Ludwig Lindell 외',\n",
       "  '빨간 맛 궁금해 Honey 깨물면 점점 녹아든 스트로베리 그 맛',\n",
       "  10]]"
      ]
     },
     "execution_count": 205,
     "metadata": {},
     "output_type": "execute_result"
    }
   ],
   "source": [
    "import sqlite3\n",
    "import pandas as pd\n",
    "\n",
    "conn = sqlite3.connect('girl_group.db')\n",
    "\n",
    "cur = conn.cursor()\n",
    "\n",
    "cur.execute(\"DROP TABLE IF EXISTS EMPLOYEE\")\n",
    "\n",
    "with open('singers.csv') as file:\n",
    "    csv_datas = []\n",
    "    for line in file.readlines():\n",
    "        csv_datas.append(line.split(','))\n",
    "for i in range(0, len(csv_datas)):\n",
    "    csv_datas[i][3] = csv_datas[i][3].replace(\"\\n\", \"\")\n",
    "    csv_datas[i].append(i)\n",
    "    \n",
    "    \n",
    "with open('songs.csv') as file:\n",
    "    csv_datas = []\n",
    "    for line in file.readlines():\n",
    "        csv_datas.append(line.split(','))\n",
    "for i in range(0, len(csv_datas)):\n",
    "    csv_datas[i][4] = csv_datas[i][4].replace(\"\\n\", \"\")\n",
    "    csv_datas[i].append(i)\n",
    "                        \n",
    "csv_datas"
   ]
  },
  {
   "cell_type": "code",
   "execution_count": 166,
   "metadata": {},
   "outputs": [],
   "source": [
    "sql = '''CREATE TABLE IDOL (\n",
    "    id INT,\n",
    "    name VARCHAR(20), \n",
    "    member_no VARCHAR(20), \n",
    "    debut DATE,\n",
    "    company VARCHAR(20)\n",
    ");\n",
    "'''\n",
    "cur.execute(sql)\n",
    "conn.commit()"
   ]
  },
  {
   "cell_type": "code",
   "execution_count": 163,
   "metadata": {},
   "outputs": [],
   "source": [
    "sql = '''CREATE TABLE SONGS (\n",
    "    song_id INT,\n",
    "    song_name VARCHAR(20), \n",
    "  gid INT,\n",
    "  year INT,\n",
    "  composer VARCHAR(20),\n",
    "  lyrics VARCHAR(20)\n",
    ");\n",
    "'''\n",
    "cur.execute(sql)\n",
    "conn.commit()"
   ]
  },
  {
   "cell_type": "code",
   "execution_count": 199,
   "metadata": {},
   "outputs": [],
   "source": [
    "sql = 'Insert Into IDOL(id, name, member_no, debut, company) Values(?, ?, ?, ?, ?)'\n",
    "for i in range(1, len(csv_datas)):\n",
    "    id_ = csv_datas[i][4]\n",
    "    name = csv_datas[i][0]\n",
    "    member_no = csv_datas[i][1]\n",
    "    debut = csv_datas[i][2]\n",
    "    company = csv_datas[i][3]\n",
    "    cur.execute(sql, (id_, name, member_no, debut, company))\n",
    "conn.commit()\n",
    "    \n",
    "    "
   ]
  },
  {
   "cell_type": "code",
   "execution_count": 208,
   "metadata": {},
   "outputs": [],
   "source": [
    "sql = 'Insert Into SONGS(song_id, song_name, gid, year, composer, lyrics) Values(?, ?, ?, ?, ?, ?)'\n",
    "for i in range(1, len(csv_datas)):\n",
    "    song_id = csv_datas[i][5]\n",
    "    song_name = csv_datas[i][0]\n",
    "    gid = csv_datas[i][1]\n",
    "    year = csv_datas[i][2]\n",
    "    composer = csv_datas[i][3]\n",
    "    lyrics = csv_datas[i][4]\n",
    "    cur.execute(sql, (song_id, song_name, gid, year, composer, lyrics))\n",
    "conn.commit()\n",
    "    \n",
    "    "
   ]
  },
  {
   "cell_type": "code",
   "execution_count": 213,
   "metadata": {},
   "outputs": [
    {
     "data": {
      "text/plain": [
       "[('방탄소년단', '7', '2013-06-13', 'FAKE LOVE', 2018),\n",
       " ('방탄소년단', '7', '2013-06-13', '작은 것들을 위한 시', 2019),\n",
       " ('마마무', '4', '2014-06-19', '넌 is 뭔들', 2016),\n",
       " ('마마무', '4', '2014-06-19', '음오아예 (Um Oh Ah Yeh)', 2015),\n",
       " ('블락비', '7', '2011-04-15', 'HER', 2014),\n",
       " ('엑소', '9', '2012-04-08', 'MAMA', 2012),\n",
       " ('엑소', '9', '2012-04-08', '으르렁', 2013),\n",
       " ('트와이스', '9', '2015-10-20', 'CHEER UP', 2016),\n",
       " ('트와이스', '9', '2015-10-20', 'TT', 2016)]"
      ]
     },
     "execution_count": 213,
     "metadata": {},
     "output_type": "execute_result"
    }
   ],
   "source": [
    "sql ='''SELECT name, member_no, debut, song_name, year\n",
    "    FROM IDOL INNER JOIN SONGS\n",
    "    ON id = gid\n",
    "''';\n",
    "\n",
    "cur.execute(sql)\n",
    "results = cur.fetchall()\n",
    "results"
   ]
  },
  {
   "cell_type": "code",
   "execution_count": 214,
   "metadata": {},
   "outputs": [],
   "source": [
    "df = pd.DataFrame(results)"
   ]
  },
  {
   "cell_type": "code",
   "execution_count": 222,
   "metadata": {},
   "outputs": [
    {
     "data": {
      "text/html": [
       "<div>\n",
       "<style scoped>\n",
       "    .dataframe tbody tr th:only-of-type {\n",
       "        vertical-align: middle;\n",
       "    }\n",
       "\n",
       "    .dataframe tbody tr th {\n",
       "        vertical-align: top;\n",
       "    }\n",
       "\n",
       "    .dataframe thead th {\n",
       "        text-align: right;\n",
       "    }\n",
       "</style>\n",
       "<table border=\"1\" class=\"dataframe\">\n",
       "  <thead>\n",
       "    <tr style=\"text-align: right;\">\n",
       "      <th></th>\n",
       "      <th>그룹 이름</th>\n",
       "      <th>구성원 수</th>\n",
       "      <th>데뷔 일자</th>\n",
       "      <th>노래 이름</th>\n",
       "      <th>발표 년도</th>\n",
       "    </tr>\n",
       "  </thead>\n",
       "  <tbody>\n",
       "    <tr>\n",
       "      <th>0</th>\n",
       "      <td>방탄소년단</td>\n",
       "      <td>7</td>\n",
       "      <td>2013-06-13</td>\n",
       "      <td>FAKE LOVE</td>\n",
       "      <td>2018</td>\n",
       "    </tr>\n",
       "    <tr>\n",
       "      <th>1</th>\n",
       "      <td>방탄소년단</td>\n",
       "      <td>7</td>\n",
       "      <td>2013-06-13</td>\n",
       "      <td>작은 것들을 위한 시</td>\n",
       "      <td>2019</td>\n",
       "    </tr>\n",
       "    <tr>\n",
       "      <th>2</th>\n",
       "      <td>마마무</td>\n",
       "      <td>4</td>\n",
       "      <td>2014-06-19</td>\n",
       "      <td>넌 is 뭔들</td>\n",
       "      <td>2016</td>\n",
       "    </tr>\n",
       "    <tr>\n",
       "      <th>3</th>\n",
       "      <td>마마무</td>\n",
       "      <td>4</td>\n",
       "      <td>2014-06-19</td>\n",
       "      <td>음오아예 (Um Oh Ah Yeh)</td>\n",
       "      <td>2015</td>\n",
       "    </tr>\n",
       "    <tr>\n",
       "      <th>4</th>\n",
       "      <td>블락비</td>\n",
       "      <td>7</td>\n",
       "      <td>2011-04-15</td>\n",
       "      <td>HER</td>\n",
       "      <td>2014</td>\n",
       "    </tr>\n",
       "    <tr>\n",
       "      <th>5</th>\n",
       "      <td>엑소</td>\n",
       "      <td>9</td>\n",
       "      <td>2012-04-08</td>\n",
       "      <td>MAMA</td>\n",
       "      <td>2012</td>\n",
       "    </tr>\n",
       "    <tr>\n",
       "      <th>6</th>\n",
       "      <td>엑소</td>\n",
       "      <td>9</td>\n",
       "      <td>2012-04-08</td>\n",
       "      <td>으르렁</td>\n",
       "      <td>2013</td>\n",
       "    </tr>\n",
       "    <tr>\n",
       "      <th>7</th>\n",
       "      <td>트와이스</td>\n",
       "      <td>9</td>\n",
       "      <td>2015-10-20</td>\n",
       "      <td>CHEER UP</td>\n",
       "      <td>2016</td>\n",
       "    </tr>\n",
       "    <tr>\n",
       "      <th>8</th>\n",
       "      <td>트와이스</td>\n",
       "      <td>9</td>\n",
       "      <td>2015-10-20</td>\n",
       "      <td>TT</td>\n",
       "      <td>2016</td>\n",
       "    </tr>\n",
       "  </tbody>\n",
       "</table>\n",
       "</div>"
      ],
      "text/plain": [
       "   그룹 이름 구성원 수       데뷔 일자                노래 이름  발표 년도\n",
       "0  방탄소년단     7  2013-06-13            FAKE LOVE   2018\n",
       "1  방탄소년단     7  2013-06-13          작은 것들을 위한 시   2019\n",
       "2    마마무     4  2014-06-19              넌 is 뭔들   2016\n",
       "3    마마무     4  2014-06-19  음오아예 (Um Oh Ah Yeh)   2015\n",
       "4    블락비     7  2011-04-15                  HER   2014\n",
       "5     엑소     9  2012-04-08                 MAMA   2012\n",
       "6     엑소     9  2012-04-08                  으르렁   2013\n",
       "7   트와이스     9  2015-10-20             CHEER UP   2016\n",
       "8   트와이스     9  2015-10-20                   TT   2016"
      ]
     },
     "execution_count": 222,
     "metadata": {},
     "output_type": "execute_result"
    }
   ],
   "source": [
    "df.rename(columns={'a': 'b', 'c': 'd'}, inplace=True)\n",
    "\n",
    "df.columns = ['그룹 이름', '구성원 수', '데뷔 일자', '노래 이름', '발표 년도']\n",
    "df"
   ]
  }
 ],
 "metadata": {
  "kernelspec": {
   "display_name": "Python 3",
   "language": "python",
   "name": "python3"
  },
  "language_info": {
   "codemirror_mode": {
    "name": "ipython",
    "version": 3
   },
   "file_extension": ".py",
   "mimetype": "text/x-python",
   "name": "python",
   "nbconvert_exporter": "python",
   "pygments_lexer": "ipython3",
   "version": "3.7.6"
  }
 },
 "nbformat": 4,
 "nbformat_minor": 4
}
