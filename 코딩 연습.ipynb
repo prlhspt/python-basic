{
 "cells": [
  {
   "cell_type": "code",
   "execution_count": 3,
   "metadata": {},
   "outputs": [
    {
     "name": "stdout",
     "output_type": "stream",
     "text": [
      "수 : 3명\n",
      "우 : 6명\n",
      "미 : 3명\n",
      "양 : 3명\n",
      "가 : 4명\n"
     ]
    }
   ],
   "source": [
    "s = [64, 89, 100, 85, 77, 58, 79, 67, 96, 87,\n",
    "         87, 36, 82, 98, 84, 76, 63, 69, 53, 22]\n",
    "\n",
    "count_su = 0            # 90점 ~ 100점\n",
    "count_woo = 0           # 80점 ~ 89점\n",
    "count_mi = 0            # 70점 ~ 79점\n",
    "count_yang = 0          # 60점 ~ 69점\n",
    "count_ga = 0            # 0점  ~ 59점\n",
    "\n",
    "i = 1\n",
    "while i < len(s) :\n",
    "    if s[i] >= 90 and s[i] <=100 :\n",
    "        count_su = count_su + 1\n",
    "        \n",
    "    if s[i] >= 80 and s[i] <= 89 :\n",
    "        count_woo = count_woo + 1\n",
    "\n",
    "    if s[i] >= 70 and s[i] <= 79 :\n",
    "        count_mi = count_mi + 1\n",
    "\n",
    "    if s[i] >= 60 and s[i] <= 69 :\n",
    "        count_yang = count_yang + 1\n",
    "\n",
    "    if s[i] >= 0 and s[i] <= 59 :\n",
    "        count_ga = count_ga + 1\n",
    "\n",
    "    i += 1\n",
    "print('수 : %d명' % count_su)\n",
    "print('우 : %d명' % count_woo)\n",
    "print('미 : %d명' % count_mi)\n",
    "print('양 : %d명' % count_yang)\n",
    "print('가 : %d명' % count_ga)"
   ]
  },
  {
   "cell_type": "code",
   "execution_count": 11,
   "metadata": {},
   "outputs": [
    {
     "name": "stdout",
     "output_type": "stream",
     "text": [
      "tr_in 에서 밑줄(_) 안에 들어갈 알파벳은?a\n",
      "0\n",
      "정답입니다!\n",
      "b_s 에서 밑줄(_) 안에 들어갈 알파벳은?a\n",
      "1\n",
      "틀렸습니다!\n",
      "_axi 에서 밑줄(_) 안에 들어갈 알파벳은?h\n",
      "2\n",
      "틀렸습니다!\n",
      "air_lane 에서 밑줄(_) 안에 들어갈 알파벳은?w\n",
      "3\n",
      "틀렸습니다!\n"
     ]
    }
   ],
   "source": [
    "questions = ['tr_in', 'b_s', '_axi', 'air_lane']\n",
    "answers   = ['a', 'u', 't','p']\n",
    "\n",
    "for i in range(len(questions)) :\n",
    "    q = '%s 에서 밑줄(_) 안에 들어갈 알파벳은?' % questions[i]\n",
    "    ans = input(q)\n",
    "    print(i)\n",
    "    if ans == answers[i] :\n",
    "        print('정답입니다!')\n",
    "    else :\n",
    "        print('틀렸습니다!')"
   ]
  },
  {
   "cell_type": "code",
   "execution_count": 14,
   "metadata": {},
   "outputs": [
    {
     "name": "stdout",
     "output_type": "stream",
     "text": [
      "1번째 학생의 합계 : 260, 평균 : 86.67\n",
      "2번째 학생의 합계 : 258, 평균 : 86.00\n",
      "3번째 학생의 합계 : 254, 평균 : 84.67\n",
      "4번째 학생의 합계 : 254, 평균 : 84.67\n",
      "5번째 학생의 합계 : 257, 평균 : 85.67\n",
      "6번째 학생의 합계 : 236, 평균 : 78.67\n",
      "7번째 학생의 합계 : 248, 평균 : 82.67\n",
      "8번째 학생의 합계 : 258, 평균 : 86.00\n"
     ]
    }
   ],
   "source": [
    "scores = [[96, 84, 80], [96, 86, 76], [76, 95, 83], [89, 96, 69], \\\n",
    "          [90, 76, 91], [82, 66, 88], [83, 86, 79], [85, 90, 83]]\n",
    "\n",
    "i = 0\n",
    "while i < len(scores) :\n",
    "    sum = 0\n",
    "    j = 0\n",
    "    while j < len(scores[i]) :\n",
    "        sum = sum + scores[i][j]\n",
    "        j += 1\n",
    "                \n",
    "    avg = sum/len(scores[i])\n",
    "    print('%d번째 학생의 합계 : %d, 평균 : %.2f' % (i+1, sum, avg))\n",
    "    i += 1\n",
    "    "
   ]
  },
  {
   "cell_type": "code",
   "execution_count": 19,
   "metadata": {},
   "outputs": [
    {
     "name": "stdout",
     "output_type": "stream",
     "text": [
      "성적을 입력하세요(종료 시 -1 입력): 75\n",
      "성적을 입력하세요(종료 시 -1 입력): 83\n",
      "성적을 입력하세요(종료 시 -1 입력): 88\n",
      "성적을 입력하세요(종료 시 -1 입력): 93\n",
      "성적을 입력하세요(종료 시 -1 입력): 97\n",
      "성적을 입력하세요(종료 시 -1 입력): -1\n",
      "합계 : 436, 평균 : 87.20\n"
     ]
    }
   ],
   "source": [
    "scores = []\n",
    "\n",
    "while True :\n",
    "    score = int(input('성적을 입력하세요(종료 시 -1 입력): '))\n",
    "\n",
    "    if score == -1 :\n",
    "        break\n",
    "    else :\n",
    "        scores.append(score)\n",
    "    \n",
    "sum = 0\n",
    "for i in range(0, len(scores)):\n",
    "    sum += scores[i]\n",
    "\n",
    "avg = sum / len(scores)\n",
    "\n",
    "print('합계 : %d, 평균 : %.2f' % (sum, avg))"
   ]
  },
  {
   "cell_type": "code",
   "execution_count": 26,
   "metadata": {},
   "outputs": [
    {
     "name": "stdout",
     "output_type": "stream",
     "text": [
      "  □  □  □  □  □  □  □  □  □  □\n",
      "  □  □  □  □  □  □  □  □  □  □\n",
      "  □  □  □  □  □  □  □  □  □  □\n",
      "  ■  ■  ■  □  □  □  □  □  ■  □\n",
      "  □  □  □  □  □  ■  □  □  □  □\n",
      "  □  ■  □  □  □  ■  □  ■  □  □\n",
      "  □  □  □  □  □  □  ■  □  □  □\n",
      "  ■  □  ■  □  □  □  □  □  □  ■\n",
      "\n",
      "※ 예약 가능 : ■, 예약 불가 : □\n"
     ]
    }
   ],
   "source": [
    "seats = [[0, 0, 0, 0, 0, 0, 0, 0, 0, 0],\\\n",
    "         [0, 0, 0, 0, 0, 0, 0, 0, 0, 0],\\\n",
    "         [0, 0, 0, 0, 0, 0, 0, 0, 0, 0],\\\n",
    "         [1, 1, 1, 0, 0, 0, 0, 0, 1, 0],\\\n",
    "         [0, 0, 0, 0, 0, 1, 0, 0, 0, 0],\\\n",
    "         [0, 1, 0, 0, 0, 1, 0, 1, 0, 0],\\\n",
    "         [0, 0, 0, 0, 0, 0, 1, 0, 0, 0],\\\n",
    "         [1, 0, 1, 0, 0, 0, 0, 0, 0, 1]]\n",
    "\n",
    "\n",
    "for i in range(len(seats)):\n",
    "    for j in range(len(seats[i])):\n",
    "        if seats[i][j] == 0 :\n",
    "            print('%3s' % '□', end='')\n",
    "        else :\n",
    "            print('%3s' % '■', end='')\n",
    "    print()\n",
    "    \n",
    "print('\\n※ 예약 가능 : ■, 예약 불가 : □')    "
   ]
  }
 ],
 "metadata": {
  "kernelspec": {
   "display_name": "Python 3",
   "language": "python",
   "name": "python3"
  },
  "language_info": {
   "codemirror_mode": {
    "name": "ipython",
    "version": 3
   },
   "file_extension": ".py",
   "mimetype": "text/x-python",
   "name": "python",
   "nbconvert_exporter": "python",
   "pygments_lexer": "ipython3",
   "version": "3.7.6"
  }
 },
 "nbformat": 4,
 "nbformat_minor": 4
}
