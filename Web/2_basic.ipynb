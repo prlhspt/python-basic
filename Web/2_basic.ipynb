{
 "cells": [
  {
   "cell_type": "code",
   "execution_count": 1,
   "metadata": {},
   "outputs": [],
   "source": [
    "from bs4 import BeautifulSoup"
   ]
  },
  {
   "cell_type": "code",
   "execution_count": 2,
   "metadata": {},
   "outputs": [],
   "source": [
    "with open('example2.html') as fp:\n",
    "    soup = BeautifulSoup(fp, 'html.parser')"
   ]
  },
  {
   "cell_type": "code",
   "execution_count": 6,
   "metadata": {},
   "outputs": [
    {
     "data": {
      "text/plain": [
       "['html',\n",
       " '\\n',\n",
       " <html>\n",
       " <head>\n",
       " <meta charset=\"utf-8\"/>\n",
       " <title>Very Simple HTML Code by PinkWink</title>\n",
       " </head>\n",
       " <body>\n",
       " <div>\n",
       " <p class=\"inner-text first-item\" id=\"first\">\n",
       "             Happy PinkWink.\n",
       "             <a href=\"http://www.pinkwink.kr\" id=\"pw-link\">PinkWink</a>\n",
       " </p>\n",
       " <p class=\"inner-text-second-item\">\n",
       "                 Happy Data Science.\n",
       "                 <a href=\"http://www.python.org\" id=\"py-link\">Python</a>\n",
       " </p>\n",
       " </div>\n",
       " <p class=\"outer-text first-item\" id=\"second\">\n",
       " <b>\n",
       "                 Data Science is funny.\n",
       "             </b>\n",
       " <p class=\"outer-text\">\n",
       " <b>\n",
       "                     Aii I need is love.\n",
       "                 </b>\n",
       " </p>\n",
       " </p>\n",
       " </body>\n",
       " </html>]"
      ]
     },
     "execution_count": 6,
     "metadata": {},
     "output_type": "execute_result"
    }
   ],
   "source": [
    "list(soup.children)"
   ]
  },
  {
   "cell_type": "code",
   "execution_count": 7,
   "metadata": {},
   "outputs": [
    {
     "data": {
      "text/plain": [
       "[<body>\n",
       " <div>\n",
       " <p class=\"inner-text first-item\" id=\"first\">\n",
       "             Happy PinkWink.\n",
       "             <a href=\"http://www.pinkwink.kr\" id=\"pw-link\">PinkWink</a>\n",
       " </p>\n",
       " <p class=\"inner-text-second-item\">\n",
       "                 Happy Data Science.\n",
       "                 <a href=\"http://www.python.org\" id=\"py-link\">Python</a>\n",
       " </p>\n",
       " </div>\n",
       " <p class=\"outer-text first-item\" id=\"second\">\n",
       " <b>\n",
       "                 Data Science is funny.\n",
       "             </b>\n",
       " <p class=\"outer-text\">\n",
       " <b>\n",
       "                     Aii I need is love.\n",
       "                 </b>\n",
       " </p>\n",
       " </p>\n",
       " </body>]"
      ]
     },
     "execution_count": 7,
     "metadata": {},
     "output_type": "execute_result"
    }
   ],
   "source": [
    "soup.find_all('body')"
   ]
  },
  {
   "cell_type": "code",
   "execution_count": 9,
   "metadata": {},
   "outputs": [
    {
     "data": {
      "text/plain": [
       "<body>\n",
       "<div>\n",
       "<p class=\"inner-text first-item\" id=\"first\">\n",
       "            Happy PinkWink.\n",
       "            <a href=\"http://www.pinkwink.kr\" id=\"pw-link\">PinkWink</a>\n",
       "</p>\n",
       "<p class=\"inner-text-second-item\">\n",
       "                Happy Data Science.\n",
       "                <a href=\"http://www.python.org\" id=\"py-link\">Python</a>\n",
       "</p>\n",
       "</div>\n",
       "<p class=\"outer-text first-item\" id=\"second\">\n",
       "<b>\n",
       "                Data Science is funny.\n",
       "            </b>\n",
       "<p class=\"outer-text\">\n",
       "<b>\n",
       "                    Aii I need is love.\n",
       "                </b>\n",
       "</p>\n",
       "</p>\n",
       "</body>"
      ]
     },
     "execution_count": 9,
     "metadata": {},
     "output_type": "execute_result"
    }
   ],
   "source": [
    "soup.body"
   ]
  },
  {
   "cell_type": "code",
   "execution_count": 10,
   "metadata": {},
   "outputs": [
    {
     "data": {
      "text/plain": [
       "[<p class=\"inner-text first-item\" id=\"first\">\n",
       "             Happy PinkWink.\n",
       "             <a href=\"http://www.pinkwink.kr\" id=\"pw-link\">PinkWink</a>\n",
       " </p>,\n",
       " <p class=\"inner-text-second-item\">\n",
       "                 Happy Data Science.\n",
       "                 <a href=\"http://www.python.org\" id=\"py-link\">Python</a>\n",
       " </p>,\n",
       " <p class=\"outer-text first-item\" id=\"second\">\n",
       " <b>\n",
       "                 Data Science is funny.\n",
       "             </b>\n",
       " <p class=\"outer-text\">\n",
       " <b>\n",
       "                     Aii I need is love.\n",
       "                 </b>\n",
       " </p>\n",
       " </p>,\n",
       " <p class=\"outer-text\">\n",
       " <b>\n",
       "                     Aii I need is love.\n",
       "                 </b>\n",
       " </p>]"
      ]
     },
     "execution_count": 10,
     "metadata": {},
     "output_type": "execute_result"
    }
   ],
   "source": [
    "all_ps = soup.find_all('p')\n",
    "all_ps"
   ]
  },
  {
   "cell_type": "code",
   "execution_count": 17,
   "metadata": {},
   "outputs": [
    {
     "data": {
      "text/plain": [
       "'\\n            Happy PinkWink.\\n            PinkWink\\n'"
      ]
     },
     "execution_count": 17,
     "metadata": {},
     "output_type": "execute_result"
    }
   ],
   "source": [
    "first_p = soup.find('p')\n",
    "first_p.get_text()"
   ]
  },
  {
   "cell_type": "code",
   "execution_count": 18,
   "metadata": {},
   "outputs": [
    {
     "data": {
      "text/plain": [
       "'PinkWink'"
      ]
     },
     "execution_count": 18,
     "metadata": {},
     "output_type": "execute_result"
    }
   ],
   "source": [
    "first_p.find('a').get_text()"
   ]
  },
  {
   "cell_type": "code",
   "execution_count": 19,
   "metadata": {},
   "outputs": [
    {
     "data": {
      "text/plain": [
       "[<p class=\"inner-text first-item\" id=\"first\">\n",
       "             Happy PinkWink.\n",
       "             <a href=\"http://www.pinkwink.kr\" id=\"pw-link\">PinkWink</a>\n",
       " </p>]"
      ]
     },
     "execution_count": 19,
     "metadata": {},
     "output_type": "execute_result"
    }
   ],
   "source": [
    "soup.find_all(class_='inner-text')"
   ]
  },
  {
   "cell_type": "code",
   "execution_count": 21,
   "metadata": {},
   "outputs": [
    {
     "data": {
      "text/plain": [
       "<p class=\"outer-text first-item\" id=\"second\">\n",
       "<b>\n",
       "                Data Science is funny.\n",
       "            </b>\n",
       "<p class=\"outer-text\">\n",
       "<b>\n",
       "                    Aii I need is love.\n",
       "                </b>\n",
       "</p>\n",
       "</p>"
      ]
     },
     "execution_count": 21,
     "metadata": {},
     "output_type": "execute_result"
    }
   ],
   "source": [
    "soup.find(id=\"second\")"
   ]
  },
  {
   "cell_type": "code",
   "execution_count": 22,
   "metadata": {},
   "outputs": [
    {
     "data": {
      "text/plain": [
       "[<a href=\"http://www.pinkwink.kr\" id=\"pw-link\">PinkWink</a>,\n",
       " <a href=\"http://www.python.org\" id=\"py-link\">Python</a>]"
      ]
     },
     "execution_count": 22,
     "metadata": {},
     "output_type": "execute_result"
    }
   ],
   "source": [
    "soup.find_all('a')"
   ]
  },
  {
   "cell_type": "code",
   "execution_count": 26,
   "metadata": {},
   "outputs": [
    {
     "name": "stdout",
     "output_type": "stream",
     "text": [
      "PinkWink: http://www.pinkwink.kr\n",
      "Python: http://www.python.org\n"
     ]
    }
   ],
   "source": [
    "links = soup.find_all('a')\n",
    "for link in links:\n",
    "    url = link['href']\n",
    "    site = link.get_text()\n",
    "    print('{}: {}'.format(site, url))"
   ]
  },
  {
   "cell_type": "code",
   "execution_count": 29,
   "metadata": {},
   "outputs": [],
   "source": [
    "from urllib.request import urlopen"
   ]
  },
  {
   "cell_type": "code",
   "execution_count": 31,
   "metadata": {},
   "outputs": [],
   "source": [
    "url = 'https://finance.naver.com/marketindex/'\n",
    "page = urlopen(url)\n",
    "\n",
    "soup = BeautifulSoup(page)"
   ]
  },
  {
   "cell_type": "code",
   "execution_count": 33,
   "metadata": {},
   "outputs": [
    {
     "data": {
      "text/plain": [
       "[<span class=\"value\">1,196.40</span>,\n",
       " <span class=\"value\">1,110.61</span>,\n",
       " <span class=\"value\">1,356.72</span>,\n",
       " <span class=\"value\">169.12</span>,\n",
       " <span class=\"value\">107.7100</span>,\n",
       " <span class=\"value\">1.1353</span>,\n",
       " <span class=\"value\">1.2722</span>,\n",
       " <span class=\"value\">96.3200</span>,\n",
       " <span class=\"value\">38.94</span>,\n",
       " <span class=\"value\">1307.71</span>,\n",
       " <span class=\"value\">1714.7</span>,\n",
       " <span class=\"value\">66040.8</span>]"
      ]
     },
     "execution_count": 33,
     "metadata": {},
     "output_type": "execute_result"
    }
   ],
   "source": [
    "soup.find_all(class_='value')"
   ]
  },
  {
   "cell_type": "code",
   "execution_count": 39,
   "metadata": {},
   "outputs": [],
   "source": [
    "market_data = soup.find(class_='market_data')\n",
    "lis = market_data.find_all('li')"
   ]
  },
  {
   "cell_type": "code",
   "execution_count": 42,
   "metadata": {},
   "outputs": [
    {
     "name": "stdout",
     "output_type": "stream",
     "text": [
      "미국 USD \t 1,196.40\n",
      "일본 JPY(100엔) \t 1,110.61\n",
      "유럽연합 EUR \t 1,356.72\n",
      "중국 CNY \t 169.12\n",
      "일본 엔/달러 \t 107.7100\n",
      "달러/유로 \t 1.1353\n",
      "달러/영국파운드 \t 1.2722\n",
      "달러인덱스 \t 96.3200\n",
      "WTI \t 38.94\n",
      "휘발유 \t 1307.71\n",
      "국제 금 \t 1714.7\n",
      "국내 금 \t 66040.8\n"
     ]
    }
   ],
   "source": [
    "for li in lis:\n",
    "    label = li.find(class_='blind')\n",
    "    value = li.find(class_='value')\n",
    "    print(label.get_text(), '\\t', value.get_text())"
   ]
  },
  {
   "cell_type": "code",
   "execution_count": 43,
   "metadata": {},
   "outputs": [],
   "source": [
    "import pandas as pd"
   ]
  },
  {
   "cell_type": "code",
   "execution_count": 46,
   "metadata": {},
   "outputs": [],
   "source": [
    "labels = []\n",
    "values = []\n",
    "for li in lis:\n",
    "    label = li.find(class_='blind')\n",
    "    value = li.find(class_='value')\n",
    "    labels.append(label.get_text())\n",
    "    values.append(value.get_text())"
   ]
  },
  {
   "cell_type": "code",
   "execution_count": 47,
   "metadata": {},
   "outputs": [
    {
     "name": "stdout",
     "output_type": "stream",
     "text": [
      "['미국 USD', '일본 JPY(100엔)', '유럽연합 EUR', '중국 CNY', '일본 엔/달러', '달러/유로', '달러/영국파운드', '달러인덱스', 'WTI', '휘발유', '국제 금', '국내 금']\n",
      "['1,196.40', '1,110.61', '1,356.72', '169.12', '107.7100', '1.1353', '1.2722', '96.3200', '38.94', '1307.71', '1714.7', '66040.8']\n"
     ]
    }
   ],
   "source": [
    "print(labels)\n",
    "print(values)"
   ]
  },
  {
   "cell_type": "code",
   "execution_count": 49,
   "metadata": {},
   "outputs": [],
   "source": [
    "eco_index = pd.DataFrame({'항목' : labels, '값' : values})"
   ]
  },
  {
   "cell_type": "code",
   "execution_count": 50,
   "metadata": {},
   "outputs": [
    {
     "data": {
      "text/html": [
       "<div>\n",
       "<style scoped>\n",
       "    .dataframe tbody tr th:only-of-type {\n",
       "        vertical-align: middle;\n",
       "    }\n",
       "\n",
       "    .dataframe tbody tr th {\n",
       "        vertical-align: top;\n",
       "    }\n",
       "\n",
       "    .dataframe thead th {\n",
       "        text-align: right;\n",
       "    }\n",
       "</style>\n",
       "<table border=\"1\" class=\"dataframe\">\n",
       "  <thead>\n",
       "    <tr style=\"text-align: right;\">\n",
       "      <th></th>\n",
       "      <th>항목</th>\n",
       "      <th>값</th>\n",
       "    </tr>\n",
       "  </thead>\n",
       "  <tbody>\n",
       "    <tr>\n",
       "      <th>0</th>\n",
       "      <td>미국 USD</td>\n",
       "      <td>1,196.40</td>\n",
       "    </tr>\n",
       "    <tr>\n",
       "      <th>1</th>\n",
       "      <td>일본 JPY(100엔)</td>\n",
       "      <td>1,110.61</td>\n",
       "    </tr>\n",
       "    <tr>\n",
       "      <th>2</th>\n",
       "      <td>유럽연합 EUR</td>\n",
       "      <td>1,356.72</td>\n",
       "    </tr>\n",
       "    <tr>\n",
       "      <th>3</th>\n",
       "      <td>중국 CNY</td>\n",
       "      <td>169.12</td>\n",
       "    </tr>\n",
       "    <tr>\n",
       "      <th>4</th>\n",
       "      <td>일본 엔/달러</td>\n",
       "      <td>107.7100</td>\n",
       "    </tr>\n",
       "    <tr>\n",
       "      <th>5</th>\n",
       "      <td>달러/유로</td>\n",
       "      <td>1.1353</td>\n",
       "    </tr>\n",
       "    <tr>\n",
       "      <th>6</th>\n",
       "      <td>달러/영국파운드</td>\n",
       "      <td>1.2722</td>\n",
       "    </tr>\n",
       "    <tr>\n",
       "      <th>7</th>\n",
       "      <td>달러인덱스</td>\n",
       "      <td>96.3200</td>\n",
       "    </tr>\n",
       "    <tr>\n",
       "      <th>8</th>\n",
       "      <td>WTI</td>\n",
       "      <td>38.94</td>\n",
       "    </tr>\n",
       "    <tr>\n",
       "      <th>9</th>\n",
       "      <td>휘발유</td>\n",
       "      <td>1307.71</td>\n",
       "    </tr>\n",
       "    <tr>\n",
       "      <th>10</th>\n",
       "      <td>국제 금</td>\n",
       "      <td>1714.7</td>\n",
       "    </tr>\n",
       "    <tr>\n",
       "      <th>11</th>\n",
       "      <td>국내 금</td>\n",
       "      <td>66040.8</td>\n",
       "    </tr>\n",
       "  </tbody>\n",
       "</table>\n",
       "</div>"
      ],
      "text/plain": [
       "              항목         값\n",
       "0         미국 USD  1,196.40\n",
       "1   일본 JPY(100엔)  1,110.61\n",
       "2       유럽연합 EUR  1,356.72\n",
       "3         중국 CNY    169.12\n",
       "4        일본 엔/달러  107.7100\n",
       "5          달러/유로    1.1353\n",
       "6       달러/영국파운드    1.2722\n",
       "7          달러인덱스   96.3200\n",
       "8            WTI     38.94\n",
       "9            휘발유   1307.71\n",
       "10          국제 금    1714.7\n",
       "11          국내 금   66040.8"
      ]
     },
     "execution_count": 50,
     "metadata": {},
     "output_type": "execute_result"
    }
   ],
   "source": [
    "eco_index"
   ]
  },
  {
   "cell_type": "code",
   "execution_count": null,
   "metadata": {},
   "outputs": [],
   "source": []
  }
 ],
 "metadata": {
  "kernelspec": {
   "display_name": "Python 3",
   "language": "python",
   "name": "python3"
  },
  "language_info": {
   "codemirror_mode": {
    "name": "ipython",
    "version": 3
   },
   "file_extension": ".py",
   "mimetype": "text/x-python",
   "name": "python",
   "nbconvert_exporter": "python",
   "pygments_lexer": "ipython3",
   "version": "3.7.6"
  }
 },
 "nbformat": 4,
 "nbformat_minor": 4
}
