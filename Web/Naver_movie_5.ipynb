{
 "cells": [
  {
   "cell_type": "markdown",
   "metadata": {
    "cell_style": "center"
   },
   "source": [
    "# Naver 영화 네티즌 평점 수집 - 미드웨이, 2019"
   ]
  },
  {
   "cell_type": "code",
   "execution_count": null,
   "metadata": {},
   "outputs": [],
   "source": []
  },
  {
   "cell_type": "code",
   "execution_count": null,
   "metadata": {},
   "outputs": [],
   "source": [
    "li.find(class_='score-_reple').find('a')['data-src']"
   ]
  },
  {
   "cell_type": "code",
   "execution_count": null,
   "metadata": {},
   "outputs": [],
   "source": []
  },
  {
   "cell_type": "code",
   "execution_count": 21,
   "metadata": {
    "ExecuteTime": {
     "end_time": "2020-06-11T04:29:30.674309Z",
     "start_time": "2020-06-11T04:29:30.671317Z"
    }
   },
   "outputs": [],
   "source": [
    "from bs4 import BeautifulSoup\n",
    "from urllib.request import urlopen"
   ]
  },
  {
   "cell_type": "code",
   "execution_count": 22,
   "metadata": {
    "ExecuteTime": {
     "end_time": "2020-06-11T04:29:31.389429Z",
     "start_time": "2020-06-11T04:29:31.197909Z"
    }
   },
   "outputs": [],
   "source": [
    "url_base = 'https://movie.naver.com'\n",
    "url_sub = '/movie/bi/mi/point.nhn?code=186615'\n",
    "\n",
    "html = urlopen(url_base + url_sub)\n",
    "soup = BeautifulSoup(html, 'html.parser')"
   ]
  },
  {
   "cell_type": "code",
   "execution_count": 23,
   "metadata": {
    "ExecuteTime": {
     "end_time": "2020-06-11T04:29:31.401364Z",
     "start_time": "2020-06-11T04:29:31.390393Z"
    }
   },
   "outputs": [
    {
     "data": {
      "text/plain": [
       "'/movie/bi/mi/pointWriteFormList.nhn?code=186615&type=after&isActualPointWriteExecute=false&isMileageSubscriptionAlready=false&isMileageSubscriptionReject=false'"
      ]
     },
     "execution_count": 23,
     "metadata": {},
     "output_type": "execute_result"
    }
   ],
   "source": [
    "## iframd의 src 주소값 필요\n",
    "ifr_url = soup.find('iframe')['src']\n",
    "ifr_url"
   ]
  },
  {
   "cell_type": "code",
   "execution_count": 24,
   "metadata": {
    "ExecuteTime": {
     "end_time": "2020-06-11T04:29:31.406351Z",
     "start_time": "2020-06-11T04:29:31.402362Z"
    }
   },
   "outputs": [],
   "source": [
    "# Review 건수 구하기"
   ]
  },
  {
   "cell_type": "code",
   "execution_count": 25,
   "metadata": {
    "ExecuteTime": {
     "end_time": "2020-06-11T04:29:31.638731Z",
     "start_time": "2020-06-11T04:29:31.551962Z"
    }
   },
   "outputs": [],
   "source": [
    "url = url_base + ifr_url\n",
    "html = urlopen(url)\n",
    "soup = BeautifulSoup(html, 'html.parser')"
   ]
  },
  {
   "cell_type": "code",
   "execution_count": 26,
   "metadata": {
    "ExecuteTime": {
     "end_time": "2020-06-11T04:29:31.708545Z",
     "start_time": "2020-06-11T04:29:31.703558Z"
    }
   },
   "outputs": [
    {
     "data": {
      "text/plain": [
       "<strong class=\"total\">관람객 평점 <em>4,813</em>건<button class=\"btn_review\" id=\"open-form-btn\">내 평점 등록</button></strong>"
      ]
     },
     "execution_count": 26,
     "metadata": {},
     "output_type": "execute_result"
    }
   ],
   "source": [
    "count = soup.find('strong', 'total')\n",
    "count"
   ]
  },
  {
   "cell_type": "code",
   "execution_count": 27,
   "metadata": {
    "ExecuteTime": {
     "end_time": "2020-06-11T04:29:32.241121Z",
     "start_time": "2020-06-11T04:29:32.236134Z"
    }
   },
   "outputs": [
    {
     "data": {
      "text/plain": [
       "<strong class=\"total\">관람객 평점 <em>4,813</em>건<button class=\"btn_review\" id=\"open-form-btn\">내 평점 등록</button></strong>"
      ]
     },
     "execution_count": 27,
     "metadata": {},
     "output_type": "execute_result"
    }
   ],
   "source": [
    "count3 = soup.find('strong', 'total')\n",
    "count3"
   ]
  },
  {
   "cell_type": "code",
   "execution_count": 28,
   "metadata": {
    "ExecuteTime": {
     "end_time": "2020-06-11T04:29:33.115780Z",
     "start_time": "2020-06-11T04:29:33.108799Z"
    }
   },
   "outputs": [
    {
     "data": {
      "text/plain": [
       "<strong class=\"total\">관람객 평점 <em>4,813</em>건<button class=\"btn_review\" id=\"open-form-btn\">내 평점 등록</button></strong>"
      ]
     },
     "execution_count": 28,
     "metadata": {},
     "output_type": "execute_result"
    }
   ],
   "source": [
    "count3 = soup.find('strong', 'total')\n",
    "count3"
   ]
  },
  {
   "cell_type": "code",
   "execution_count": 29,
   "metadata": {
    "ExecuteTime": {
     "end_time": "2020-06-11T04:29:33.420964Z",
     "start_time": "2020-06-11T04:29:33.415978Z"
    }
   },
   "outputs": [
    {
     "data": {
      "text/plain": [
       "'4,813'"
      ]
     },
     "execution_count": 29,
     "metadata": {},
     "output_type": "execute_result"
    }
   ],
   "source": [
    "count = count.find('em').string\n",
    "count"
   ]
  },
  {
   "cell_type": "code",
   "execution_count": 30,
   "metadata": {
    "ExecuteTime": {
     "end_time": "2020-06-11T04:29:33.725151Z",
     "start_time": "2020-06-11T04:29:33.718197Z"
    }
   },
   "outputs": [
    {
     "data": {
      "text/plain": [
       "<em>4,813</em>"
      ]
     },
     "execution_count": 30,
     "metadata": {},
     "output_type": "execute_result"
    }
   ],
   "source": [
    "count2 = soup.select('strong.total > em')[0]\n",
    "count2"
   ]
  },
  {
   "cell_type": "code",
   "execution_count": 31,
   "metadata": {
    "ExecuteTime": {
     "end_time": "2020-06-11T04:29:34.396377Z",
     "start_time": "2020-06-11T04:29:34.392367Z"
    }
   },
   "outputs": [
    {
     "data": {
      "text/plain": [
       "4813"
      ]
     },
     "execution_count": 31,
     "metadata": {},
     "output_type": "execute_result"
    }
   ],
   "source": [
    "count = int(count.replace(',',''))\n",
    "count"
   ]
  },
  {
   "cell_type": "code",
   "execution_count": 32,
   "metadata": {
    "ExecuteTime": {
     "end_time": "2020-06-11T04:29:35.266051Z",
     "start_time": "2020-06-11T04:29:35.262042Z"
    }
   },
   "outputs": [
    {
     "data": {
      "text/plain": [
       "482"
      ]
     },
     "execution_count": 32,
     "metadata": {},
     "output_type": "execute_result"
    }
   ],
   "source": [
    "import math\n",
    "loop_count = math.ceil(count/10)\n",
    "loop_count"
   ]
  },
  {
   "cell_type": "markdown",
   "metadata": {},
   "source": [
    "# 첫번째 페이지 리뷰, 평점 날짜 구하기\n",
    "- 한 개 리뷰에서 구하기"
   ]
  },
  {
   "cell_type": "code",
   "execution_count": 33,
   "metadata": {
    "ExecuteTime": {
     "end_time": "2020-06-11T04:29:41.462714Z",
     "start_time": "2020-06-11T04:29:41.425813Z"
    }
   },
   "outputs": [
    {
     "data": {
      "text/plain": [
       "<div class=\"score_result\">\n",
       "<ul>\n",
       "<li>\n",
       "<div class=\"star_score\">\n",
       "<span class=\"st_off\"><span class=\"st_on\" style=\"width:90.0%\"></span></span><em>9</em>\n",
       "</div>\n",
       "<div class=\"score_reple\">\n",
       "<p>\n",
       "<!-- 스포일러 컨텐츠로 처리되는지 여부 -->\n",
       "<span id=\"_filtered_ment_0\">\n",
       "\t\t\t\t\t\t\t\t\t\t\t\t\t\t\n",
       "\t\t\t\t\t\t\t\t\t\t\t\t\t\t\t\n",
       "\t\t\t\t\t\t\t\t\t\t\t\t\t\t\t\n",
       "\t\t\t\t\t\t\t\t\t\t\t\t\t\t\t\t미드웨이가 재밌으면 추천 백두산이 재밌으면 비추 \n",
       "\t\t\t\t\t\t\t\t\t\t\t\t\t\t\t\n",
       "\t\t\t\t\t\t\t\t\t\t\t\t\t\t\n",
       "\t\t\t\t\t\t\t\t\t\t\t\t\t\t\n",
       "\t\t\t\t\t\t\t\t\t\t\t\t\t</span>\n",
       "</p>\n",
       "<dl>\n",
       "<dt>\n",
       "<em>\n",
       "<a href=\"#\" onclick=\"javascript:showPointListByNid(16564107, 'after');parent.clickcr(this, 'ara.uid', '', '', event); return false;\" target=\"_top\">\n",
       "<span>낄낄쿨레(sunj****)</span>\n",
       "</a>\n",
       "</em>\n",
       "<em>2019.12.31 09:48</em>\n",
       "</dt>\n",
       "<dd>\n",
       "<a class=\"go_report2\" href=\"#\" onclick=\"parent.clickcr(this, 'ara.report', '', '', event); common.report('false','sunj****', 'TQj4sb4gdJkAafP/lvn5FWhJUijXIkAPD37hSC5E+z8=', '미드웨이가 재밌으면 추천 백두산이 재밌으면 비추 ', '16564107', 'point_after', false);return false;\"><em>신고</em></a>\n",
       "</dd>\n",
       "</dl>\n",
       "</div>\n",
       "<div class=\"btn_area\">\n",
       "<a class=\"_sympathyButton\" href=\"#\" onclick=\"parent.clickcr(this, 'ara.sym', '', '', event);\">\n",
       "<span class=\"ico_up\"></span>\n",
       "<span class=\"blind\">공감</span>\n",
       "<strong class=\"sympathy_16564107\">3372</strong>\n",
       "</a>\n",
       "<a class=\"_notSympathyButton\" href=\"#\" onclick=\"parent.clickcr(this, 'ara.opp', '', '', event);\">\n",
       "<span class=\"ico_down\"></span>\n",
       "<span class=\"blind\">비공감</span>\n",
       "<strong class=\"notSympathy_16564107\">341</strong>\n",
       "</a>\n",
       "</div>\n",
       "</li>\n",
       "<li>\n",
       "<div class=\"star_score\">\n",
       "<span class=\"st_off\"><span class=\"st_on\" style=\"width:100.0%\"></span></span><em>10</em>\n",
       "</div>\n",
       "<div class=\"score_reple\">\n",
       "<p>\n",
       "<!-- 스포일러 컨텐츠로 처리되는지 여부 -->\n",
       "<span id=\"_filtered_ment_1\">\n",
       "\t\t\t\t\t\t\t\t\t\t\t\t\t\t\n",
       "\t\t\t\t\t\t\t\t\t\t\t\t\t\t\t\n",
       "\t\t\t\t\t\t\t\t\t\t\t\t\t\t\t\n",
       "\t\t\t\t\t\t\t\t\t\t\t\t\t\t\t\t저 해전이 있었기에 우리나라 광복도 가능 했음 \n",
       "\t\t\t\t\t\t\t\t\t\t\t\t\t\t\t\n",
       "\t\t\t\t\t\t\t\t\t\t\t\t\t\t\n",
       "\t\t\t\t\t\t\t\t\t\t\t\t\t\t\n",
       "\t\t\t\t\t\t\t\t\t\t\t\t\t</span>\n",
       "</p>\n",
       "<dl>\n",
       "<dt>\n",
       "<em>\n",
       "<a href=\"#\" onclick=\"javascript:showPointListByNid(16564204, 'after');parent.clickcr(this, 'ara.uid', '', '', event); return false;\" target=\"_top\">\n",
       "<span>코주부육포(ffsa****)</span>\n",
       "</a>\n",
       "</em>\n",
       "<em>2019.12.31 10:41</em>\n",
       "</dt>\n",
       "<dd>\n",
       "<a class=\"go_report2\" href=\"#\" onclick=\"parent.clickcr(this, 'ara.report', '', '', event); common.report('false','ffsa****', 'd5SQ2Tm/T7eeVPYYcrSquhyBT9RADxjuiIE94HY2/AU=', '저 해전이 있었기에 우리나라 광복도 가능 했음 ', '16564204', 'point_after', false);return false;\"><em>신고</em></a>\n",
       "</dd>\n",
       "</dl>\n",
       "</div>\n",
       "<div class=\"btn_area\">\n",
       "<a class=\"_sympathyButton\" href=\"#\" onclick=\"parent.clickcr(this, 'ara.sym', '', '', event);\">\n",
       "<span class=\"ico_up\"></span>\n",
       "<span class=\"blind\">공감</span>\n",
       "<strong class=\"sympathy_16564204\">2122</strong>\n",
       "</a>\n",
       "<a class=\"_notSympathyButton\" href=\"#\" onclick=\"parent.clickcr(this, 'ara.opp', '', '', event);\">\n",
       "<span class=\"ico_down\"></span>\n",
       "<span class=\"blind\">비공감</span>\n",
       "<strong class=\"notSympathy_16564204\">126</strong>\n",
       "</a>\n",
       "</div>\n",
       "</li>\n",
       "<li>\n",
       "<div class=\"star_score\">\n",
       "<span class=\"st_off\"><span class=\"st_on\" style=\"width:100.0%\"></span></span><em>10</em>\n",
       "</div>\n",
       "<div class=\"score_reple\">\n",
       "<p>\n",
       "<!-- 스포일러 컨텐츠로 처리되는지 여부 -->\n",
       "<span id=\"_filtered_ment_2\">\n",
       "\t\t\t\t\t\t\t\t\t\t\t\t\t\t\n",
       "\t\t\t\t\t\t\t\t\t\t\t\t\t\t\t\n",
       "\t\t\t\t\t\t\t\t\t\t\t\t\t\t\t\n",
       "\t\t\t\t\t\t\t\t\t\t\t\t\t\t\t\t백두산 상영관 대폭줄이고 미드웨이 상영관 대폭늘려라 \n",
       "\t\t\t\t\t\t\t\t\t\t\t\t\t\t\t\n",
       "\t\t\t\t\t\t\t\t\t\t\t\t\t\t\n",
       "\t\t\t\t\t\t\t\t\t\t\t\t\t\t\n",
       "\t\t\t\t\t\t\t\t\t\t\t\t\t</span>\n",
       "</p>\n",
       "<dl>\n",
       "<dt>\n",
       "<em>\n",
       "<a href=\"#\" onclick=\"javascript:showPointListByNid(16564091, 'after');parent.clickcr(this, 'ara.uid', '', '', event); return false;\" target=\"_top\">\n",
       "<span>대만(wind****)</span>\n",
       "</a>\n",
       "</em>\n",
       "<em>2019.12.31 09:38</em>\n",
       "</dt>\n",
       "<dd>\n",
       "<a class=\"go_report2\" href=\"#\" onclick=\"parent.clickcr(this, 'ara.report', '', '', event); common.report('false','wind****', 'hZgjNmGkbZZfz+IKi5779FOa/aKROYjEKq8UFUXWxhw=', '백두산 상영관 대폭줄이고 미드웨이 상영관 대폭늘려라 ', '16564091', 'point_after', false);return false;\"><em>신고</em></a>\n",
       "</dd>\n",
       "</dl>\n",
       "</div>\n",
       "<div class=\"btn_area\">\n",
       "<a class=\"_sympathyButton\" href=\"#\" onclick=\"parent.clickcr(this, 'ara.sym', '', '', event);\">\n",
       "<span class=\"ico_up\"></span>\n",
       "<span class=\"blind\">공감</span>\n",
       "<strong class=\"sympathy_16564091\">1984</strong>\n",
       "</a>\n",
       "<a class=\"_notSympathyButton\" href=\"#\" onclick=\"parent.clickcr(this, 'ara.opp', '', '', event);\">\n",
       "<span class=\"ico_down\"></span>\n",
       "<span class=\"blind\">비공감</span>\n",
       "<strong class=\"notSympathy_16564091\">147</strong>\n",
       "</a>\n",
       "</div>\n",
       "</li>\n",
       "<li>\n",
       "<div class=\"star_score\">\n",
       "<span class=\"st_off\"><span class=\"st_on\" style=\"width:100.0%\"></span></span><em>10</em>\n",
       "</div>\n",
       "<div class=\"score_reple\">\n",
       "<p>\n",
       "<!-- 스포일러 컨텐츠로 처리되는지 여부 -->\n",
       "<span id=\"_filtered_ment_3\">\n",
       "\t\t\t\t\t\t\t\t\t\t\t\t\t\t\n",
       "\t\t\t\t\t\t\t\t\t\t\t\t\t\t\t\n",
       "\t\t\t\t\t\t\t\t\t\t\t\t\t\t\t\n",
       "\t\t\t\t\t\t\t\t\t\t\t\t\t\t\t\t방금 개봉했는데 1점 준애는 뭐냐 ㅋㅋ 일본놈이냐? 이제 광고돌고 있을 시간이다. \n",
       "\t\t\t\t\t\t\t\t\t\t\t\t\t\t\t\n",
       "\t\t\t\t\t\t\t\t\t\t\t\t\t\t\n",
       "\t\t\t\t\t\t\t\t\t\t\t\t\t\t\n",
       "\t\t\t\t\t\t\t\t\t\t\t\t\t</span>\n",
       "</p>\n",
       "<dl>\n",
       "<dt>\n",
       "<em>\n",
       "<a href=\"#\" onclick=\"javascript:showPointListByNid(16564034, 'after');parent.clickcr(this, 'ara.uid', '', '', event); return false;\" target=\"_top\">\n",
       "<span>smshin(ssm4****)</span>\n",
       "</a>\n",
       "</em>\n",
       "<em>2019.12.31 09:14</em>\n",
       "</dt>\n",
       "<dd>\n",
       "<a class=\"go_report2\" href=\"#\" onclick=\"parent.clickcr(this, 'ara.report', '', '', event); common.report('false','ssm4****', 'OwZBHtBQhpPyRucCgzG+GXy80TVDYJI8d301lrAeKyQ=', '방금 개봉했는데 1점 준애는 뭐냐 ㅋㅋ 일본놈이냐? 이제 광고돌고 있을 시간이다. ', '16564034', 'point_after', false);return false;\"><em>신고</em></a>\n",
       "</dd>\n",
       "</dl>\n",
       "</div>\n",
       "<div class=\"btn_area\">\n",
       "<a class=\"_sympathyButton\" href=\"#\" onclick=\"parent.clickcr(this, 'ara.sym', '', '', event);\">\n",
       "<span class=\"ico_up\"></span>\n",
       "<span class=\"blind\">공감</span>\n",
       "<strong class=\"sympathy_16564034\">1289</strong>\n",
       "</a>\n",
       "<a class=\"_notSympathyButton\" href=\"#\" onclick=\"parent.clickcr(this, 'ara.opp', '', '', event);\">\n",
       "<span class=\"ico_down\"></span>\n",
       "<span class=\"blind\">비공감</span>\n",
       "<strong class=\"notSympathy_16564034\">108</strong>\n",
       "</a>\n",
       "</div>\n",
       "</li>\n",
       "<li>\n",
       "<div class=\"star_score\">\n",
       "<span class=\"st_off\"><span class=\"st_on\" style=\"width:100.0%\"></span></span><em>10</em>\n",
       "</div>\n",
       "<div class=\"score_reple\">\n",
       "<p>\n",
       "<span class=\"ico_viewer\">관람객</span>\n",
       "<!-- 스포일러 컨텐츠로 처리되는지 여부 -->\n",
       "<span id=\"_filtered_ment_4\">\n",
       "\t\t\t\t\t\t\t\t\t\t\t\t\t\t\n",
       "\t\t\t\t\t\t\t\t\t\t\t\t\t\t\t\n",
       "\t\t\t\t\t\t\t\t\t\t\t\t\t\t\t\n",
       "\t\t\t\t\t\t\t\t\t\t\t\t\t\t\t\t교과서에는 미드웨이 해전에서 미국이 승리했다고 한 줄로 서술되어 있지만 단순히 한 줄로 설명할 수 없는 파란만장했던 전쟁. \n",
       "\t\t\t\t\t\t\t\t\t\t\t\t\t\t\t\n",
       "\t\t\t\t\t\t\t\t\t\t\t\t\t\t\n",
       "\t\t\t\t\t\t\t\t\t\t\t\t\t\t\n",
       "\t\t\t\t\t\t\t\t\t\t\t\t\t</span>\n",
       "</p>\n",
       "<dl>\n",
       "<dt>\n",
       "<em>\n",
       "<a href=\"#\" onclick=\"javascript:showPointListByNid(16566092, 'after');parent.clickcr(this, 'ara.uid', '', '', event); return false;\" target=\"_top\">\n",
       "<span>꼬깔콘의마술사(topm****)</span>\n",
       "</a>\n",
       "</em>\n",
       "<em>2019.12.31 19:58</em>\n",
       "</dt>\n",
       "<dd>\n",
       "<a class=\"go_report2\" href=\"#\" onclick=\"parent.clickcr(this, 'ara.report', '', '', event); common.report('false','topm****', 'U6LYChAfU5Qhizbhegux9q0D9LEeoDCSpjMHvLh0A70=', '교과서에는 미드웨이 해전에서 미국이 승리했다고 한 줄로 서술되어 있지만 단순히 한 줄로 설명할 수 없는 파란만장했던 전쟁. ', '16566092', 'point_after', false);return false;\"><em>신고</em></a>\n",
       "</dd>\n",
       "</dl>\n",
       "</div>\n",
       "<div class=\"btn_area\">\n",
       "<a class=\"_sympathyButton\" href=\"#\" onclick=\"parent.clickcr(this, 'ara.sym', '', '', event);\">\n",
       "<span class=\"ico_up\"></span>\n",
       "<span class=\"blind\">공감</span>\n",
       "<strong class=\"sympathy_16566092\">1046</strong>\n",
       "</a>\n",
       "<a class=\"_notSympathyButton\" href=\"#\" onclick=\"parent.clickcr(this, 'ara.opp', '', '', event);\">\n",
       "<span class=\"ico_down\"></span>\n",
       "<span class=\"blind\">비공감</span>\n",
       "<strong class=\"notSympathy_16566092\">34</strong>\n",
       "</a>\n",
       "</div>\n",
       "</li>\n",
       "<li>\n",
       "<div class=\"star_score\">\n",
       "<span class=\"st_off\"><span class=\"st_on\" style=\"width:100.0%\"></span></span><em>10</em>\n",
       "</div>\n",
       "<div class=\"score_reple\">\n",
       "<p>\n",
       "<!-- 스포일러 컨텐츠로 처리되는지 여부 -->\n",
       "<span id=\"_filtered_ment_5\">\n",
       "\t\t\t\t\t\t\t\t\t\t\t\t\t\t\n",
       "\t\t\t\t\t\t\t\t\t\t\t\t\t\t\t\n",
       "\t\t\t\t\t\t\t\t\t\t\t\t\t\t\t\n",
       "\t\t\t\t\t\t\t\t\t\t\t\t\t\t\t\t스케일 겁나커서 보는내내 입벌리고 봣네욬ㅋㅋ재밋습니다 \n",
       "\t\t\t\t\t\t\t\t\t\t\t\t\t\t\t\n",
       "\t\t\t\t\t\t\t\t\t\t\t\t\t\t\n",
       "\t\t\t\t\t\t\t\t\t\t\t\t\t\t\n",
       "\t\t\t\t\t\t\t\t\t\t\t\t\t</span>\n",
       "</p>\n",
       "<dl>\n",
       "<dt>\n",
       "<em>\n",
       "<a href=\"#\" onclick=\"javascript:showPointListByNid(16564067, 'after');parent.clickcr(this, 'ara.uid', '', '', event); return false;\" target=\"_top\">\n",
       "<span>john(john****)</span>\n",
       "</a>\n",
       "</em>\n",
       "<em>2019.12.31 09:29</em>\n",
       "</dt>\n",
       "<dd>\n",
       "<a class=\"go_report2\" href=\"#\" onclick=\"parent.clickcr(this, 'ara.report', '', '', event); common.report('false','john****', 'JY7xo/LYCfQQwsUTFjEAu1CdjeOylCmD/S5yTPt3zDU=', '스케일 겁나커서 보는내내 입벌리고 봣네욬ㅋㅋ재밋습니다 ', '16564067', 'point_after', false);return false;\"><em>신고</em></a>\n",
       "</dd>\n",
       "</dl>\n",
       "</div>\n",
       "<div class=\"btn_area\">\n",
       "<a class=\"_sympathyButton\" href=\"#\" onclick=\"parent.clickcr(this, 'ara.sym', '', '', event);\">\n",
       "<span class=\"ico_up\"></span>\n",
       "<span class=\"blind\">공감</span>\n",
       "<strong class=\"sympathy_16564067\">1036</strong>\n",
       "</a>\n",
       "<a class=\"_notSympathyButton\" href=\"#\" onclick=\"parent.clickcr(this, 'ara.opp', '', '', event);\">\n",
       "<span class=\"ico_down\"></span>\n",
       "<span class=\"blind\">비공감</span>\n",
       "<strong class=\"notSympathy_16564067\">53</strong>\n",
       "</a>\n",
       "</div>\n",
       "</li>\n",
       "<li>\n",
       "<div class=\"star_score\">\n",
       "<span class=\"st_off\"><span class=\"st_on\" style=\"width:100.0%\"></span></span><em>10</em>\n",
       "</div>\n",
       "<div class=\"score_reple\">\n",
       "<p>\n",
       "<!-- 스포일러 컨텐츠로 처리되는지 여부 -->\n",
       "<span id=\"_filtered_ment_6\">\n",
       "\t\t\t\t\t\t\t\t\t\t\t\t\t\t\n",
       "\t\t\t\t\t\t\t\t\t\t\t\t\t\t\t\n",
       "\t\t\t\t\t\t\t\t\t\t\t\t\t\t\t\n",
       "\t\t\t\t\t\t\t\t\t\t\t\t\t\t\t\t안보면후회함 백두산보다낫다 \n",
       "\t\t\t\t\t\t\t\t\t\t\t\t\t\t\t\n",
       "\t\t\t\t\t\t\t\t\t\t\t\t\t\t\n",
       "\t\t\t\t\t\t\t\t\t\t\t\t\t\t\n",
       "\t\t\t\t\t\t\t\t\t\t\t\t\t</span>\n",
       "</p>\n",
       "<dl>\n",
       "<dt>\n",
       "<em>\n",
       "<a href=\"#\" onclick=\"javascript:showPointListByNid(16564119, 'after');parent.clickcr(this, 'ara.uid', '', '', event); return false;\" target=\"_top\">\n",
       "<span>YUTO(xogu****)</span>\n",
       "</a>\n",
       "</em>\n",
       "<em>2019.12.31 09:52</em>\n",
       "</dt>\n",
       "<dd>\n",
       "<a class=\"go_report2\" href=\"#\" onclick=\"parent.clickcr(this, 'ara.report', '', '', event); common.report('false','xogu****', '7+IokZw2VCgRIwtVSV1Kl5wHVKQMl/xl/cJhOYCYw0Y=', '안보면후회함 백두산보다낫다 ', '16564119', 'point_after', false);return false;\"><em>신고</em></a>\n",
       "</dd>\n",
       "</dl>\n",
       "</div>\n",
       "<div class=\"btn_area\">\n",
       "<a class=\"_sympathyButton\" href=\"#\" onclick=\"parent.clickcr(this, 'ara.sym', '', '', event);\">\n",
       "<span class=\"ico_up\"></span>\n",
       "<span class=\"blind\">공감</span>\n",
       "<strong class=\"sympathy_16564119\">823</strong>\n",
       "</a>\n",
       "<a class=\"_notSympathyButton\" href=\"#\" onclick=\"parent.clickcr(this, 'ara.opp', '', '', event);\">\n",
       "<span class=\"ico_down\"></span>\n",
       "<span class=\"blind\">비공감</span>\n",
       "<strong class=\"notSympathy_16564119\">64</strong>\n",
       "</a>\n",
       "</div>\n",
       "</li>\n",
       "<li>\n",
       "<div class=\"star_score\">\n",
       "<span class=\"st_off\"><span class=\"st_on\" style=\"width:100.0%\"></span></span><em>10</em>\n",
       "</div>\n",
       "<div class=\"score_reple\">\n",
       "<p>\n",
       "<!-- 스포일러 컨텐츠로 처리되는지 여부 -->\n",
       "<span id=\"_filtered_ment_7\">\n",
       "\t\t\t\t\t\t\t\t\t\t\t\t\t\t\n",
       "\t\t\t\t\t\t\t\t\t\t\t\t\t\t\t\n",
       "\t\t\t\t\t\t\t\t\t\t\t\t\t\t\t\n",
       "\t\t\t\t\t\t\t\t\t\t\t\t\t\t\t\t재밌으면 추천 재미없으면 비추천 눌러주십쇼 형님들 \n",
       "\t\t\t\t\t\t\t\t\t\t\t\t\t\t\t\n",
       "\t\t\t\t\t\t\t\t\t\t\t\t\t\t\n",
       "\t\t\t\t\t\t\t\t\t\t\t\t\t\t\n",
       "\t\t\t\t\t\t\t\t\t\t\t\t\t</span>\n",
       "</p>\n",
       "<dl>\n",
       "<dt>\n",
       "<em>\n",
       "<a href=\"#\" onclick=\"javascript:showPointListByNid(16564017, 'after');parent.clickcr(this, 'ara.uid', '', '', event); return false;\" target=\"_top\">\n",
       "<span>Abc123(fowe****)</span>\n",
       "</a>\n",
       "</em>\n",
       "<em>2019.12.31 09:01</em>\n",
       "</dt>\n",
       "<dd>\n",
       "<a class=\"go_report2\" href=\"#\" onclick=\"parent.clickcr(this, 'ara.report', '', '', event); common.report('false','fowe****', 'NMqANBslGVuIrcMqAwOT5K2qa8MYzr5Gt2OJdlZbXhw=', '재밌으면 추천 재미없으면 비추천 눌러주십쇼 형님들 ', '16564017', 'point_after', false);return false;\"><em>신고</em></a>\n",
       "</dd>\n",
       "</dl>\n",
       "</div>\n",
       "<div class=\"btn_area\">\n",
       "<a class=\"_sympathyButton\" href=\"#\" onclick=\"parent.clickcr(this, 'ara.sym', '', '', event);\">\n",
       "<span class=\"ico_up\"></span>\n",
       "<span class=\"blind\">공감</span>\n",
       "<strong class=\"sympathy_16564017\">722</strong>\n",
       "</a>\n",
       "<a class=\"_notSympathyButton\" href=\"#\" onclick=\"parent.clickcr(this, 'ara.opp', '', '', event);\">\n",
       "<span class=\"ico_down\"></span>\n",
       "<span class=\"blind\">비공감</span>\n",
       "<strong class=\"notSympathy_16564017\">69</strong>\n",
       "</a>\n",
       "</div>\n",
       "</li>\n",
       "<li>\n",
       "<div class=\"star_score\">\n",
       "<span class=\"st_off\"><span class=\"st_on\" style=\"width:100.0%\"></span></span><em>10</em>\n",
       "</div>\n",
       "<div class=\"score_reple\">\n",
       "<p>\n",
       "<!-- 스포일러 컨텐츠로 처리되는지 여부 -->\n",
       "<span id=\"_filtered_ment_8\">\n",
       "\t\t\t\t\t\t\t\t\t\t\t\t\t\t\n",
       "\t\t\t\t\t\t\t\t\t\t\t\t\t\t\t\n",
       "\t\t\t\t\t\t\t\t\t\t\t\t\t\t\t\n",
       "\t\t\t\t\t\t\t\t\t\t\t\t\t\t\t\t일본의 최대 실수는 미국을 건드린거다 그 대가로 원폭 처맞고 멸망함ㅋㅋㅋ지금 하는 짓거리보면 아직 더 맞아야 될듯 \n",
       "\t\t\t\t\t\t\t\t\t\t\t\t\t\t\t\n",
       "\t\t\t\t\t\t\t\t\t\t\t\t\t\t\n",
       "\t\t\t\t\t\t\t\t\t\t\t\t\t\t\n",
       "\t\t\t\t\t\t\t\t\t\t\t\t\t</span>\n",
       "</p>\n",
       "<dl>\n",
       "<dt>\n",
       "<em>\n",
       "<a href=\"#\" onclick=\"javascript:showPointListByNid(16565390, 'after');parent.clickcr(this, 'ara.uid', '', '', event); return false;\" target=\"_top\">\n",
       "<span>푸른하늘(kazw****)</span>\n",
       "</a>\n",
       "</em>\n",
       "<em>2019.12.31 16:37</em>\n",
       "</dt>\n",
       "<dd>\n",
       "<a class=\"go_report2\" href=\"#\" onclick=\"parent.clickcr(this, 'ara.report', '', '', event); common.report('false','kazw****', '7lsdx4b+hCkgKeMFysmlrwwTB3fG/ezlpdYDJ3QaJd0=', '일본의 최대 실수는 미국을 건드린거다 그 대가로 원폭 처맞고 멸망함ㅋㅋㅋ지금 하는 짓거리보면 아직 더 맞아야 될듯 ', '16565390', 'point_after', false);return false;\"><em>신고</em></a>\n",
       "</dd>\n",
       "</dl>\n",
       "</div>\n",
       "<div class=\"btn_area\">\n",
       "<a class=\"_sympathyButton\" href=\"#\" onclick=\"parent.clickcr(this, 'ara.sym', '', '', event);\">\n",
       "<span class=\"ico_up\"></span>\n",
       "<span class=\"blind\">공감</span>\n",
       "<strong class=\"sympathy_16565390\">680</strong>\n",
       "</a>\n",
       "<a class=\"_notSympathyButton\" href=\"#\" onclick=\"parent.clickcr(this, 'ara.opp', '', '', event);\">\n",
       "<span class=\"ico_down\"></span>\n",
       "<span class=\"blind\">비공감</span>\n",
       "<strong class=\"notSympathy_16565390\">50</strong>\n",
       "</a>\n",
       "</div>\n",
       "</li>\n",
       "<li class=\"last\">\n",
       "<div class=\"star_score\">\n",
       "<span class=\"st_off\"><span class=\"st_on\" style=\"width:80.0%\"></span></span><em>8</em>\n",
       "</div>\n",
       "<div class=\"score_reple\">\n",
       "<p>\n",
       "<!-- 스포일러 컨텐츠로 처리되는지 여부 -->\n",
       "<span id=\"_filtered_ment_9\">\n",
       "<span class=\"_unfold_ment\" id=\"_unfold_ment9\">\n",
       "<a data-src=\"아니 에머리히 감독이 스토리에 고증을 철저히 지키다니 안믿긴다..(진짜 실제인물에 장면 하나하나가 거의 다 사실인건 솔직히 놀랍네요)(영화에 대한 팩트들)1.제작비는 500억이 아니라 1100억이고 2.소니가 진짜로 20년전에 미드웨이 영화화 반대했고3.평론가 평가가 안좋다?..진주만 보다 20점 높은 44점입니다.(전쟁 영화로써 좋은 점수입니다)4.고증이 안좋다?..스토리 고증은 정말 철저하고 전투기 등등의 디테일은 비슷하지만 완전 정확하진 않음5.중국이 나온다?:나옵니다..하지만 역사적 사실이고 일본은 당시에 미군을 도와준 중국을 보복했죠.(영화는 소니의 반대로 뒤늦게 20년만에 독립영화로 만들어졌는데 1100억의 제작비로 이정도로 강렬한 운명의 5분 미드웨이 해전을 보여준건 놀랍네요) \" href=\"javascript:void(0);\" onclick=\"unfoldPointMent(this);\">\n",
       "\t\t\t\t\t\t\t\t\t\t\t\t\t\t\t\t\t\t아니 에머리히 감독이 스토리에 고증을 철저히 지키다니 안믿긴다..(진짜 실제인물에 장면 하나하나가 거의 다 사실인건 솔직히 놀랍네요)(영화에 대한 팩트들)1.제작비는 500억이 아니라 1100억이고 2.소니가 진짜로...\n",
       "\t\t\t\t\t\t\t\t\t\t\t\t\t\t\t\t\t</a>\n",
       "</span>\n",
       "</span>\n",
       "</p>\n",
       "<dl>\n",
       "<dt>\n",
       "<em>\n",
       "<a href=\"#\" onclick=\"javascript:showPointListByNid(16564157, 'after');parent.clickcr(this, 'ara.uid', '', '', event); return false;\" target=\"_top\">\n",
       "<span>이조이(joyl****)</span>\n",
       "</a>\n",
       "</em>\n",
       "<em>2019.12.31 10:14</em>\n",
       "</dt>\n",
       "<dd>\n",
       "<a class=\"go_report2\" href=\"#\" onclick=\"parent.clickcr(this, 'ara.report', '', '', event); common.report('false','joyl****', 'dCkgeYRNCOByALuCbmSM8NfQniFvdNWQcJVq5UAp15o=', '아니 에머리히 감독이 스토리에 고증을 철저히 지키다니 안믿긴다..(진짜 실제인물에 장면 하나하나가 거의 다 사실인건 솔직히 놀랍네요)(영화에 대한 팩트들)1.제작비는 500억이 아니라 1100억이고 2.소니가 진짜로 20년전에 미드웨이 영화화 반대했고3.평론가 평가가 안좋다?..진주만 보다 20점 높은 44점입니다.(전쟁 영화로써 좋은 점수입니다)4.고증이 안좋다?..스토리 고증은 정말 철저하고 전투기 등등의 디테일은 비슷하지만 완전 정확하진 않음5.중국이 나온다?:나옵니다..하지만 역사적 사실이고 일본은 당시에 미군을 도와준 중국을 보복했죠.(영화는 소니의 반대로 뒤늦게 20년만에 독립영화로 만들어졌는데 1100억의 제작비로 이정도로 강렬한 운명의 5분 미드웨이 해전을 보여준건 놀랍네요) ', '16564157', 'point_after', false);return false;\"><em>신고</em></a>\n",
       "</dd>\n",
       "</dl>\n",
       "</div>\n",
       "<div class=\"btn_area\">\n",
       "<a class=\"_sympathyButton\" href=\"#\" onclick=\"parent.clickcr(this, 'ara.sym', '', '', event);\">\n",
       "<span class=\"ico_up\"></span>\n",
       "<span class=\"blind\">공감</span>\n",
       "<strong class=\"sympathy_16564157\">655</strong>\n",
       "</a>\n",
       "<a class=\"_notSympathyButton\" href=\"#\" onclick=\"parent.clickcr(this, 'ara.opp', '', '', event);\">\n",
       "<span class=\"ico_down\"></span>\n",
       "<span class=\"blind\">비공감</span>\n",
       "<strong class=\"notSympathy_16564157\">28</strong>\n",
       "</a>\n",
       "</div>\n",
       "</li>\n",
       "</ul>\n",
       "</div>"
      ]
     },
     "execution_count": 33,
     "metadata": {},
     "output_type": "execute_result"
    }
   ],
   "source": [
    "results = soup.find(class_='score_result')\n",
    "results"
   ]
  },
  {
   "cell_type": "code",
   "execution_count": 55,
   "metadata": {
    "ExecuteTime": {
     "end_time": "2020-06-11T04:41:30.373085Z",
     "start_time": "2020-06-11T04:41:30.369095Z"
    }
   },
   "outputs": [],
   "source": [
    "lis = results.find_all('li')\n",
    "li = lis[0]"
   ]
  },
  {
   "cell_type": "code",
   "execution_count": 35,
   "metadata": {
    "ExecuteTime": {
     "end_time": "2020-06-11T04:29:51.300408Z",
     "start_time": "2020-06-11T04:29:51.295421Z"
    }
   },
   "outputs": [
    {
     "data": {
      "text/plain": [
       "'9'"
      ]
     },
     "execution_count": 35,
     "metadata": {},
     "output_type": "execute_result"
    }
   ],
   "source": [
    "score = li.find(class_='star_score').find('em').string\n",
    "score"
   ]
  },
  {
   "cell_type": "code",
   "execution_count": 36,
   "metadata": {
    "ExecuteTime": {
     "end_time": "2020-06-11T04:29:51.655457Z",
     "start_time": "2020-06-11T04:29:51.648477Z"
    }
   },
   "outputs": [
    {
     "data": {
      "text/plain": [
       "<div class=\"score_reple\">\n",
       "<p>\n",
       "<!-- 스포일러 컨텐츠로 처리되는지 여부 -->\n",
       "<span id=\"_filtered_ment_0\">\n",
       "\t\t\t\t\t\t\t\t\t\t\t\t\t\t\n",
       "\t\t\t\t\t\t\t\t\t\t\t\t\t\t\t\n",
       "\t\t\t\t\t\t\t\t\t\t\t\t\t\t\t\n",
       "\t\t\t\t\t\t\t\t\t\t\t\t\t\t\t\t미드웨이가 재밌으면 추천 백두산이 재밌으면 비추 \n",
       "\t\t\t\t\t\t\t\t\t\t\t\t\t\t\t\n",
       "\t\t\t\t\t\t\t\t\t\t\t\t\t\t\n",
       "\t\t\t\t\t\t\t\t\t\t\t\t\t\t\n",
       "\t\t\t\t\t\t\t\t\t\t\t\t\t</span>\n",
       "</p>\n",
       "<dl>\n",
       "<dt>\n",
       "<em>\n",
       "<a href=\"#\" onclick=\"javascript:showPointListByNid(16564107, 'after');parent.clickcr(this, 'ara.uid', '', '', event); return false;\" target=\"_top\">\n",
       "<span>낄낄쿨레(sunj****)</span>\n",
       "</a>\n",
       "</em>\n",
       "<em>2019.12.31 09:48</em>\n",
       "</dt>\n",
       "<dd>\n",
       "<a class=\"go_report2\" href=\"#\" onclick=\"parent.clickcr(this, 'ara.report', '', '', event); common.report('false','sunj****', 'TQj4sb4gdJkAafP/lvn5FWhJUijXIkAPD37hSC5E+z8=', '미드웨이가 재밌으면 추천 백두산이 재밌으면 비추 ', '16564107', 'point_after', false);return false;\"><em>신고</em></a>\n",
       "</dd>\n",
       "</dl>\n",
       "</div>"
      ]
     },
     "execution_count": 36,
     "metadata": {},
     "output_type": "execute_result"
    }
   ],
   "source": [
    "review = li.find(class_='score_reple')\n",
    "review"
   ]
  },
  {
   "cell_type": "code",
   "execution_count": 37,
   "metadata": {
    "ExecuteTime": {
     "end_time": "2020-06-11T04:29:53.509501Z",
     "start_time": "2020-06-11T04:29:53.504514Z"
    }
   },
   "outputs": [
    {
     "data": {
      "text/plain": [
       "'\\r\\n\\t\\t\\t\\t\\t\\t\\t\\t\\t\\t\\t\\t\\t\\t\\r\\n\\t\\t\\t\\t\\t\\t\\t\\t\\t\\t\\t\\t\\t\\t\\t\\r\\n\\t\\t\\t\\t\\t\\t\\t\\t\\t\\t\\t\\t\\t\\t\\t\\r\\n\\t\\t\\t\\t\\t\\t\\t\\t\\t\\t\\t\\t\\t\\t\\t\\t미드웨이가 재밌으면 추천 백두산이 재밌으면 비추 \\r\\n\\t\\t\\t\\t\\t\\t\\t\\t\\t\\t\\t\\t\\t\\t\\t\\r\\n\\t\\t\\t\\t\\t\\t\\t\\t\\t\\t\\t\\t\\t\\t\\r\\n\\t\\t\\t\\t\\t\\t\\t\\t\\t\\t\\t\\t\\t\\t\\r\\n\\t\\t\\t\\t\\t\\t\\t\\t\\t\\t\\t\\t\\t'"
      ]
     },
     "execution_count": 37,
     "metadata": {},
     "output_type": "execute_result"
    }
   ],
   "source": [
    "li.find(class_='score_reple').find('p').find('span').get_text()"
   ]
  },
  {
   "cell_type": "code",
   "execution_count": 38,
   "metadata": {
    "ExecuteTime": {
     "end_time": "2020-06-11T04:29:53.853668Z",
     "start_time": "2020-06-11T04:29:53.848682Z"
    }
   },
   "outputs": [
    {
     "data": {
      "text/plain": [
       "'미드웨이가 재밌으면 추천 백두산이 재밌으면 비추'"
      ]
     },
     "execution_count": 38,
     "metadata": {},
     "output_type": "execute_result"
    }
   ],
   "source": [
    "li.find(class_='score_reple').find('p').find('span').get_text().strip()"
   ]
  },
  {
   "cell_type": "code",
   "execution_count": 39,
   "metadata": {
    "ExecuteTime": {
     "end_time": "2020-06-11T04:29:54.272548Z",
     "start_time": "2020-06-11T04:29:54.265567Z"
    }
   },
   "outputs": [
    {
     "data": {
      "text/plain": [
       "'미드웨이가 재밌으면 추천 백두산이 재밌으면 비추'"
      ]
     },
     "execution_count": 39,
     "metadata": {},
     "output_type": "execute_result"
    }
   ],
   "source": [
    "review_d = soup.select('span#_filtered_ment_0')[0]\n",
    "review_d.string.strip()"
   ]
  },
  {
   "cell_type": "code",
   "execution_count": 40,
   "metadata": {
    "ExecuteTime": {
     "end_time": "2020-06-11T04:29:54.773209Z",
     "start_time": "2020-06-11T04:29:54.768223Z"
    }
   },
   "outputs": [
    {
     "data": {
      "text/plain": [
       "[<em>\n",
       " <a href=\"#\" onclick=\"javascript:showPointListByNid(16564107, 'after');parent.clickcr(this, 'ara.uid', '', '', event); return false;\" target=\"_top\">\n",
       " <span>낄낄쿨레(sunj****)</span>\n",
       " </a>\n",
       " </em>,\n",
       " <em>2019.12.31 09:48</em>,\n",
       " <em>신고</em>]"
      ]
     },
     "execution_count": 40,
     "metadata": {},
     "output_type": "execute_result"
    }
   ],
   "source": [
    "li.find(class_='score_reple').find_all('em')"
   ]
  },
  {
   "cell_type": "code",
   "execution_count": 41,
   "metadata": {
    "ExecuteTime": {
     "end_time": "2020-06-11T04:29:57.205765Z",
     "start_time": "2020-06-11T04:29:57.200778Z"
    }
   },
   "outputs": [
    {
     "data": {
      "text/plain": [
       "'2019.12.31 09:48'"
      ]
     },
     "execution_count": 41,
     "metadata": {},
     "output_type": "execute_result"
    }
   ],
   "source": [
    "date = li.find(class_='score_reple').find_all('em')[1].get_text()\n",
    "date"
   ]
  },
  {
   "cell_type": "markdown",
   "metadata": {},
   "source": [
    "# - 10개의 데이터에서 데이터 가져오기"
   ]
  },
  {
   "cell_type": "code",
   "execution_count": 103,
   "metadata": {
    "ExecuteTime": {
     "end_time": "2020-06-11T05:02:47.579027Z",
     "start_time": "2020-06-11T05:02:47.576062Z"
    }
   },
   "outputs": [],
   "source": [
    "point = []\n",
    "review = []\n",
    "date = []"
   ]
  },
  {
   "cell_type": "code",
   "execution_count": 134,
   "metadata": {
    "ExecuteTime": {
     "end_time": "2020-06-11T04:18:18.027676Z",
     "start_time": "2020-06-11T04:18:17.928968Z"
    }
   },
   "outputs": [],
   "source": [
    "url = url_base + ifr_url + '&page=i'\n",
    "html = urlopen(url)\n",
    "soup = BeautifulSoup(html, 'html.parser')\n"
   ]
  },
  {
   "cell_type": "code",
   "execution_count": 61,
   "metadata": {
    "ExecuteTime": {
     "end_time": "2020-06-11T04:45:43.772277Z",
     "start_time": "2020-06-11T04:45:43.766293Z"
    }
   },
   "outputs": [
    {
     "name": "stdout",
     "output_type": "stream",
     "text": [
      "2019.12.31 09:48\n",
      "2019.12.31 10:41\n",
      "2019.12.31 09:38\n",
      "2019.12.31 09:14\n",
      "2019.12.31 19:58\n",
      "2019.12.31 09:29\n",
      "2019.12.31 09:52\n",
      "2019.12.31 09:01\n",
      "2019.12.31 16:37\n",
      "2019.12.31 10:14\n"
     ]
    }
   ],
   "source": [
    "#date multi\n",
    "for li in lis:\n",
    "    li.find(class_='score_reple').find_all('em')[0]\n",
    "    date = li.find(class_='score_reple').find_all('em')[1].get_text()\n",
    "    print(date)"
   ]
  },
  {
   "cell_type": "code",
   "execution_count": 109,
   "metadata": {
    "ExecuteTime": {
     "end_time": "2020-06-11T05:05:34.619298Z",
     "start_time": "2020-06-11T05:05:34.616278Z"
    }
   },
   "outputs": [],
   "source": [
    "#multi score\n",
    "for li in lis:\n",
    "    score.append(li.find(class_='star_score').find('em').string)"
   ]
  },
  {
   "cell_type": "code",
   "execution_count": 132,
   "metadata": {
    "ExecuteTime": {
     "end_time": "2020-06-11T05:11:11.176905Z",
     "start_time": "2020-06-11T05:11:11.167927Z"
    },
    "cell_style": "center",
    "scrolled": true
   },
   "outputs": [
    {
     "name": "stdout",
     "output_type": "stream",
     "text": [
      "미드웨이가 재밌으면 추천 백두산이 재밌으면 비추\n",
      "\n",
      "저 해전이 있었기에 우리나라 광복도 가능 했음\n",
      "\n",
      "백두산 상영관 대폭줄이고 미드웨이 상영관 대폭늘려라\n",
      "\n",
      "방금 개봉했는데 1점 준애는 뭐냐 ㅋㅋ 일본놈이냐? 이제 광고돌고 있을 시간이다.\n",
      "\n",
      "교과서에는 미드웨이 해전에서 미국이 승리했다고 한 줄로 서술되어 있지만 단순히 한 줄로 설명할 수 없는 파란만장했던 전쟁.\n",
      "\n",
      "스케일 겁나커서 보는내내 입벌리고 봣네욬ㅋㅋ재밋습니다\n",
      "\n",
      "안보면후회함 백두산보다낫다\n",
      "\n",
      "재밌으면 추천 재미없으면 비추천 눌러주십쇼 형님들\n",
      "\n",
      "일본의 최대 실수는 미국을 건드린거다 그 대가로 원폭 처맞고 멸망함ㅋㅋㅋ지금 하는 짓거리보면 아직 더 맞아야 될듯\n",
      "\n",
      "아니 에머리히 감독이 스토리에 고증을 철저히 지키다니 안믿긴다..(진짜 실제인물에 장면 하나하나가 거의 다 사실인건 솔직히 놀랍네요)(영화에 대한 팩트들)1.제작비는 500억이 아니라 1100억이고 2.소니가 진짜로 20년전에 미드웨이 영화화 반대했고3.평론가 평가가 안좋다?..진주만 보다 20점 높은 44점입니다.(전쟁 영화로써 좋은 점수입니다)4.고증이 안좋다?..스토리 고증은 정말 철저하고 전투기 등등의 디테일은 비슷하지만 완전 정확하진 않음5.중국이 나온다?:나옵니다..하지만 역사적 사실이고 일본은 당시에 미군을 도와준 중국을 보복했죠.(영화는 소니의 반대로 뒤늦게 20년만에 독립영화로 만들어졌는데 1100억의 제작비로 이정도로 강렬한 운명의 5분 미드웨이 해전을 보여준건 놀랍네요) \n",
      "\n"
     ]
    }
   ],
   "source": [
    "#multi review\n",
    "for li in lis:\n",
    "    # 리뷰쓴 사람이 관람객일 경우(1페이지 li[4])\n",
    "    if (li.find(class_='score_reple').find('p').find('span').get_text().strip()) == '관람객':\n",
    "        print(li.find(class_='score_reple').find('p').find_all('span')[1].get_text().strip())\n",
    "        print(\"\")\n",
    "        \n",
    "        \n",
    "    \n",
    "        \n",
    "    # 리뷰가 길어서 접혀있는경우 (1페이지 li[9])\n",
    "    elif len(li.find(class_='score_reple').find('p').find('span')) > 1:\n",
    "        print(li.find(class_='score_reple').find('p').find('span').find('a')['data-src'])\n",
    "        print(\"\")\n",
    "        \n",
    "    #아닌경우\n",
    "    else:\n",
    "        print(li.find(class_='score_reple').find('p').find('span').get_text().strip())\n",
    "        print(\"\") "
   ]
  },
  {
   "cell_type": "code",
   "execution_count": 99,
   "metadata": {
    "ExecuteTime": {
     "end_time": "2020-06-11T04:59:42.645339Z",
     "start_time": "2020-06-11T04:59:42.640380Z"
    }
   },
   "outputs": [
    {
     "data": {
      "text/plain": [
       "<span id=\"_filtered_ment_9\">\n",
       "<span class=\"_unfold_ment\" id=\"_unfold_ment9\">\n",
       "<a data-src=\"아니 에머리히 감독이 스토리에 고증을 철저히 지키다니 안믿긴다..(진짜 실제인물에 장면 하나하나가 거의 다 사실인건 솔직히 놀랍네요)(영화에 대한 팩트들)1.제작비는 500억이 아니라 1100억이고 2.소니가 진짜로 20년전에 미드웨이 영화화 반대했고3.평론가 평가가 안좋다?..진주만 보다 20점 높은 44점입니다.(전쟁 영화로써 좋은 점수입니다)4.고증이 안좋다?..스토리 고증은 정말 철저하고 전투기 등등의 디테일은 비슷하지만 완전 정확하진 않음5.중국이 나온다?:나옵니다..하지만 역사적 사실이고 일본은 당시에 미군을 도와준 중국을 보복했죠.(영화는 소니의 반대로 뒤늦게 20년만에 독립영화로 만들어졌는데 1100억의 제작비로 이정도로 강렬한 운명의 5분 미드웨이 해전을 보여준건 놀랍네요) \" href=\"javascript:void(0);\" onclick=\"unfoldPointMent(this);\">\n",
       "\t\t\t\t\t\t\t\t\t\t\t\t\t\t\t\t\t\t아니 에머리히 감독이 스토리에 고증을 철저히 지키다니 안믿긴다..(진짜 실제인물에 장면 하나하나가 거의 다 사실인건 솔직히 놀랍네요)(영화에 대한 팩트들)1.제작비는 500억이 아니라 1100억이고 2.소니가 진짜로...\n",
       "\t\t\t\t\t\t\t\t\t\t\t\t\t\t\t\t\t</a>\n",
       "</span>\n",
       "</span>"
      ]
     },
     "execution_count": 99,
     "metadata": {},
     "output_type": "execute_result"
    }
   ],
   "source": [
    "li = lis[9]\n",
    "li.find(class_='score_reple').find('p').find('span')"
   ]
  },
  {
   "cell_type": "code",
   "execution_count": 46,
   "metadata": {
    "ExecuteTime": {
     "end_time": "2020-06-11T04:34:22.479301Z",
     "start_time": "2020-06-11T04:34:22.472320Z"
    }
   },
   "outputs": [
    {
     "data": {
      "text/plain": [
       "'미드웨이가 재밌으면 추천 백두산이 재밌으면 비추'"
      ]
     },
     "execution_count": 46,
     "metadata": {},
     "output_type": "execute_result"
    }
   ],
   "source": [
    "#date\n",
    "date.append(li.find(class_='score_reple').find_all('em')[1].get_text())\n",
    "\n",
    "\n",
    "#score\n",
    "score = li.find(class_='star_score').find('em').string\n",
    "score\n",
    "\n",
    "\n",
    "#review\n",
    "review = li.find(class_='score_reple')\n",
    "review\n",
    "li.find(class_='score_reple').find('p').find('span').get_text().strip()\n"
   ]
  },
  {
   "cell_type": "code",
   "execution_count": 47,
   "metadata": {
    "ExecuteTime": {
     "end_time": "2020-06-11T04:34:58.745668Z",
     "start_time": "2020-06-11T04:34:58.741679Z"
    }
   },
   "outputs": [
    {
     "data": {
      "text/plain": [
       "'2019.12.31 09:48'"
      ]
     },
     "execution_count": 47,
     "metadata": {},
     "output_type": "execute_result"
    }
   ],
   "source": [
    "date"
   ]
  },
  {
   "cell_type": "code",
   "execution_count": null,
   "metadata": {},
   "outputs": [],
   "source": []
  },
  {
   "cell_type": "code",
   "execution_count": null,
   "metadata": {},
   "outputs": [],
   "source": []
  },
  {
   "cell_type": "code",
   "execution_count": 134,
   "metadata": {
    "ExecuteTime": {
     "end_time": "2020-06-11T05:11:34.051775Z",
     "start_time": "2020-06-11T05:11:34.048781Z"
    }
   },
   "outputs": [],
   "source": []
  },
  {
   "cell_type": "code",
   "execution_count": 186,
   "metadata": {
    "ExecuteTime": {
     "end_time": "2020-06-11T06:34:51.320982Z",
     "start_time": "2020-06-11T06:34:51.227238Z"
    },
    "cell_style": "center",
    "code_folding": []
   },
   "outputs": [],
   "source": [
    "#for i in range(1, 100):\n",
    "point = []\n",
    "review = []\n",
    "date = []\n",
    "\n",
    "url = 'https://movie.naver.com/movie/bi/mi/pointWriteFormList.nhn?code=186615&type=after&isActualPointWriteExecute=false&isMileageSubscriptionAlready=false&isMileageSubscriptionReject=false&page=2'\n",
    "html = urlopen(url)\n",
    "soup = BeautifulSoup(html, 'html.parser')\n",
    "lis = results.find_all('li')\n",
    "\n",
    "for li in lis:\n",
    "    # 리뷰쓴 사람이 관람객일 경우(1페이지 li[4])\n",
    "    if (li.find(class_='score_reple').find('p').find('span').get_text().strip()) == '관람객':\n",
    "        review.append(li.find(class_='score_reple').find('p').find_all('span')[1].get_text().strip())\n",
    "\n",
    "    # 리뷰가 길어서 접혀있는경우 (1페이지 li[9])\n",
    "    #elif len(li.find(class_='score_reple').find('p').find('span')) > 1:\n",
    "        #review.append(li.find(class_='score_reple').find('p').find('span').find('a')['data-src'])\n",
    "\n",
    "\n",
    "    #아닌경우\n",
    "    else:\n",
    "        review.append(li.find(class_='score_reple').find('p').find('span').get_text().strip())\n",
    "\n",
    "    #multi date\n",
    "#     li.find(class_='score_reple').find_all('em')[0]\n",
    "#     date.append(li.find(class_='score_reple').find_all('em')[1].get_text())\n",
    "\n",
    "#     #multi score\n",
    "#     point.append(li.find(class_='star_score').find('em').string)"
   ]
  },
  {
   "cell_type": "code",
   "execution_count": 187,
   "metadata": {
    "ExecuteTime": {
     "end_time": "2020-06-11T06:34:59.387243Z",
     "start_time": "2020-06-11T06:34:59.383280Z"
    }
   },
   "outputs": [
    {
     "data": {
      "text/plain": [
       "10"
      ]
     },
     "execution_count": 187,
     "metadata": {},
     "output_type": "execute_result"
    }
   ],
   "source": [
    "len(point)"
   ]
  },
  {
   "cell_type": "code",
   "execution_count": 183,
   "metadata": {
    "ExecuteTime": {
     "end_time": "2020-06-11T05:30:52.595836Z",
     "start_time": "2020-06-11T05:30:52.591848Z"
    }
   },
   "outputs": [],
   "source": [
    "import pandas as pd\n",
    "pd.set_option('display.max_row', 500)\n",
    "pd.set_option('display.max_columns', 500)"
   ]
  },
  {
   "cell_type": "code",
   "execution_count": 184,
   "metadata": {
    "ExecuteTime": {
     "end_time": "2020-06-11T05:30:52.917975Z",
     "start_time": "2020-06-11T05:30:52.913006Z"
    }
   },
   "outputs": [],
   "source": [
    "df = pd.DataFrame({'내용' : review, '점수' : point, '날짜' : date})"
   ]
  },
  {
   "cell_type": "code",
   "execution_count": 185,
   "metadata": {
    "ExecuteTime": {
     "end_time": "2020-06-11T05:30:53.399831Z",
     "start_time": "2020-06-11T05:30:53.392856Z"
    },
    "scrolled": false
   },
   "outputs": [
    {
     "data": {
      "text/html": [
       "<div>\n",
       "<style scoped>\n",
       "    .dataframe tbody tr th:only-of-type {\n",
       "        vertical-align: middle;\n",
       "    }\n",
       "\n",
       "    .dataframe tbody tr th {\n",
       "        vertical-align: top;\n",
       "    }\n",
       "\n",
       "    .dataframe thead th {\n",
       "        text-align: right;\n",
       "    }\n",
       "</style>\n",
       "<table border=\"1\" class=\"dataframe\">\n",
       "  <thead>\n",
       "    <tr style=\"text-align: right;\">\n",
       "      <th></th>\n",
       "      <th>내용</th>\n",
       "      <th>점수</th>\n",
       "      <th>날짜</th>\n",
       "    </tr>\n",
       "  </thead>\n",
       "  <tbody>\n",
       "    <tr>\n",
       "      <th>0</th>\n",
       "      <td>미드웨이가 재밌으면 추천 백두산이 재밌으면 비추</td>\n",
       "      <td>9</td>\n",
       "      <td>2019.12.31 09:48</td>\n",
       "    </tr>\n",
       "    <tr>\n",
       "      <th>1</th>\n",
       "      <td>저 해전이 있었기에 우리나라 광복도 가능 했음</td>\n",
       "      <td>10</td>\n",
       "      <td>2019.12.31 10:41</td>\n",
       "    </tr>\n",
       "    <tr>\n",
       "      <th>2</th>\n",
       "      <td>백두산 상영관 대폭줄이고 미드웨이 상영관 대폭늘려라</td>\n",
       "      <td>10</td>\n",
       "      <td>2019.12.31 09:38</td>\n",
       "    </tr>\n",
       "    <tr>\n",
       "      <th>3</th>\n",
       "      <td>방금 개봉했는데 1점 준애는 뭐냐 ㅋㅋ 일본놈이냐? 이제 광고돌고 있을 시간이다.</td>\n",
       "      <td>10</td>\n",
       "      <td>2019.12.31 09:14</td>\n",
       "    </tr>\n",
       "    <tr>\n",
       "      <th>4</th>\n",
       "      <td>교과서에는 미드웨이 해전에서 미국이 승리했다고 한 줄로 서술되어 있지만 단순히 한 ...</td>\n",
       "      <td>10</td>\n",
       "      <td>2019.12.31 19:58</td>\n",
       "    </tr>\n",
       "    <tr>\n",
       "      <th>5</th>\n",
       "      <td>스케일 겁나커서 보는내내 입벌리고 봣네욬ㅋㅋ재밋습니다</td>\n",
       "      <td>10</td>\n",
       "      <td>2019.12.31 09:29</td>\n",
       "    </tr>\n",
       "    <tr>\n",
       "      <th>6</th>\n",
       "      <td>안보면후회함 백두산보다낫다</td>\n",
       "      <td>10</td>\n",
       "      <td>2019.12.31 09:52</td>\n",
       "    </tr>\n",
       "    <tr>\n",
       "      <th>7</th>\n",
       "      <td>재밌으면 추천 재미없으면 비추천 눌러주십쇼 형님들</td>\n",
       "      <td>10</td>\n",
       "      <td>2019.12.31 09:01</td>\n",
       "    </tr>\n",
       "    <tr>\n",
       "      <th>8</th>\n",
       "      <td>일본의 최대 실수는 미국을 건드린거다 그 대가로 원폭 처맞고 멸망함ㅋㅋㅋ지금 하는 ...</td>\n",
       "      <td>10</td>\n",
       "      <td>2019.12.31 16:37</td>\n",
       "    </tr>\n",
       "    <tr>\n",
       "      <th>9</th>\n",
       "      <td>아니 에머리히 감독이 스토리에 고증을 철저히 지키다니 안믿긴다..(진짜 실제인물에 ...</td>\n",
       "      <td>8</td>\n",
       "      <td>2019.12.31 10:14</td>\n",
       "    </tr>\n",
       "  </tbody>\n",
       "</table>\n",
       "</div>"
      ],
      "text/plain": [
       "                                                  내용  점수                날짜\n",
       "0                         미드웨이가 재밌으면 추천 백두산이 재밌으면 비추   9  2019.12.31 09:48\n",
       "1                          저 해전이 있었기에 우리나라 광복도 가능 했음  10  2019.12.31 10:41\n",
       "2                       백두산 상영관 대폭줄이고 미드웨이 상영관 대폭늘려라  10  2019.12.31 09:38\n",
       "3      방금 개봉했는데 1점 준애는 뭐냐 ㅋㅋ 일본놈이냐? 이제 광고돌고 있을 시간이다.  10  2019.12.31 09:14\n",
       "4  교과서에는 미드웨이 해전에서 미국이 승리했다고 한 줄로 서술되어 있지만 단순히 한 ...  10  2019.12.31 19:58\n",
       "5                      스케일 겁나커서 보는내내 입벌리고 봣네욬ㅋㅋ재밋습니다  10  2019.12.31 09:29\n",
       "6                                     안보면후회함 백두산보다낫다  10  2019.12.31 09:52\n",
       "7                        재밌으면 추천 재미없으면 비추천 눌러주십쇼 형님들  10  2019.12.31 09:01\n",
       "8  일본의 최대 실수는 미국을 건드린거다 그 대가로 원폭 처맞고 멸망함ㅋㅋㅋ지금 하는 ...  10  2019.12.31 16:37\n",
       "9  아니 에머리히 감독이 스토리에 고증을 철저히 지키다니 안믿긴다..(진짜 실제인물에 ...   8  2019.12.31 10:14"
      ]
     },
     "execution_count": 185,
     "metadata": {},
     "output_type": "execute_result"
    }
   ],
   "source": [
    "df"
   ]
  },
  {
   "cell_type": "code",
   "execution_count": 178,
   "metadata": {
    "ExecuteTime": {
     "end_time": "2020-06-11T05:30:29.056806Z",
     "start_time": "2020-06-11T05:30:29.047805Z"
    }
   },
   "outputs": [],
   "source": [
    "df.to_csv('sample.csv')"
   ]
  },
  {
   "cell_type": "code",
   "execution_count": null,
   "metadata": {},
   "outputs": [],
   "source": []
  }
 ],
 "metadata": {
  "kernelspec": {
   "display_name": "Python 3",
   "language": "python",
   "name": "python3"
  },
  "language_info": {
   "codemirror_mode": {
    "name": "ipython",
    "version": 3
   },
   "file_extension": ".py",
   "mimetype": "text/x-python",
   "name": "python",
   "nbconvert_exporter": "python",
   "pygments_lexer": "ipython3",
   "version": "3.7.6"
  },
  "toc": {
   "base_numbering": 1,
   "nav_menu": {},
   "number_sections": true,
   "sideBar": true,
   "skip_h1_title": false,
   "title_cell": "Table of Contents",
   "title_sidebar": "Contents",
   "toc_cell": false,
   "toc_position": {},
   "toc_section_display": true,
   "toc_window_display": false
  }
 },
 "nbformat": 4,
 "nbformat_minor": 4
}
