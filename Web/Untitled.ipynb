{
 "cells": [
  {
   "cell_type": "code",
   "execution_count": 228,
   "metadata": {
    "scrolled": true
   },
   "outputs": [],
   "source": [
    "import requests\n",
    "from bs4 import BeautifulSoup\n",
    "\n",
    " \n",
    "\n",
    "res = requests.get('https://www.siksinhot.com/taste?upHpAreaId=17&hpAreaId=661&isBestOrd=N') \n",
    "\n",
    "soup = BeautifulSoup(res.content, \"html.parser\") "
   ]
  },
  {
   "cell_type": "code",
   "execution_count": 229,
   "metadata": {},
   "outputs": [
    {
     "data": {
      "text/plain": [
       "<Response [200]>"
      ]
     },
     "execution_count": 229,
     "metadata": {},
     "output_type": "execute_result"
    }
   ],
   "source": [
    "res\n"
   ]
  },
  {
   "cell_type": "code",
   "execution_count": 230,
   "metadata": {},
   "outputs": [],
   "source": [
    "food = []\n",
    "\n",
    "names = soup.select('div strong')\n",
    "\n",
    "for name in names:\n",
    "    \n",
    "    food.append(name.text)"
   ]
  },
  {
   "cell_type": "code",
   "execution_count": 243,
   "metadata": {},
   "outputs": [
    {
     "ename": "IndexError",
     "evalue": "list index out of range",
     "output_type": "error",
     "traceback": [
      "\u001b[1;31m---------------------------------------------------------------------------\u001b[0m",
      "\u001b[1;31mIndexError\u001b[0m                                Traceback (most recent call last)",
      "\u001b[1;32m<ipython-input-243-47cee850af32>\u001b[0m in \u001b[0;36m<module>\u001b[1;34m\u001b[0m\n\u001b[0;32m      1\u001b[0m \u001b[1;32mfor\u001b[0m \u001b[0mi\u001b[0m \u001b[1;32min\u001b[0m \u001b[0mrange\u001b[0m\u001b[1;33m(\u001b[0m\u001b[1;36m0\u001b[0m\u001b[1;33m,\u001b[0m \u001b[0mlen\u001b[0m\u001b[1;33m(\u001b[0m\u001b[0mfoods\u001b[0m\u001b[1;33m)\u001b[0m\u001b[1;33m)\u001b[0m\u001b[1;33m:\u001b[0m\u001b[1;33m\u001b[0m\u001b[1;33m\u001b[0m\u001b[0m\n\u001b[1;32m----> 2\u001b[1;33m     \u001b[1;32mif\u001b[0m \u001b[0mfoods\u001b[0m\u001b[1;33m[\u001b[0m\u001b[0mi\u001b[0m\u001b[1;33m]\u001b[0m \u001b[1;33m==\u001b[0m \u001b[1;34m''\u001b[0m\u001b[1;33m:\u001b[0m\u001b[1;33m\u001b[0m\u001b[1;33m\u001b[0m\u001b[0m\n\u001b[0m\u001b[0;32m      3\u001b[0m         \u001b[1;32mdel\u001b[0m \u001b[0mfoods\u001b[0m\u001b[1;33m[\u001b[0m\u001b[0mi\u001b[0m\u001b[1;33m]\u001b[0m\u001b[1;33m\u001b[0m\u001b[1;33m\u001b[0m\u001b[0m\n",
      "\u001b[1;31mIndexError\u001b[0m: list index out of range"
     ]
    }
   ],
   "source": [
    "for i in range(0, len(foods)):\n",
    "    if foods[i] == '':\n",
    "        del foods[i]"
   ]
  },
  {
   "cell_type": "code",
   "execution_count": 232,
   "metadata": {},
   "outputs": [
    {
     "data": {
      "text/plain": [
       "['즐거운나의집돌솥밥',\n",
       " '남들갈비',\n",
       " '정가네손칼국수',\n",
       " '두툼',\n",
       " '활력추어탕',\n",
       " '타스코',\n",
       " '수라채',\n",
       " '아스카',\n",
       " '괴산식당',\n",
       " '권가제면소',\n",
       " '오감만족',\n",
       " '구박사소곱창구이',\n",
       " '천리향',\n",
       " '선녀와 나무꾼 ',\n",
       " '왕천파닭',\n",
       " '길성이 본점',\n",
       " '대구왕뽈때기',\n",
       " '블랙스톤 청주점',\n",
       " '어화코다리냉면 본점',\n",
       " '부자옛날손짜장',\n",
       " '빌라디쉐프',\n",
       " '연탄불에 모든것을',\n",
       " '호정',\n",
       " '해담',\n",
       " '보끄미 금천점',\n",
       " '고향식당',\n",
       " '재건갈비',\n",
       " '트리제이 더 테라스',\n",
       " '서리서리멸치국수',\n",
       " '해가한정식',\n",
       " '남들갈비',\n",
       " '재건갈비',\n",
       " '분홍펄펄펄셰도',\n",
       " '3.0',\n",
       " '남들갈비',\n",
       " '루야',\n",
       " '1.0',\n",
       " '샤브향 청주금천점',\n",
       " '딸기',\n",
       " '1.0',\n",
       " '괴산식당',\n",
       " '바우산',\n",
       " '5.0',\n",
       " '괴산식당',\n",
       " '재사용하는집',\n",
       " '1.0',\n",
       " '임차이나',\n",
       " '식신(주)',\n",
       " '안병익',\n",
       " '214-88-59748',\n",
       " '1577-3957',\n",
       " '02.533.1909',\n",
       " 'info@siksinhot.com']"
      ]
     },
     "execution_count": 232,
     "metadata": {},
     "output_type": "execute_result"
    }
   ],
   "source": [
    "food"
   ]
  },
  {
   "cell_type": "code",
   "execution_count": 233,
   "metadata": {},
   "outputs": [],
   "source": [
    "def cleanText(readData):\n",
    "    #스팸 메세지에 포함되어 있는 특수 문자 제거\n",
    "    text = re.sub('[-=+,#/\\?:^$.@*\\\"※~&%ㆍ!』\\\\‘|\\(\\)\\[\\]\\<\\>`\\'…》]', '', readData)\n",
    "    #양쪽(위,아래)줄바꿈 제거\n",
    "    text = text.strip('\\n')\n",
    "    return text"
   ]
  },
  {
   "cell_type": "code",
   "execution_count": 223,
   "metadata": {},
   "outputs": [
    {
     "ename": "IndexError",
     "evalue": "string index out of range",
     "output_type": "error",
     "traceback": [
      "\u001b[1;31m---------------------------------------------------------------------------\u001b[0m",
      "\u001b[1;31mIndexError\u001b[0m                                Traceback (most recent call last)",
      "\u001b[1;32m<ipython-input-223-fc9b1e0e4eb5>\u001b[0m in \u001b[0;36m<module>\u001b[1;34m\u001b[0m\n\u001b[1;32m----> 1\u001b[1;33m \u001b[0mcleanText\u001b[0m\u001b[1;33m(\u001b[0m\u001b[0mfood\u001b[0m\u001b[1;33m[\u001b[0m\u001b[1;36m52\u001b[0m\u001b[1;33m]\u001b[0m\u001b[1;33m)\u001b[0m\u001b[1;33m\u001b[0m\u001b[1;33m\u001b[0m\u001b[0m\n\u001b[0m\u001b[0;32m      2\u001b[0m \u001b[0mfoods\u001b[0m \u001b[1;33m=\u001b[0m \u001b[1;33m[\u001b[0m\u001b[1;33m]\u001b[0m\u001b[1;33m\u001b[0m\u001b[1;33m\u001b[0m\u001b[0m\n",
      "\u001b[1;31mIndexError\u001b[0m: string index out of range"
     ]
    }
   ],
   "source": [
    "cleanText(food[52])\n"
   ]
  },
  {
   "cell_type": "code",
   "execution_count": 236,
   "metadata": {},
   "outputs": [],
   "source": [
    "foods = []"
   ]
  },
  {
   "cell_type": "code",
   "execution_count": 237,
   "metadata": {},
   "outputs": [],
   "source": [
    "for i in range(0, len(food)):\n",
    "    foods.append(cleanText(food[i]))"
   ]
  },
  {
   "cell_type": "code",
   "execution_count": 234,
   "metadata": {},
   "outputs": [
    {
     "data": {
      "text/plain": [
       "53"
      ]
     },
     "execution_count": 234,
     "metadata": {},
     "output_type": "execute_result"
    }
   ],
   "source": [
    "len(food)"
   ]
  },
  {
   "cell_type": "code",
   "execution_count": 209,
   "metadata": {},
   "outputs": [],
   "source": [
    "p = re.compile(\"[\\D]\")"
   ]
  },
  {
   "cell_type": "code",
   "execution_count": 239,
   "metadata": {},
   "outputs": [],
   "source": [
    "for i in range(0, len(foods)):\n",
    "    foods[i] = (\"\".join(p.findall(foods[i])))"
   ]
  },
  {
   "cell_type": "code",
   "execution_count": 211,
   "metadata": {},
   "outputs": [
    {
     "data": {
      "text/plain": [
       "53"
      ]
     },
     "execution_count": 211,
     "metadata": {},
     "output_type": "execute_result"
    }
   ],
   "source": [
    "len(food)"
   ]
  },
  {
   "cell_type": "code",
   "execution_count": 242,
   "metadata": {},
   "outputs": [
    {
     "data": {
      "text/plain": [
       "['즐거운나의집돌솥밥',\n",
       " '남들갈비',\n",
       " '정가네손칼국수',\n",
       " '두툼',\n",
       " '활력추어탕',\n",
       " '타스코',\n",
       " '수라채',\n",
       " '아스카',\n",
       " '괴산식당',\n",
       " '권가제면소',\n",
       " '오감만족',\n",
       " '구박사소곱창구이',\n",
       " '천리향',\n",
       " '선녀와 나무꾼 ',\n",
       " '왕천파닭',\n",
       " '길성이 본점',\n",
       " '대구왕뽈때기',\n",
       " '블랙스톤 청주점',\n",
       " '어화코다리냉면 본점',\n",
       " '부자옛날손짜장',\n",
       " '빌라디쉐프',\n",
       " '연탄불에 모든것을',\n",
       " '호정',\n",
       " '해담',\n",
       " '보끄미 금천점',\n",
       " '고향식당',\n",
       " '재건갈비',\n",
       " '트리제이 더 테라스',\n",
       " '서리서리멸치국수',\n",
       " '해가한정식',\n",
       " '남들갈비',\n",
       " '재건갈비',\n",
       " '분홍펄펄펄셰도',\n",
       " '',\n",
       " '남들갈비',\n",
       " '루야',\n",
       " '',\n",
       " '샤브향 청주금천점',\n",
       " '딸기',\n",
       " '',\n",
       " '괴산식당',\n",
       " '바우산',\n",
       " '',\n",
       " '괴산식당',\n",
       " '재사용하는집',\n",
       " '',\n",
       " '임차이나',\n",
       " '식신주',\n",
       " '안병익',\n",
       " '',\n",
       " '',\n",
       " '',\n",
       " 'infosiksinhotcom']"
      ]
     },
     "execution_count": 242,
     "metadata": {},
     "output_type": "execute_result"
    }
   ],
   "source": [
    "foods"
   ]
  },
  {
   "cell_type": "code",
   "execution_count": 245,
   "metadata": {},
   "outputs": [
    {
     "data": {
      "text/html": [
       "<div>\n",
       "<style scoped>\n",
       "    .dataframe tbody tr th:only-of-type {\n",
       "        vertical-align: middle;\n",
       "    }\n",
       "\n",
       "    .dataframe tbody tr th {\n",
       "        vertical-align: top;\n",
       "    }\n",
       "\n",
       "    .dataframe thead th {\n",
       "        text-align: right;\n",
       "    }\n",
       "</style>\n",
       "<table border=\"1\" class=\"dataframe\">\n",
       "  <thead>\n",
       "    <tr style=\"text-align: right;\">\n",
       "      <th></th>\n",
       "      <th>name</th>\n",
       "    </tr>\n",
       "  </thead>\n",
       "  <tbody>\n",
       "    <tr>\n",
       "      <th>0</th>\n",
       "      <td>즐거운나의집돌솥밥</td>\n",
       "    </tr>\n",
       "    <tr>\n",
       "      <th>1</th>\n",
       "      <td>남들갈비</td>\n",
       "    </tr>\n",
       "    <tr>\n",
       "      <th>2</th>\n",
       "      <td>정가네손칼국수</td>\n",
       "    </tr>\n",
       "    <tr>\n",
       "      <th>3</th>\n",
       "      <td>두툼</td>\n",
       "    </tr>\n",
       "    <tr>\n",
       "      <th>4</th>\n",
       "      <td>활력추어탕</td>\n",
       "    </tr>\n",
       "    <tr>\n",
       "      <th>5</th>\n",
       "      <td>타스코</td>\n",
       "    </tr>\n",
       "    <tr>\n",
       "      <th>6</th>\n",
       "      <td>수라채</td>\n",
       "    </tr>\n",
       "    <tr>\n",
       "      <th>7</th>\n",
       "      <td>아스카</td>\n",
       "    </tr>\n",
       "    <tr>\n",
       "      <th>8</th>\n",
       "      <td>괴산식당</td>\n",
       "    </tr>\n",
       "    <tr>\n",
       "      <th>9</th>\n",
       "      <td>권가제면소</td>\n",
       "    </tr>\n",
       "    <tr>\n",
       "      <th>10</th>\n",
       "      <td>오감만족</td>\n",
       "    </tr>\n",
       "    <tr>\n",
       "      <th>11</th>\n",
       "      <td>구박사소곱창구이</td>\n",
       "    </tr>\n",
       "    <tr>\n",
       "      <th>12</th>\n",
       "      <td>천리향</td>\n",
       "    </tr>\n",
       "    <tr>\n",
       "      <th>13</th>\n",
       "      <td>선녀와 나무꾼</td>\n",
       "    </tr>\n",
       "    <tr>\n",
       "      <th>14</th>\n",
       "      <td>왕천파닭</td>\n",
       "    </tr>\n",
       "    <tr>\n",
       "      <th>15</th>\n",
       "      <td>길성이 본점</td>\n",
       "    </tr>\n",
       "    <tr>\n",
       "      <th>16</th>\n",
       "      <td>대구왕뽈때기</td>\n",
       "    </tr>\n",
       "    <tr>\n",
       "      <th>17</th>\n",
       "      <td>블랙스톤 청주점</td>\n",
       "    </tr>\n",
       "    <tr>\n",
       "      <th>18</th>\n",
       "      <td>어화코다리냉면 본점</td>\n",
       "    </tr>\n",
       "    <tr>\n",
       "      <th>19</th>\n",
       "      <td>부자옛날손짜장</td>\n",
       "    </tr>\n",
       "    <tr>\n",
       "      <th>20</th>\n",
       "      <td>빌라디쉐프</td>\n",
       "    </tr>\n",
       "    <tr>\n",
       "      <th>21</th>\n",
       "      <td>연탄불에 모든것을</td>\n",
       "    </tr>\n",
       "    <tr>\n",
       "      <th>22</th>\n",
       "      <td>호정</td>\n",
       "    </tr>\n",
       "    <tr>\n",
       "      <th>23</th>\n",
       "      <td>해담</td>\n",
       "    </tr>\n",
       "    <tr>\n",
       "      <th>24</th>\n",
       "      <td>보끄미 금천점</td>\n",
       "    </tr>\n",
       "    <tr>\n",
       "      <th>25</th>\n",
       "      <td>고향식당</td>\n",
       "    </tr>\n",
       "    <tr>\n",
       "      <th>26</th>\n",
       "      <td>재건갈비</td>\n",
       "    </tr>\n",
       "    <tr>\n",
       "      <th>27</th>\n",
       "      <td>트리제이 더 테라스</td>\n",
       "    </tr>\n",
       "    <tr>\n",
       "      <th>28</th>\n",
       "      <td>서리서리멸치국수</td>\n",
       "    </tr>\n",
       "    <tr>\n",
       "      <th>29</th>\n",
       "      <td>해가한정식</td>\n",
       "    </tr>\n",
       "    <tr>\n",
       "      <th>30</th>\n",
       "      <td>남들갈비</td>\n",
       "    </tr>\n",
       "    <tr>\n",
       "      <th>31</th>\n",
       "      <td>재건갈비</td>\n",
       "    </tr>\n",
       "    <tr>\n",
       "      <th>32</th>\n",
       "      <td>분홍펄펄펄셰도</td>\n",
       "    </tr>\n",
       "    <tr>\n",
       "      <th>33</th>\n",
       "      <td>남들갈비</td>\n",
       "    </tr>\n",
       "    <tr>\n",
       "      <th>34</th>\n",
       "      <td>루야</td>\n",
       "    </tr>\n",
       "    <tr>\n",
       "      <th>35</th>\n",
       "      <td>샤브향 청주금천점</td>\n",
       "    </tr>\n",
       "    <tr>\n",
       "      <th>36</th>\n",
       "      <td>딸기</td>\n",
       "    </tr>\n",
       "    <tr>\n",
       "      <th>37</th>\n",
       "      <td>괴산식당</td>\n",
       "    </tr>\n",
       "    <tr>\n",
       "      <th>38</th>\n",
       "      <td>바우산</td>\n",
       "    </tr>\n",
       "    <tr>\n",
       "      <th>39</th>\n",
       "      <td>괴산식당</td>\n",
       "    </tr>\n",
       "    <tr>\n",
       "      <th>40</th>\n",
       "      <td>재사용하는집</td>\n",
       "    </tr>\n",
       "    <tr>\n",
       "      <th>41</th>\n",
       "      <td>임차이나</td>\n",
       "    </tr>\n",
       "    <tr>\n",
       "      <th>42</th>\n",
       "      <td>식신주</td>\n",
       "    </tr>\n",
       "    <tr>\n",
       "      <th>43</th>\n",
       "      <td>안병익</td>\n",
       "    </tr>\n",
       "    <tr>\n",
       "      <th>44</th>\n",
       "      <td></td>\n",
       "    </tr>\n",
       "    <tr>\n",
       "      <th>45</th>\n",
       "      <td>infosiksinhotcom</td>\n",
       "    </tr>\n",
       "  </tbody>\n",
       "</table>\n",
       "</div>"
      ],
      "text/plain": [
       "                name\n",
       "0          즐거운나의집돌솥밥\n",
       "1               남들갈비\n",
       "2            정가네손칼국수\n",
       "3                 두툼\n",
       "4              활력추어탕\n",
       "5                타스코\n",
       "6                수라채\n",
       "7                아스카\n",
       "8               괴산식당\n",
       "9              권가제면소\n",
       "10              오감만족\n",
       "11          구박사소곱창구이\n",
       "12               천리향\n",
       "13          선녀와 나무꾼 \n",
       "14              왕천파닭\n",
       "15            길성이 본점\n",
       "16            대구왕뽈때기\n",
       "17          블랙스톤 청주점\n",
       "18        어화코다리냉면 본점\n",
       "19           부자옛날손짜장\n",
       "20             빌라디쉐프\n",
       "21         연탄불에 모든것을\n",
       "22                호정\n",
       "23                해담\n",
       "24           보끄미 금천점\n",
       "25              고향식당\n",
       "26              재건갈비\n",
       "27        트리제이 더 테라스\n",
       "28          서리서리멸치국수\n",
       "29             해가한정식\n",
       "30              남들갈비\n",
       "31              재건갈비\n",
       "32           분홍펄펄펄셰도\n",
       "33              남들갈비\n",
       "34                루야\n",
       "35         샤브향 청주금천점\n",
       "36                딸기\n",
       "37              괴산식당\n",
       "38               바우산\n",
       "39              괴산식당\n",
       "40            재사용하는집\n",
       "41              임차이나\n",
       "42               식신주\n",
       "43               안병익\n",
       "44                  \n",
       "45  infosiksinhotcom"
      ]
     },
     "execution_count": 245,
     "metadata": {},
     "output_type": "execute_result"
    }
   ],
   "source": [
    "import pandas as pd\n",
    "df = pd.DataFrame({'name' : foods})\n",
    "df"
   ]
  },
  {
   "cell_type": "code",
   "execution_count": null,
   "metadata": {},
   "outputs": [],
   "source": [
    "re.findall(r\"\\w+\", html)"
   ]
  }
 ],
 "metadata": {
  "kernelspec": {
   "display_name": "Python 3",
   "language": "python",
   "name": "python3"
  },
  "language_info": {
   "codemirror_mode": {
    "name": "ipython",
    "version": 3
   },
   "file_extension": ".py",
   "mimetype": "text/x-python",
   "name": "python",
   "nbconvert_exporter": "python",
   "pygments_lexer": "ipython3",
   "version": "3.7.6"
  }
 },
 "nbformat": 4,
 "nbformat_minor": 4
}
