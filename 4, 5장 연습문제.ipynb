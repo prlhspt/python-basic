{
 "cells": [
  {
   "cell_type": "markdown",
   "metadata": {},
   "source": [
    "# 4장 연습문제"
   ]
  },
  {
   "cell_type": "markdown",
   "metadata": {},
   "source": [
    "# 1. for문을 이용하여 실행 결과와 같은 형태로 출력하는 프로그램을 작성하시오"
   ]
  },
  {
   "cell_type": "code",
   "execution_count": 26,
   "metadata": {},
   "outputs": [
    {
     "name": "stdout",
     "output_type": "stream",
     "text": [
      "* * * * * * * * * * \n",
      "* * * * * * * * * * \n",
      "* * * * * * * * * * \n",
      "* * * * * * * * * * \n",
      "* * * * * * * * * * \n"
     ]
    }
   ],
   "source": [
    "for i in range(1, 6):\n",
    "    for k in range(1, 11):\n",
    "        print('*', end =' ')\n",
    "    print('')"
   ]
  },
  {
   "cell_type": "markdown",
   "metadata": {},
   "source": [
    "# 2. while문을 이용하여 1번 문제와 동일한 결과를 가져오는 프로그램을 작성하시오."
   ]
  },
  {
   "cell_type": "code",
   "execution_count": 27,
   "metadata": {},
   "outputs": [
    {
     "name": "stdout",
     "output_type": "stream",
     "text": [
      "* * * * * * * * * \n",
      "* * * * * * * * * \n",
      "* * * * * * * * * \n",
      "* * * * * * * * * \n",
      "* * * * * * * * * \n"
     ]
    }
   ],
   "source": [
    "i = 0\n",
    "k = 0\n",
    "\n",
    "while i < 5:\n",
    "    i += 1\n",
    "    \n",
    "    while k < 9:\n",
    "        print('*', end = ' ')\n",
    "        k += 1\n",
    "    print('')\n",
    "    k = 0"
   ]
  },
  {
   "cell_type": "markdown",
   "metadata": {},
   "source": [
    "# 3. for문을 이용하여 실행 결과와 같은 형태로 출력하는 프로그램을 작성하시오."
   ]
  },
  {
   "cell_type": "code",
   "execution_count": 28,
   "metadata": {},
   "outputs": [
    {
     "name": "stdout",
     "output_type": "stream",
     "text": [
      "6 6 6 6 6 6 \n",
      "5 5 5 5 5 \n",
      "4 4 4 4 \n",
      "3 3 3 \n",
      "2 2 \n",
      "1 \n"
     ]
    }
   ],
   "source": [
    "for i in range(6, 0, -1):\n",
    "    for k in range(0, i):\n",
    "        print(i, end = ' ')\n",
    "    print(\"\")"
   ]
  },
  {
   "cell_type": "markdown",
   "metadata": {},
   "source": [
    "# 4. for문을 이용하여 실행결과와 같은 형태로 출력하는 프로그램을 작성하시오. "
   ]
  },
  {
   "cell_type": "code",
   "execution_count": 29,
   "metadata": {},
   "outputs": [
    {
     "name": "stdout",
     "output_type": "stream",
     "text": [
      "\n",
      "0 \n",
      "0 1 \n",
      "0 1 2 \n",
      "0 1 2 3 \n",
      "0 1 2 3 4 \n",
      "0 1 2 3 4 5 \n"
     ]
    }
   ],
   "source": [
    "for i in range(0, 7, 1):\n",
    "    for k in range(0, i):\n",
    "        print(k, end = ' ')\n",
    "    print(\"\")"
   ]
  },
  {
   "cell_type": "markdown",
   "metadata": {},
   "source": [
    "# 5. for문을 이용하여 실행 결과와 같은 형태로 출력하는 프로그램을 작성하시오."
   ]
  },
  {
   "cell_type": "code",
   "execution_count": 32,
   "metadata": {},
   "outputs": [
    {
     "name": "stdout",
     "output_type": "stream",
     "text": [
      "* * * * * * * * \n",
      "*             * \n",
      "*             * \n",
      "*             * \n",
      "*             * \n",
      "*             * \n",
      "*             * \n",
      "* * * * * * * * \n"
     ]
    }
   ],
   "source": [
    "for i in range(8) :\n",
    "    if i == 0 or i == 7:\n",
    "        for j in range(8) :\n",
    "            print('*', end=' ')\n",
    "    else :\n",
    "        print('*', end=' ')\n",
    "        for j in range(6) :\n",
    "            print(' ', end=' ')\n",
    "        print('*', end=' ')\n",
    "    print()\n",
    "   \n",
    "    "
   ]
  },
  {
   "cell_type": "markdown",
   "metadata": {},
   "source": [
    "# 6. 1~100까지의 수 중에서 홀수와 홀수의 합을 실행 결과와 같이 출력하는 프로그램을 작성하시오."
   ]
  },
  {
   "cell_type": "code",
   "execution_count": 33,
   "metadata": {},
   "outputs": [
    {
     "name": "stdout",
     "output_type": "stream",
     "text": [
      "1 + 3 + 5 + 7 + 9 + 11 + 13 + 15 + 17 + 19 + 21 + 23 + 25 + 27 + 29 + 31 + 33 + 35 + 37 + 39 + 41 + 43 + 45 + 47 + 49 + 51 + 53 + 55 + 57 + 59 + 61 + 63 + 65 + 67 + 69 + 71 + 73 + 75 + 77 + 79 + 81 + 83 + 85 + 87 + 89 + 91 + 93 + 95 + 97 + 99 + 99 = 2500\n"
     ]
    }
   ],
   "source": [
    "sum = 0\n",
    "for i in range(1, 100, 2):\n",
    "    sum = sum + i\n",
    "    print('{} +'.format(i), end = ' ')\n",
    "    if i >= 99:\n",
    "        print('{} = {}'.format(i, sum))\n",
    "        break"
   ]
  },
  {
   "cell_type": "markdown",
   "metadata": {},
   "source": [
    "# 7. N을 입력 받아 다음과 같은 수식의 결과를 얻는 프로그램을 작성하시오."
   ]
  },
  {
   "cell_type": "code",
   "execution_count": 34,
   "metadata": {},
   "outputs": [
    {
     "name": "stdout",
     "output_type": "stream",
     "text": [
      "N의 값을 입력하세요 : 12\n",
      "N 의 값 : 12\n",
      "합계 : 744010475682\n"
     ]
    }
   ],
   "source": [
    "N = int(input(\"N의 값을 입력하세요 : \"))\n",
    "print(\"N 의 값 : {}\".format(N))\n",
    "sum = 0\n",
    "for i in range(2, N+1, 2):\n",
    "    sum = sum + i ** (i-1)\n",
    "print('합계 : {}'.format(sum))"
   ]
  },
  {
   "cell_type": "markdown",
   "metadata": {},
   "source": [
    "# 8. N을 입력받아 1부터 N까지의 수 중에서 소수를 구하는 프로그램을 작성하시오."
   ]
  },
  {
   "cell_type": "code",
   "execution_count": 37,
   "metadata": {},
   "outputs": [
    {
     "name": "stdout",
     "output_type": "stream",
     "text": [
      "N값을 입력해주세요 : 200\n",
      "3\n",
      "5\n",
      "7\n",
      "11\n",
      "13\n",
      "17\n",
      "19\n",
      "23\n",
      "29\n",
      "31\n",
      "37\n",
      "41\n",
      "43\n",
      "47\n",
      "53\n",
      "59\n",
      "61\n",
      "67\n",
      "71\n",
      "73\n",
      "79\n",
      "83\n",
      "89\n",
      "97\n",
      "101\n",
      "103\n",
      "107\n",
      "109\n",
      "113\n",
      "127\n",
      "131\n",
      "137\n",
      "139\n",
      "149\n",
      "151\n",
      "157\n",
      "163\n",
      "167\n",
      "173\n",
      "179\n",
      "181\n",
      "191\n",
      "193\n",
      "197\n",
      "199\n"
     ]
    }
   ],
   "source": [
    "N = int(input(\"N값을 입력해주세요 : \" ))\n",
    "\n",
    "for i in range(3, N + 1):\n",
    "    for k in range(2, i + 1):\n",
    "        if i == k:\n",
    "            print(i)\n",
    "        else:\n",
    "            if i % k == 0:\n",
    "                break\n",
    "            else:\n",
    "                continue\n",
    "\n",
    "\n",
    "\n",
    "        "
   ]
  },
  {
   "cell_type": "markdown",
   "metadata": {},
   "source": [
    "# 9. while문을 이용하여 달러, 원화, 유로의 환산표를 만드는 프로그램을 작성하시오"
   ]
  },
  {
   "cell_type": "code",
   "execution_count": 38,
   "metadata": {},
   "outputs": [
    {
     "name": "stdout",
     "output_type": "stream",
     "text": [
      "--------------------------------- \n",
      "\n",
      "달러  원화  유로 \n",
      "\n",
      "--------------------------------- \n",
      "\n",
      "0  0  0.0\n",
      "10  10800  8.1\n",
      "20  21600  16.2\n",
      "30  32400  24.299999999999997\n",
      "40  43200  32.4\n",
      "50  54000  40.5\n",
      "60  64800  48.599999999999994\n",
      "70  75600  56.699999999999996\n",
      "80  86400  64.8\n",
      "90  97200  72.89999999999999\n",
      "100  108000  81.0\n"
     ]
    }
   ],
   "source": [
    "print(\"--------------------------------- \\n\")\n",
    "print(\"달러  원화  유로 \\n\")\n",
    "print(\"--------------------------------- \\n\")\n",
    "\n",
    "i = 0\n",
    "while i < 11:\n",
    "    print('{}  {}  {}'.format(i*10, i*10800, i*8.1))\n",
    "    i += 1"
   ]
  },
  {
   "cell_type": "markdown",
   "metadata": {},
   "source": [
    "# 10. while문을 이용하여 센티미터, 밀리미터, 미터, 인치의 길이 환산표를 만드는 프로그램을 작성하시오"
   ]
  },
  {
   "cell_type": "code",
   "execution_count": 39,
   "metadata": {},
   "outputs": [
    {
     "name": "stdout",
     "output_type": "stream",
     "text": [
      "--------------------------------- \n",
      "\n",
      "cm  mm  m  inch\n",
      "\n",
      "--------------------------------- \n",
      "\n",
      "1  10  0.01  0.3937\n",
      "3  30  0.03  1.1811\n",
      "5  50  0.05  1.9685\n",
      "7  70  0.07  2.7559\n",
      "9  90  0.09  3.5433\n",
      "11  110  0.11  4.3307\n",
      "13  130  0.13  5.1181\n",
      "15  150  0.15  5.9055\n",
      "17  170  0.17  6.6929\n",
      "19  190  0.19  7.4803\n",
      "21  210  0.21  8.2677\n",
      "23  230  0.23  9.0551\n",
      "25  250  0.25  9.8425\n",
      "27  270  0.27  10.6299\n",
      "29  290  0.29  11.4173\n",
      "31  310  0.31  12.204699999999999\n",
      "33  330  0.33  12.9921\n",
      "35  350  0.35000000000000003  13.7795\n",
      "37  370  0.37  14.5669\n",
      "39  390  0.39  15.3543\n",
      "41  410  0.41000000000000003  16.1417\n",
      "43  430  0.43  16.9291\n",
      "45  450  0.45  17.7165\n",
      "47  470  0.47000000000000003  18.503899999999998\n",
      "49  490  0.49  19.2913\n",
      "51  510  0.51  20.0787\n",
      "53  530  0.53  20.8661\n",
      "55  550  0.55  21.6535\n",
      "57  570  0.5700000000000001  22.4409\n",
      "59  590  0.59  23.2283\n",
      "61  610  0.61  24.0157\n",
      "63  630  0.63  24.8031\n",
      "65  650  0.65  25.5905\n",
      "67  670  0.67  26.3779\n",
      "69  690  0.6900000000000001  27.1653\n",
      "71  710  0.71  27.9527\n",
      "73  730  0.73  28.740099999999998\n",
      "75  750  0.75  29.5275\n",
      "77  770  0.77  30.314899999999998\n",
      "79  790  0.79  31.1023\n",
      "81  810  0.81  31.8897\n",
      "83  830  0.8300000000000001  32.6771\n",
      "85  850  0.85  33.4645\n",
      "87  870  0.87  34.2519\n",
      "89  890  0.89  35.0393\n",
      "91  910  0.91  35.8267\n",
      "93  930  0.93  36.6141\n",
      "95  950  0.9500000000000001  37.4015\n",
      "97  970  0.97  38.1889\n",
      "99  990  0.99  38.9763\n"
     ]
    }
   ],
   "source": [
    "print(\"--------------------------------- \\n\")\n",
    "print(\"cm  mm  m  inch\\n\")\n",
    "print(\"--------------------------------- \\n\")\n",
    "\n",
    "i = 1\n",
    "while i < 100:\n",
    "    print('{}  {}  {}  {}'.format(i, i*10, i*0.01, i*0.3937))\n",
    "    i += 2"
   ]
  },
  {
   "cell_type": "markdown",
   "metadata": {},
   "source": [
    "# 5장 연습문제\n"
   ]
  },
  {
   "cell_type": "markdown",
   "metadata": {},
   "source": [
    "# 다음은 리스트 data에 관련된 문제이다 물음에 답하시오.\n",
    "data = [-12, 3, -9, 5, 8, -2, 0, -8, 3, 10]"
   ]
  },
  {
   "cell_type": "markdown",
   "metadata": {},
   "source": [
    "# 1. for문을 이용하여 data의 요소들 중에서 가장 큰 수를 찾는 프로그램을 작성하시오."
   ]
  },
  {
   "cell_type": "code",
   "execution_count": 40,
   "metadata": {},
   "outputs": [
    {
     "name": "stdout",
     "output_type": "stream",
     "text": [
      "10\n"
     ]
    }
   ],
   "source": [
    "max = 0\n",
    "data = [-12, 3, -9, 5, 8, -2, 0, -8, 3, 10]\n",
    "for i in data:\n",
    "    if max < i:\n",
    "        max = i\n",
    "print(max)"
   ]
  },
  {
   "cell_type": "markdown",
   "metadata": {},
   "source": [
    "# 2. while문을 이용하여 짝수 번째 요소들의 합과 평균을 구하는 프로그램을 작성하시오."
   ]
  },
  {
   "cell_type": "code",
   "execution_count": 41,
   "metadata": {},
   "outputs": [
    {
     "name": "stdout",
     "output_type": "stream",
     "text": [
      "합계 : 8, 평균 : 1.6\n"
     ]
    }
   ],
   "source": [
    "i = 1\n",
    "sum = 0\n",
    "data = [-12, 3, -9, 5, 8, -2, 0, -8, 3, 10]\n",
    "while i < len(data):\n",
    "    sum = sum + data[i]\n",
    "    i += 2\n",
    "avg = sum / len(data) * 2\n",
    "print(\"합계 : {}, 평균 : {}\".format(sum, avg))"
   ]
  },
  {
   "cell_type": "markdown",
   "metadata": {},
   "source": [
    "# 3. 리스트의 메소드를 이용하여 data를 내림차순으로 정렬하는 프로그램을 작성하시오."
   ]
  },
  {
   "cell_type": "code",
   "execution_count": 42,
   "metadata": {},
   "outputs": [
    {
     "name": "stdout",
     "output_type": "stream",
     "text": [
      "[-12, -9, -8, -2, 0, 3, 3, 5, 8, 10]\n"
     ]
    }
   ],
   "source": [
    "data = [-12, 3, -9, 5, 8, -2, 0, -8, 3, 10]\n",
    "\n",
    "data.sort()\n",
    "print(data)"
   ]
  },
  {
   "cell_type": "markdown",
   "metadata": {},
   "source": [
    "# 4. data의 4번째 요소에 데이터 100을 추가하는 프로그램을 작성하시오."
   ]
  },
  {
   "cell_type": "code",
   "execution_count": 43,
   "metadata": {},
   "outputs": [
    {
     "name": "stdout",
     "output_type": "stream",
     "text": [
      "[-12, 3, -9, 5, 8, -2, 0, -8, 3, 10, 100]\n"
     ]
    }
   ],
   "source": [
    "data = [-12, 3, -9, 5, 8, -2, 0, -8, 3, 10]\n",
    "\n",
    "data.append(100)\n",
    "print(data)"
   ]
  },
  {
   "cell_type": "markdown",
   "metadata": {},
   "source": [
    "# 5. data에서 -12의 값을 가진 요소를 삭제하는 프로그램을 작성하시오."
   ]
  },
  {
   "cell_type": "code",
   "execution_count": 44,
   "metadata": {},
   "outputs": [
    {
     "name": "stdout",
     "output_type": "stream",
     "text": [
      "[3, -9, 5, 8, -2, 0, -8, 3, 10]\n"
     ]
    }
   ],
   "source": [
    "data = [-12, 3, -9, 5, 8, -2, 0, -8, 3, 10]\n",
    "data.remove(-12)\n",
    "print(data)"
   ]
  },
  {
   "cell_type": "markdown",
   "metadata": {},
   "source": [
    "# 9x9 미니 바둑판에 돌이 놓여있는 정보를 저장한 2차원 리스트 stone은 다음과 같다. 물음에 답하시오"
   ]
  },
  {
   "cell_type": "markdown",
   "metadata": {},
   "source": [
    "# 6. 흑돌과 백돌의 개수를 카운트하는 프로그램을 작성하시오."
   ]
  },
  {
   "cell_type": "code",
   "execution_count": 45,
   "metadata": {},
   "outputs": [
    {
     "name": "stdout",
     "output_type": "stream",
     "text": [
      "흑돌의 개수 : 17\n",
      "백돌의 개수 : 16\n"
     ]
    }
   ],
   "source": [
    "stone = [[0, 0, 0, 0, 0, 0, 0, 0, 0 ],\n",
    "         [0, 1, 0, 1, 2, 1, 2, 1, 0 ],\n",
    "         [0, 2, 1, 1, 1, 2, 2, 0, 0 ],\n",
    "         [0, 0, 2, 2, 2, 1, 0, 2, 0 ],\n",
    "         [0, 0, 0, 0, 0, 1, 0, 2, 1 ],\n",
    "         [0, 0, 0, 2, 0, 1, 2, 1, 0 ],\n",
    "         [0, 0, 0, 2, 1, 0, 1, 1, 0 ],\n",
    "         [0, 0, 0, 1, 1, 0, 0, 0, 0 ],\n",
    "         [0, 0, 0, 0, 2, 2, 2, 0, 0 ]]\n",
    "\n",
    "white = 0\n",
    "black = 0\n",
    "\n",
    "for i in range(1, 9):\n",
    "    for j in range(1, 9):\n",
    "        if stone[i][j] == 2:\n",
    "            white += 1\n",
    "        elif stone[i][j] == 1:\n",
    "            black += 1\n",
    "print('흑돌의 개수 : {}'.format(black))\n",
    "print('백돌의 개수 : {}'.format(white))"
   ]
  },
  {
   "cell_type": "markdown",
   "metadata": {},
   "source": [
    "# 7. 실행 결과와 같이 흑돌, 백돌, 돌이 없는곳을 표시하는 프로그램을 작성하시오."
   ]
  },
  {
   "cell_type": "code",
   "execution_count": 46,
   "metadata": {},
   "outputs": [
    {
     "name": "stdout",
     "output_type": "stream",
     "text": [
      "['X', 'X', 'X', 'X', 'X', 'X', 'X', 'X', 'X']\n",
      "\n",
      "['X', '●', 'X', '●', '○', '●', '○', '●', 'X']\n",
      "\n",
      "['X', '○', '●', '●', '●', '○', '○', 'X', 'X']\n",
      "\n",
      "['X', 'X', '○', '○', '○', '●', 'X', '○', 'X']\n",
      "\n",
      "['X', 'X', 'X', 'X', 'X', '●', 'X', '○', '●']\n",
      "\n",
      "['X', 'X', 'X', '○', 'X', '●', '○', '●', 'X']\n",
      "\n",
      "['X', 'X', 'X', '○', '●', 'X', '●', '●', 'X']\n",
      "\n",
      "['X', 'X', 'X', '●', '●', 'X', 'X', 'X', 'X']\n",
      "\n",
      "['X', 'X', 'X', 'X', '○', '○', '○', 'X', 'X']\n",
      "\n"
     ]
    }
   ],
   "source": [
    "stone = [[0, 0, 0, 0, 0, 0, 0, 0, 0 ],\n",
    "         [0, 1, 0, 1, 2, 1, 2, 1, 0 ],\n",
    "         [0, 2, 1, 1, 1, 2, 2, 0, 0 ],\n",
    "         [0, 0, 2, 2, 2, 1, 0, 2, 0 ],\n",
    "         [0, 0, 0, 0, 0, 1, 0, 2, 1 ],\n",
    "         [0, 0, 0, 2, 0, 1, 2, 1, 0 ],\n",
    "         [0, 0, 0, 2, 1, 0, 1, 1, 0 ],\n",
    "         [0, 0, 0, 1, 1, 0, 0, 0, 0 ],\n",
    "         [0, 0, 0, 0, 2, 2, 2, 0, 0 ]]\n",
    "\n",
    "white = 0\n",
    "black = 0\n",
    "\n",
    "for i in range(0, 9):\n",
    "    for j in range(0, 9):\n",
    "        if stone[i][j] == 2:\n",
    "            stone[i][j] = '○'\n",
    "            \n",
    "        elif stone[i][j] == 1:\n",
    "            stone[i][j] = '●'\n",
    "            \n",
    "        else:\n",
    "            stone[i][j] = 'X'\n",
    "\n",
    "for i in range(0, 9):\n",
    "    print(stone[i])\n",
    "    print('')"
   ]
  },
  {
   "cell_type": "markdown",
   "metadata": {},
   "source": [
    "# 8. 7번 문제의 결과에 추가로 실행 결과에서와 같이 바둑판의 좌측과 상단에 좌표 값을 삽입하는 프로그램을 작성하시오."
   ]
  },
  {
   "cell_type": "code",
   "execution_count": 47,
   "metadata": {},
   "outputs": [
    {
     "name": "stdout",
     "output_type": "stream",
     "text": [
      "    01   02   03   04   05   06   07   08   09\n",
      "01['X', 'X', 'X', 'X', 'X', 'X', 'X', 'X', 'X'] \n",
      "02['X', '●', 'X', '●', '○', '●', '○', '●', 'X'] \n",
      "03['X', '○', '●', '●', '●', '○', '○', 'X', 'X'] \n",
      "04['X', 'X', '○', '○', '○', '●', 'X', '○', 'X'] \n",
      "05['X', 'X', 'X', 'X', 'X', '●', 'X', '○', '●'] \n",
      "06['X', 'X', 'X', '○', 'X', '●', '○', '●', 'X'] \n",
      "07['X', 'X', 'X', '○', '●', 'X', '●', '●', 'X'] \n",
      "08['X', 'X', 'X', '●', '●', 'X', 'X', 'X', 'X'] \n",
      "09['X', 'X', 'X', 'X', '○', '○', '○', 'X', 'X'] \n"
     ]
    }
   ],
   "source": [
    "stone = [[0, 0, 0, 0, 0, 0, 0, 0, 0 ],\n",
    "         [0, 1, 0, 1, 2, 1, 2, 1, 0 ],\n",
    "         [0, 2, 1, 1, 1, 2, 2, 0, 0 ],\n",
    "         [0, 0, 2, 2, 2, 1, 0, 2, 0 ],\n",
    "         [0, 0, 0, 0, 0, 1, 0, 2, 1 ],\n",
    "         [0, 0, 0, 2, 0, 1, 2, 1, 0 ],\n",
    "         [0, 0, 0, 2, 1, 0, 1, 1, 0 ],\n",
    "         [0, 0, 0, 1, 1, 0, 0, 0, 0 ],\n",
    "         [0, 0, 0, 0, 2, 2, 2, 0, 0 ]]\n",
    "\n",
    "white = 0\n",
    "black = 0\n",
    "\n",
    "for i in range(0, 9):\n",
    "    for j in range(0, 9):\n",
    "        if stone[i][j] == 2:\n",
    "            stone[i][j] = '○'\n",
    "            \n",
    "        elif stone[i][j] == 1:\n",
    "            stone[i][j] = '●'\n",
    "            \n",
    "        else:\n",
    "            stone[i][j] = 'X'\n",
    "\n",
    "print('    01   02   03   04   05   06   07   08   09')      \n",
    "for i in range(0, 9):\n",
    "    \n",
    "    print('0{}{}'.format(i+1, stone[i]), end = ' ')\n",
    "    print('')"
   ]
  },
  {
   "cell_type": "markdown",
   "metadata": {},
   "source": [
    "# 9. 완성된 9번 프로그램을 수정하여 키보드로 X와 Y의 좌표 값을 입력받아 흑돌, 백돌, 돌없음을 출력하는 프로그램을 작성하시오.\n",
    "\n"
   ]
  },
  {
   "cell_type": "code",
   "execution_count": 48,
   "metadata": {},
   "outputs": [
    {
     "name": "stdout",
     "output_type": "stream",
     "text": [
      "X축 좌표값을 입력하세요(1~9, 종료시 -1 입력) : 9\n",
      "Y축 좌표값을 입력하세요(1~9, 종료시 -1 입력) : 5\n",
      "흑돌\n",
      "X축 좌표값을 입력하세요(1~9, 종료시 -1 입력) : 7\n",
      "Y축 좌표값을 입력하세요(1~9, 종료시 -1 입력) : 2\n",
      "백돌\n",
      "X축 좌표값을 입력하세요(1~9, 종료시 -1 입력) : 4\n",
      "Y축 좌표값을 입력하세요(1~9, 종료시 -1 입력) : 1\n",
      "돌없음\n",
      "X축 좌표값을 입력하세요(1~9, 종료시 -1 입력) : -1\n",
      "종료되었습니다!\n"
     ]
    }
   ],
   "source": [
    "stone = [[0, 0, 0, 0, 0, 0, 0, 0, 0],\n",
    "         [0, 1, 0, 1, 2, 1, 2, 1, 0],\n",
    "         [0, 2, 1, 1, 1, 2, 2, 0, 0],\n",
    "         [0, 0, 2, 2, 2, 1, 0, 2, 0],\n",
    "         [0, 0, 0, 0, 0, 1, 0, 2, 1],\n",
    "         [0, 0, 0, 2, 0, 1, 2, 1, 0],\n",
    "         [0, 0, 0, 2, 1, 0, 1, 1, 0],\n",
    "         [0, 0, 0, 1, 1, 0, 0, 0, 0],\n",
    "         [0, 0, 0, 0, 2, 2, 2, 0, 0]]\n",
    "\n",
    "while True:\n",
    "    X = int(input(\"X축 좌표값을 입력하세요(1~9, 종료시 -1 입력) : \"))\n",
    "    if X == -1:\n",
    "        break\n",
    "    else:\n",
    "        Y = int(input(\"Y축 좌표값을 입력하세요(1~9, 종료시 -1 입력) : \"))\n",
    "        if Y == -1:\n",
    "            break\n",
    "        else:\n",
    "            if stone[Y-1][X-1] == 1:\n",
    "                print('흑돌')\n",
    "            elif stone[Y-1][X-1] == 2:\n",
    "                print('백돌')\n",
    "            else:\n",
    "                print('돌없음')\n",
    "print(\"종료되었습니다!\")"
   ]
  }
 ],
 "metadata": {
  "kernelspec": {
   "display_name": "Python 3",
   "language": "python",
   "name": "python3"
  },
  "language_info": {
   "codemirror_mode": {
    "name": "ipython",
    "version": 3
   },
   "file_extension": ".py",
   "mimetype": "text/x-python",
   "name": "python",
   "nbconvert_exporter": "python",
   "pygments_lexer": "ipython3",
   "version": "3.7.6"
  }
 },
 "nbformat": 4,
 "nbformat_minor": 4
}
