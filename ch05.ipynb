{
 "cells": [
  {
   "cell_type": "code",
   "execution_count": 14,
   "metadata": {},
   "outputs": [
    {
     "name": "stdout",
     "output_type": "stream",
     "text": [
      "['사과', '오렌지', '딸기', '포도', '감', '키위', '멜론', '수박']\n",
      "[5, 10.2, '탁구', True, [4, 5, 6]]\n",
      "[1, 3, 5, 7, 9]\n",
      "\n",
      "사과\n",
      "['오렌지', '딸기', '포도']\n",
      "['딸기', '포도', '감', '키위', '멜론', '수박']\n",
      "수박\n",
      "['감', '키위']\n",
      "['키위', '멜론', '수박']\n"
     ]
    }
   ],
   "source": [
    "# ex 5-1\n",
    "fruits = ['사과', '오렌지', '딸기', '포도', '감', '키위', '멜론', '수박']\n",
    "list1 = [5, 10.2, '탁구', True, [4, 5, 6]]\n",
    "numbers = list(range(1, 10, 2))\n",
    "\n",
    "print(fruits)\n",
    "print(list1)\n",
    "print(numbers)\n",
    "\n",
    "print()\n",
    "print(fruits[0])\n",
    "print(fruits[1:4])\n",
    "print(fruits[2:])\n",
    "print(fruits[-1])\n",
    "print(fruits[-4:-2])\n",
    "print(fruits[-3:])"
   ]
  },
  {
   "cell_type": "code",
   "execution_count": 15,
   "metadata": {},
   "outputs": [
    {
     "name": "stdout",
     "output_type": "stream",
     "text": [
      "['red', 'green', 'blue', 'yellow']\n",
      "['red', 'black', 'green', 'blue', 'yellow']\n",
      "['red', 'black', 'green', 'blue', 'yellow', 'purple', 'white']\n",
      "['red', 'black', 'green', 'blue', 'yellow', 'purple', 'white', 'purple', 'white']\n"
     ]
    }
   ],
   "source": [
    "# ex 5-2\n",
    "a = ['red', 'green', 'blue']\n",
    "a.append('yellow')\n",
    "print(a)\n",
    "\n",
    "a.insert(1, 'black')\n",
    "print(a)\n",
    "\n",
    "b = ['purple', 'white']\n",
    "a.extend(b)\n",
    "print(a)\n",
    "\n",
    "c = a + b\n",
    "print(c)"
   ]
  },
  {
   "cell_type": "code",
   "execution_count": 16,
   "metadata": {},
   "outputs": [
    {
     "name": "stdout",
     "output_type": "stream",
     "text": [
      "2\n",
      "[10, 20, 40, 50, 60, 70, 80, 90, 100]\n",
      "[10, 20, 40, 50, 60, 70, 80, 100]\n",
      "[]\n"
     ]
    }
   ],
   "source": [
    "# ex 5-3\n",
    "a = [10, 20, 30, 40, 50, 60, 70, 80, 90, 100]\n",
    "x = a.index(30)\n",
    "print(x)\n",
    "\n",
    "a.pop(x)     # del a[x]와 동일\n",
    "print(a)\n",
    "\n",
    "a.remove(90)\n",
    "print(a)\n",
    "\n",
    "a.clear()\n",
    "print(a)"
   ]
  },
  {
   "cell_type": "code",
   "execution_count": 18,
   "metadata": {},
   "outputs": [
    {
     "name": "stdout",
     "output_type": "stream",
     "text": [
      "3\n"
     ]
    }
   ],
   "source": [
    "# ex 5-4\n",
    "list1 = ['a', 'bb', 'c', 'd','aaa', 'c', 'ddd', 'aaa',  'b', 'cc', 'd', 'aaa', ]\n",
    "length = list1.count('aaa')\n",
    "\n",
    "print(length)"
   ]
  },
  {
   "cell_type": "code",
   "execution_count": 19,
   "metadata": {},
   "outputs": [
    {
     "name": "stdout",
     "output_type": "stream",
     "text": [
      "[-7, 1, 3, 5, 8, 9, 11, 13]\n",
      "[13, 11, 9, 8, 5, 3, 1, -7]\n"
     ]
    }
   ],
   "source": [
    "# ex 5-5\n",
    "list2 = [-7, 1, 5, 8, 3, 9, 11, 13]\n",
    "list2.sort()\n",
    "print(list2)\n",
    "\n",
    "list2.sort(reverse=True)\n",
    "print(list2)"
   ]
  },
  {
   "cell_type": "code",
   "execution_count": 21,
   "metadata": {},
   "outputs": [
    {
     "name": "stdout",
     "output_type": "stream",
     "text": [
      "[1, 2, 3, 1, 2, 3, 1, 2, 3]\n"
     ]
    }
   ],
   "source": [
    "a = [1, 2, 3]\n",
    "print(a * 3)"
   ]
  },
  {
   "cell_type": "code",
   "execution_count": 36,
   "metadata": {},
   "outputs": [
    {
     "name": "stdout",
     "output_type": "stream",
     "text": [
      "apple\n",
      "orange\n",
      "banana\n"
     ]
    }
   ],
   "source": [
    "# ex 5-6\n",
    "fruits = ['apple', 'orange', 'banana']\n",
    "\n",
    "for fruit in fruits :\n",
    "    print(fruit)"
   ]
  },
  {
   "cell_type": "code",
   "execution_count": 37,
   "metadata": {},
   "outputs": [
    {
     "name": "stdout",
     "output_type": "stream",
     "text": [
      "666 83.25\n"
     ]
    }
   ],
   "source": [
    "# ex 5-7 합계와 평균\n",
    "scores = [88, 75, 90, 95, 77, 69, 80, 92]\n",
    "sum = 0\n",
    "for score in scores:\n",
    "    sum += score\n",
    "print(sum, sum/len(scores))"
   ]
  },
  {
   "cell_type": "code",
   "execution_count": 38,
   "metadata": {},
   "outputs": [
    {
     "name": "stdout",
     "output_type": "stream",
     "text": [
      "[10, 20, 30]\n",
      "[40, 50, 60]\n",
      "10\n",
      "20\n",
      "30\n",
      "40\n",
      "50\n",
      "60\n"
     ]
    }
   ],
   "source": [
    "numbers = [[10, 20, 30], [40, 50, 60]]\n",
    "\n",
    "print(numbers[0])\n",
    "print(numbers[1])\n",
    "\n",
    "print(numbers[0][0])\n",
    "print(numbers[0][1])\n",
    "print(numbers[0][2])\n",
    "\n",
    "print(numbers[1][0])\n",
    "print(numbers[1][1])\n",
    "print(numbers[1][2])"
   ]
  },
  {
   "cell_type": "code",
   "execution_count": 39,
   "metadata": {},
   "outputs": [
    {
     "name": "stdout",
     "output_type": "stream",
     "text": [
      "2\n",
      "3\n"
     ]
    }
   ],
   "source": [
    "print(len(numbers))\n",
    "print(len(numbers[0]))"
   ]
  },
  {
   "cell_type": "code",
   "execution_count": 40,
   "metadata": {},
   "outputs": [
    {
     "name": "stdout",
     "output_type": "stream",
     "text": [
      "1번째 학생의 합계 : 260, 평균 : 86.67\n",
      "2번째 학생의 합계 : 258, 평균 : 86.00\n",
      "3번째 학생의 합계 : 254, 평균 : 84.67\n",
      "4번째 학생의 합계 : 254, 평균 : 84.67\n",
      "5번째 학생의 합계 : 257, 평균 : 85.67\n",
      "6번째 학생의 합계 : 236, 평균 : 78.67\n",
      "7번째 학생의 합계 : 248, 평균 : 82.67\n",
      "8번째 학생의 합계 : 258, 평균 : 86.00\n"
     ]
    }
   ],
   "source": [
    "scores = [[96, 84, 80], [96, 86, 76], [76, 95, 83], [89, 96, 69], \\\n",
    "          [90, 76, 91], [82, 66, 88], [83, 86, 79], [85, 90, 83]]\n",
    "\n",
    "for i in range(len(scores)) :\n",
    "    sum = 0\n",
    "    for j in range(len(scores[i])) :\n",
    "        sum = sum + scores[i][j]\n",
    "\n",
    "    avg = sum/len(scores[i])\n",
    "\n",
    "    print('%d번째 학생의 합계 : %d, 평균 : %.2f' % (i+1, sum, avg))"
   ]
  },
  {
   "cell_type": "code",
   "execution_count": 43,
   "metadata": {},
   "outputs": [
    {
     "name": "stdout",
     "output_type": "stream",
     "text": [
      "[1, 4, 9, 16, 25, 1, 4, 9, 16, 25]\n"
     ]
    }
   ],
   "source": [
    "for i in range(1, 6):\n",
    "    a.append(i*i)\n",
    "print(a)"
   ]
  },
  {
   "cell_type": "code",
   "execution_count": 44,
   "metadata": {},
   "outputs": [
    {
     "name": "stdout",
     "output_type": "stream",
     "text": [
      "[1, 4, 9, 16, 25]\n"
     ]
    }
   ],
   "source": [
    "a = [i * i for i in range(1, 6)]\n",
    "print(a)"
   ]
  },
  {
   "cell_type": "code",
   "execution_count": 46,
   "metadata": {},
   "outputs": [
    {
     "name": "stdout",
     "output_type": "stream",
     "text": [
      "[1, 9, 25, 49, 81]\n"
     ]
    }
   ],
   "source": [
    "b = [i * i for i in range(1, 10) if i % 2 == 1]\n",
    "print(b)"
   ]
  },
  {
   "cell_type": "code",
   "execution_count": 48,
   "metadata": {},
   "outputs": [
    {
     "name": "stdout",
     "output_type": "stream",
     "text": [
      "[1, 9, 25, 49, 81]\n"
     ]
    }
   ],
   "source": [
    "b = [i * i for i in range(1, 10, 2)]\n",
    "print(b)"
   ]
  },
  {
   "cell_type": "code",
   "execution_count": 50,
   "metadata": {},
   "outputs": [
    {
     "name": "stdout",
     "output_type": "stream",
     "text": [
      "[2, 4, 6, 8, 10, 12, 14, 16, 18, 3, 6, 9, 12, 15, 18, 21, 24, 27, 4, 8, 12, 16, 20, 24, 28, 32, 36, 5, 10, 15, 20, 25, 30, 35, 40, 45, 6, 12, 18, 24, 30, 36, 42, 48, 54, 7, 14, 21, 28, 35, 42, 49, 56, 63, 8, 16, 24, 32, 40, 48, 56, 64, 72, 9, 18, 27, 36, 45, 54, 63, 72, 81]\n"
     ]
    }
   ],
   "source": [
    "gugudan = [i * k for i in range(2, 10) for k in range(1, 10)]\n",
    "print(gugudan)"
   ]
  },
  {
   "cell_type": "code",
   "execution_count": 53,
   "metadata": {},
   "outputs": [
    {
     "data": {
      "text/plain": [
       "['I', 'love', 'you.']"
      ]
     },
     "execution_count": 53,
     "metadata": {},
     "output_type": "execute_result"
    }
   ],
   "source": [
    "'I love you.'.split(' ')"
   ]
  },
  {
   "cell_type": "code",
   "execution_count": null,
   "metadata": {},
   "outputs": [],
   "source": []
  }
 ],
 "metadata": {
  "kernelspec": {
   "display_name": "Python 3",
   "language": "python",
   "name": "python3"
  },
  "language_info": {
   "codemirror_mode": {
    "name": "ipython",
    "version": 3
   },
   "file_extension": ".py",
   "mimetype": "text/x-python",
   "name": "python",
   "nbconvert_exporter": "python",
   "pygments_lexer": "ipython3",
   "version": "3.7.6"
  }
 },
 "nbformat": 4,
 "nbformat_minor": 4
}
