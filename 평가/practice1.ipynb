{
 "cells": [
  {
   "cell_type": "markdown",
   "metadata": {},
   "source": [
    "# 1"
   ]
  },
  {
   "cell_type": "code",
   "execution_count": 192,
   "metadata": {},
   "outputs": [
    {
     "name": "stdout",
     "output_type": "stream",
     "text": [
      "    *        *\n",
      "   ***      ***\n",
      "  *****    *****\n",
      " *******  *******\n"
     ]
    }
   ],
   "source": [
    "n = 4 \n",
    "for i in range(1, n+1):\n",
    "    for j in range(0, n+1-i):\n",
    "        print(\" \", end=\"\")\n",
    "    for j in range(0, 2*i-1):\n",
    "        print(\"*\", end=\"\")\n",
    "    for j in range(0, n+1-i):\n",
    "        print(\"  \", end=\"\")\n",
    "    for j in range(0, 2*i-1):\n",
    "        print(\"*\", end=\"\")\n",
    "    print()\n"
   ]
  },
  {
   "cell_type": "markdown",
   "metadata": {},
   "source": [
    "# 2-1"
   ]
  },
  {
   "cell_type": "code",
   "execution_count": 123,
   "metadata": {},
   "outputs": [
    {
     "name": "stdin",
     "output_type": "stream",
     "text": [
      "리스트로 만들 n의 크기 :  4\n"
     ]
    }
   ],
   "source": [
    "# 2-1\n",
    "\n",
    "import random\n",
    "random.random()\n",
    "\n",
    "n = int(input('리스트로 만들 n의 크기 : '))\n",
    "def create_mine(n):\n",
    "    list = [[0 for col in range(n)] for row in range(n)]\n",
    "    for i in range(len(list)):\n",
    "        for j in range(len(list)):\n",
    "            if random.random() >= 0.5:\n",
    "                list[i][j] = '*'\n",
    "            else:\n",
    "                list[i][j] = '.'\\\n",
    "                \n",
    "    return list\n",
    "                \n",
    "list = create_mine(n)"
   ]
  },
  {
   "cell_type": "code",
   "execution_count": 116,
   "metadata": {},
   "outputs": [
    {
     "name": "stdout",
     "output_type": "stream",
     "text": [
      "[['*', '*', '*', '*'], ['*', '.', '*', '*'], ['.', '*', '.', '.'], ['.', '*', '.', '.']]\n"
     ]
    }
   ],
   "source": [
    "print(list)"
   ]
  },
  {
   "cell_type": "markdown",
   "metadata": {},
   "source": [
    "# 2-2"
   ]
  },
  {
   "cell_type": "code",
   "execution_count": 118,
   "metadata": {},
   "outputs": [],
   "source": [
    "cnt = 0\n",
    "\n",
    "for i in range(len(list)):\n",
    "    for j in range(len(list)):\n",
    "\n",
    "        if list[i][j] == '.':\n",
    "            if i == 0 and j == 0: # i 0, 1 j 0,1\n",
    "                for a in range(0, 2):\n",
    "                    for b in range(0, 2):\n",
    "                        if list[i+a][b+j] == '*':\n",
    "                            cnt = cnt+1\n",
    "                list[i][j] = cnt\n",
    "                cnt = 0\n",
    "\n",
    "            elif i == n-1 and j == 0: # i=-1, 0 j=0, 1\n",
    "                for a in range(-1, 1):\n",
    "                    for b in range(0, 2):\n",
    "                        if list[i+a][b+j] == '*':\n",
    "                            cnt = cnt+1\n",
    "                list[i][j] = cnt\n",
    "                cnt = 0\n",
    "            elif i == 0 and j == n-1: # i=0, 1 j= -1, 0\n",
    "                for a in range(0, 2):\n",
    "                    for b in range(-1, 1):\n",
    "                        if list[i+a][b+j] == '*':\n",
    "                            cnt = cnt+1\n",
    "                list[i][j] = cnt\n",
    "                cnt = 0\n",
    "            elif i == n-1 and j == n-1: # i =-1, 0 j= -1, 0\n",
    "                for a in range(-1, 1):\n",
    "                    for b in range(-1, 1):\n",
    "                        if list[i+a][b+j] == '*':\n",
    "                            cnt = cnt+1\n",
    "                list[i][j] = cnt\n",
    "                cnt = 0\n",
    "            elif i == 0: # i 는 0, 1 가능 j 는 -1, 0, 1 가능\n",
    "                for a in range(0, 2):\n",
    "                    for b in range(-1, 2):\n",
    "                        if list[i+a][b+j] == '*':\n",
    "                            cnt = cnt+1\n",
    "                list[i][j] = cnt\n",
    "                cnt = 0\n",
    "            elif j == 0: # i 는 -1, 0, 1 가능 j 는 0, 1 가능\n",
    "                for a in range(-1, 2):\n",
    "                    for b in range(0, 2):\n",
    "                        if list[i+a][b+j] == '*':\n",
    "                            cnt = cnt+1\n",
    "                list[i][j] = cnt\n",
    "                cnt = 0\n",
    "            elif i == n-1: # i 는 -1, 0 가능 j 는 0, -1 가능\n",
    "                for a in range(-1, 1):\n",
    "                    for b in range(-1, 1):\n",
    "                        if list[i+a][b+j] == '*':\n",
    "                            cnt = cnt+1\n",
    "                list[i][j] = cnt\n",
    "                cnt = 0\n",
    "            elif j == n-1: # i 는 -1, 0, 1 가능 j 는 -1, 0 가능\n",
    "                for a in range(-1, 2):\n",
    "                    for b in range(-1, 1):\n",
    "                        if list[i+a][b+j] == '*':\n",
    "                            cnt = cnt+1\n",
    "                list[i][j] = cnt\n",
    "                cnt = 0\n",
    "            else: # 안에 4개, i -1, 0, 1 가능 j -1, 0, 1 가능\n",
    "                for a in range(-1, 2):\n",
    "                    for b in range(-1, 2):\n",
    "                        if list[i+a][b+j] == '*':\n",
    "                            cnt = cnt+1\n",
    "                list[i][j] = cnt\n",
    "                cnt = 0\n",
    "\n"
   ]
  },
  {
   "cell_type": "code",
   "execution_count": 142,
   "metadata": {},
   "outputs": [
    {
     "name": "stdout",
     "output_type": "stream",
     "text": [
      "['*', 5, '*', '*']\n",
      "['*', '*', '*', '*']\n",
      "['*', 4, 4, '*']\n",
      "[1, 1, 0, 1]\n"
     ]
    }
   ],
   "source": [
    "#출력\n",
    "for i in list:\n",
    "    print(i)"
   ]
  },
  {
   "cell_type": "markdown",
   "metadata": {},
   "source": [
    "# 3"
   ]
  },
  {
   "cell_type": "code",
   "execution_count": 144,
   "metadata": {},
   "outputs": [
    {
     "data": {
      "image/png": "[encoded data removed]",
      "text/plain": [
       "<Figure size 432x288 with 1 Axes>"
      ]
     },
     "metadata": {
      "needs_background": "light"
     },
     "output_type": "display_data"
    }
   ],
   "source": [
    "import numpy as np\n",
    "import matplotlib.pyplot as plt\n",
    " \n",
    "x = np.linspace(-2*np.pi, 2*np.pi)\n",
    "y = np.tanh(x)\n",
    " \n",
    "plt.plot(x, y)\n",
    "plt.show()\n",
    "\n"
   ]
  },
  {
   "cell_type": "markdown",
   "metadata": {},
   "source": [
    "# 4."
   ]
  },
  {
   "cell_type": "code",
   "execution_count": 394,
   "metadata": {},
   "outputs": [],
   "source": [
    "import requests\n",
    "from bs4 import BeautifulSoup"
   ]
  },
  {
   "cell_type": "code",
   "execution_count": 395,
   "metadata": {},
   "outputs": [],
   "source": [
    "headers = {'User-Agent': 'Mozilla/5.0 (X11; Linux x86_64) AppleWebKit/537.36 (KHTML, like Gecko) Chrome/83.0.4103.97 Safari/537.36'}\n",
    "\n",
    "url = 'https://www.melon.com/chart/index.htm'\n",
    "res = requests.get(url, headers = headers)\n",
    "soup = BeautifulSoup(res.content, 'html.parser')"
   ]
  },
  {
   "cell_type": "code",
   "execution_count": 396,
   "metadata": {},
   "outputs": [],
   "source": [
    "title = []\n",
    "sing = []\n",
    "album = []\n",
    "#제목, 가수\n",
    "tis = soup.find_all('span', class_='checkEllipsis')\n",
    "sis= soup.find_all('div', class_='ellipsis rank01')\n",
    "\n",
    "for ti in tis:\n",
    "    sing.append(ti.get_text())\n",
    "for si in sis:\n",
    "    title.append(si.get_text().strip())\n",
    "\n",
    "#앨범명\n",
    "als= soup.find_all('div', class_='ellipsis rank03')\n",
    "for al in als:\n",
    "    album.append(al.get_text().strip())"
   ]
  },
  {
   "cell_type": "code",
   "execution_count": 397,
   "metadata": {},
   "outputs": [],
   "source": [
    "import pandas as pd\n",
    "import numpy as np\n",
    "\n",
    "rank = []\n",
    "for i in range(1, 101):\n",
    "    rank.append(i)\n",
    "df = pd.DataFrame({'제목':title,'가수':sing,'앨범명':album, '순위':rank, '전월순위':np.NAN})"
   ]
  },
  {
   "cell_type": "code",
   "execution_count": 398,
   "metadata": {},
   "outputs": [],
   "source": [
    "df = df.set_index('순위')\n"
   ]
  },
  {
   "cell_type": "code",
   "execution_count": 352,
   "metadata": {},
   "outputs": [],
   "source": [
    "headers = {'User-Agent': 'Mozilla/5.0 (X11; Linux x86_64) AppleWebKit/537.36 (KHTML, like Gecko) Chrome/83.0.4103.97 Safari/537.36'}\n",
    "\n",
    "url = 'https://www.melon.com/chart/month/index.htm#params%5Bidx%5D=1&params%5BrankMonth%5D=202005&params%5BisFirstDate%5D=false&params%5BisLastDate%5D=true'\n",
    "res = requests.get(url, headers = headers)\n",
    "soup = BeautifulSoup(res.content, 'html.parser')\\\n"
   ]
  },
  {
   "cell_type": "code",
   "execution_count": 363,
   "metadata": {},
   "outputs": [],
   "source": [
    "title2 = []\n",
    "sing2 = []\n",
    "album2 = []\n",
    "#제목, 가수\n",
    "sis2 = soup.find_all('span', class_='checkEllipsis')\n",
    "tis2= soup.find_all('div', class_='ellipsis rank01')\n",
    "\n",
    "for si2 in sis2:\n",
    "    sing2.append(si2.get_text())\n",
    "for ti2 in tis2:\n",
    "    title2.append(ti2.get_text().strip())\n",
    "\n",
    "#앨범명\n",
    "als2= soup.find_all('div', class_='ellipsis rank03')\n",
    "for al2 in als2:\n",
    "    album2.append(al2.get_text().strip())"
   ]
  },
  {
   "cell_type": "code",
   "execution_count": 379,
   "metadata": {},
   "outputs": [],
   "source": [
    "rank = []\n",
    "for i in range(1, 101):\n",
    "    rank.append(i)\n",
    "df2 = pd.DataFrame({'제목':title2,'가수':sing2,'앨범명':album2, '순위':rank)"
   ]
  },
  {
   "cell_type": "code",
   "execution_count": 380,
   "metadata": {},
   "outputs": [],
   "source": [
    "df2 = df2.set_index('순위')"
   ]
  },
  {
   "cell_type": "code",
   "execution_count": 381,
   "metadata": {},
   "outputs": [
    {
     "data": {
      "text/html": [
       "<div>\n",
       "<style scoped>\n",
       "    .dataframe tbody tr th:only-of-type {\n",
       "        vertical-align: middle;\n",
       "    }\n",
       "\n",
       "    .dataframe tbody tr th {\n",
       "        vertical-align: top;\n",
       "    }\n",
       "\n",
       "    .dataframe thead th {\n",
       "        text-align: right;\n",
       "    }\n",
       "</style>\n",
       "<table border=\"1\" class=\"dataframe\">\n",
       "  <thead>\n",
       "    <tr style=\"text-align: right;\">\n",
       "      <th></th>\n",
       "      <th>제목</th>\n",
       "      <th>가수</th>\n",
       "      <th>앨범명</th>\n",
       "      <th>전월순위</th>\n",
       "    </tr>\n",
       "    <tr>\n",
       "      <th>순위</th>\n",
       "      <th></th>\n",
       "      <th></th>\n",
       "      <th></th>\n",
       "      <th></th>\n",
       "    </tr>\n",
       "  </thead>\n",
       "  <tbody>\n",
       "    <tr>\n",
       "      <th>1</th>\n",
       "      <td>에잇(Prod.&amp;Feat. SUGA of BTS)</td>\n",
       "      <td>아이유</td>\n",
       "      <td>에잇</td>\n",
       "      <td>NaN</td>\n",
       "    </tr>\n",
       "    <tr>\n",
       "      <th>2</th>\n",
       "      <td>아로하</td>\n",
       "      <td>조정석</td>\n",
       "      <td>슬기로운 의사생활 OST Part 3</td>\n",
       "      <td>NaN</td>\n",
       "    </tr>\n",
       "    <tr>\n",
       "      <th>3</th>\n",
       "      <td>살짝 설렜어 (Nonstop)</td>\n",
       "      <td>오마이걸</td>\n",
       "      <td>NONSTOP</td>\n",
       "      <td>NaN</td>\n",
       "    </tr>\n",
       "    <tr>\n",
       "      <th>4</th>\n",
       "      <td>나비와 고양이 (feat.백현 (BAEKHYUN))</td>\n",
       "      <td>볼빨간사춘기</td>\n",
       "      <td>사춘기집Ⅱ 꽃 본 나비</td>\n",
       "      <td>NaN</td>\n",
       "    </tr>\n",
       "    <tr>\n",
       "      <th>5</th>\n",
       "      <td>시작</td>\n",
       "      <td>가호 (Gaho)</td>\n",
       "      <td>이태원 클라쓰 OST Part.2</td>\n",
       "      <td>NaN</td>\n",
       "    </tr>\n",
       "    <tr>\n",
       "      <th>...</th>\n",
       "      <td>...</td>\n",
       "      <td>...</td>\n",
       "      <td>...</td>\n",
       "      <td>...</td>\n",
       "    </tr>\n",
       "    <tr>\n",
       "      <th>96</th>\n",
       "      <td>아마두 (feat.우원재, 김효은, 넉살, Huckleberry P)</td>\n",
       "      <td>염따, 딥플로우, 팔로알토 (Paloalto), The Quiett, 사이먼 도미닉</td>\n",
       "      <td>Dingo X DAMOIM (Part 2)</td>\n",
       "      <td>NaN</td>\n",
       "    </tr>\n",
       "    <tr>\n",
       "      <th>97</th>\n",
       "      <td>Señorita</td>\n",
       "      <td>Shawn Mendes, Camila Cabello</td>\n",
       "      <td>Señorita</td>\n",
       "      <td>NaN</td>\n",
       "    </tr>\n",
       "    <tr>\n",
       "      <th>98</th>\n",
       "      <td>Zombie</td>\n",
       "      <td>DAY6 (데이식스)</td>\n",
       "      <td>The Book of Us : The Demon</td>\n",
       "      <td>NaN</td>\n",
       "    </tr>\n",
       "    <tr>\n",
       "      <th>99</th>\n",
       "      <td>자나깨나 (Feat. 조이 of Red Velvet)</td>\n",
       "      <td>Crush</td>\n",
       "      <td>homemade 1</td>\n",
       "      <td>NaN</td>\n",
       "    </tr>\n",
       "    <tr>\n",
       "      <th>100</th>\n",
       "      <td>나쁜 놈</td>\n",
       "      <td>벤</td>\n",
       "      <td>Off The Record</td>\n",
       "      <td>NaN</td>\n",
       "    </tr>\n",
       "  </tbody>\n",
       "</table>\n",
       "<p>100 rows × 4 columns</p>\n",
       "</div>"
      ],
      "text/plain": [
       "                                         제목  \\\n",
       "순위                                            \n",
       "1               에잇(Prod.&Feat. SUGA of BTS)   \n",
       "2                                       아로하   \n",
       "3                          살짝 설렜어 (Nonstop)   \n",
       "4              나비와 고양이 (feat.백현 (BAEKHYUN))   \n",
       "5                                        시작   \n",
       "..                                      ...   \n",
       "96   아마두 (feat.우원재, 김효은, 넉살, Huckleberry P)   \n",
       "97                                 Señorita   \n",
       "98                                   Zombie   \n",
       "99            자나깨나 (Feat. 조이 of Red Velvet)   \n",
       "100                                    나쁜 놈   \n",
       "\n",
       "                                                 가수  \\\n",
       "순위                                                    \n",
       "1                                               아이유   \n",
       "2                                               조정석   \n",
       "3                                              오마이걸   \n",
       "4                                            볼빨간사춘기   \n",
       "5                                         가호 (Gaho)   \n",
       "..                                              ...   \n",
       "96   염따, 딥플로우, 팔로알토 (Paloalto), The Quiett, 사이먼 도미닉   \n",
       "97                     Shawn Mendes, Camila Cabello   \n",
       "98                                      DAY6 (데이식스)   \n",
       "99                                            Crush   \n",
       "100                                               벤   \n",
       "\n",
       "                            앨범명  전월순위  \n",
       "순위                                     \n",
       "1                            에잇   NaN  \n",
       "2          슬기로운 의사생활 OST Part 3   NaN  \n",
       "3                       NONSTOP   NaN  \n",
       "4                  사춘기집Ⅱ 꽃 본 나비   NaN  \n",
       "5            이태원 클라쓰 OST Part.2   NaN  \n",
       "..                          ...   ...  \n",
       "96      Dingo X DAMOIM (Part 2)   NaN  \n",
       "97                     Señorita   NaN  \n",
       "98   The Book of Us : The Demon   NaN  \n",
       "99                   homemade 1   NaN  \n",
       "100              Off The Record   NaN  \n",
       "\n",
       "[100 rows x 4 columns]"
      ]
     },
     "execution_count": 381,
     "metadata": {},
     "output_type": "execute_result"
    }
   ],
   "source": [
    "df2"
   ]
  },
  {
   "cell_type": "code",
   "execution_count": 402,
   "metadata": {},
   "outputs": [
    {
     "name": "stderr",
     "output_type": "stream",
     "text": [
      "C:\\ProgramData\\Anaconda3\\lib\\site-packages\\ipykernel_launcher.py:4: SettingWithCopyWarning: \n",
      "A value is trying to be set on a copy of a slice from a DataFrame\n",
      "\n",
      "See the caveats in the documentation: https://pandas.pydata.org/pandas-docs/stable/user_guide/indexing.html#returning-a-view-versus-a-copy\n",
      "  after removing the cwd from sys.path.\n"
     ]
    }
   ],
   "source": [
    "for i in range(1, 101):\n",
    "    for j in range(1, 101):\n",
    "        if df['제목'][i] == df2['제목'][j]:\n",
    "            df['전월순위'][i] = int(j)"
   ]
  },
  {
   "cell_type": "code",
   "execution_count": 404,
   "metadata": {},
   "outputs": [],
   "source": [
    "df['전월순위'] = df['전월순위'].fillna(-1)\n",
    "df['전월순위'] = df['전월순위'].astype(int)\n",
    "df['전월순위'] = df['전월순위'].astype(str)\n",
    "df['전월순위'] = df['전월순위'].replace('-1', np.nan)"
   ]
  },
  {
   "cell_type": "code",
   "execution_count": 406,
   "metadata": {},
   "outputs": [
    {
     "data": {
      "text/html": [
       "<div>\n",
       "<style scoped>\n",
       "    .dataframe tbody tr th:only-of-type {\n",
       "        vertical-align: middle;\n",
       "    }\n",
       "\n",
       "    .dataframe tbody tr th {\n",
       "        vertical-align: top;\n",
       "    }\n",
       "\n",
       "    .dataframe thead th {\n",
       "        text-align: right;\n",
       "    }\n",
       "</style>\n",
       "<table border=\"1\" class=\"dataframe\">\n",
       "  <thead>\n",
       "    <tr style=\"text-align: right;\">\n",
       "      <th></th>\n",
       "      <th>제목</th>\n",
       "      <th>가수</th>\n",
       "      <th>앨범명</th>\n",
       "      <th>전월순위</th>\n",
       "    </tr>\n",
       "    <tr>\n",
       "      <th>순위</th>\n",
       "      <th></th>\n",
       "      <th></th>\n",
       "      <th></th>\n",
       "      <th></th>\n",
       "    </tr>\n",
       "  </thead>\n",
       "  <tbody>\n",
       "    <tr>\n",
       "      <th>1</th>\n",
       "      <td>에잇(Prod.&amp;Feat. SUGA of BTS)</td>\n",
       "      <td>아이유</td>\n",
       "      <td>에잇</td>\n",
       "      <td>1</td>\n",
       "    </tr>\n",
       "    <tr>\n",
       "      <th>2</th>\n",
       "      <td>아로하</td>\n",
       "      <td>조정석</td>\n",
       "      <td>슬기로운 의사생활 OST Part 3</td>\n",
       "      <td>2</td>\n",
       "    </tr>\n",
       "    <tr>\n",
       "      <th>3</th>\n",
       "      <td>사랑하게 될 줄 알았어</td>\n",
       "      <td>전미도</td>\n",
       "      <td>슬기로운 의사생활 OST Part 11</td>\n",
       "      <td>20</td>\n",
       "    </tr>\n",
       "    <tr>\n",
       "      <th>4</th>\n",
       "      <td>MORE &amp; MORE</td>\n",
       "      <td>TWICE (트와이스)</td>\n",
       "      <td>MORE &amp; MORE</td>\n",
       "      <td>NaN</td>\n",
       "    </tr>\n",
       "    <tr>\n",
       "      <th>5</th>\n",
       "      <td>깡 Official Remix</td>\n",
       "      <td>식케이 (Sik-K), pH-1, 박재범, 김하온 (HAON)</td>\n",
       "      <td>깡 Official Remix</td>\n",
       "      <td>NaN</td>\n",
       "    </tr>\n",
       "    <tr>\n",
       "      <th>6</th>\n",
       "      <td>살짝 설렜어 (Nonstop)</td>\n",
       "      <td>오마이걸</td>\n",
       "      <td>NONSTOP</td>\n",
       "      <td>3</td>\n",
       "    </tr>\n",
       "    <tr>\n",
       "      <th>7</th>\n",
       "      <td>ON</td>\n",
       "      <td>방탄소년단</td>\n",
       "      <td>MAP OF THE SOUL : 7</td>\n",
       "      <td>11</td>\n",
       "    </tr>\n",
       "    <tr>\n",
       "      <th>8</th>\n",
       "      <td>Candy</td>\n",
       "      <td>백현 (BAEKHYUN)</td>\n",
       "      <td>Delight - The 2nd Mini Album</td>\n",
       "      <td>NaN</td>\n",
       "    </tr>\n",
       "    <tr>\n",
       "      <th>9</th>\n",
       "      <td>나비와 고양이 (feat.백현 (BAEKHYUN))</td>\n",
       "      <td>볼빨간사춘기</td>\n",
       "      <td>사춘기집Ⅱ 꽃 본 나비</td>\n",
       "      <td>4</td>\n",
       "    </tr>\n",
       "    <tr>\n",
       "      <th>10</th>\n",
       "      <td>좋은 사람 있으면 소개시켜줘</td>\n",
       "      <td>조이 (JOY)</td>\n",
       "      <td>슬기로운 의사생활 OST Part 2</td>\n",
       "      <td>8</td>\n",
       "    </tr>\n",
       "  </tbody>\n",
       "</table>\n",
       "</div>"
      ],
      "text/plain": [
       "                              제목                                  가수  \\\n",
       "순위                                                                     \n",
       "1    에잇(Prod.&Feat. SUGA of BTS)                                 아이유   \n",
       "2                            아로하                                 조정석   \n",
       "3                   사랑하게 될 줄 알았어                                 전미도   \n",
       "4                    MORE & MORE                        TWICE (트와이스)   \n",
       "5               깡 Official Remix  식케이 (Sik-K), pH-1, 박재범, 김하온 (HAON)   \n",
       "6               살짝 설렜어 (Nonstop)                                오마이걸   \n",
       "7                             ON                               방탄소년단   \n",
       "8                          Candy                       백현 (BAEKHYUN)   \n",
       "9   나비와 고양이 (feat.백현 (BAEKHYUN))                              볼빨간사춘기   \n",
       "10               좋은 사람 있으면 소개시켜줘                            조이 (JOY)   \n",
       "\n",
       "                             앨범명 전월순위  \n",
       "순위                                     \n",
       "1                             에잇    1  \n",
       "2           슬기로운 의사생활 OST Part 3    2  \n",
       "3          슬기로운 의사생활 OST Part 11   20  \n",
       "4                    MORE & MORE  NaN  \n",
       "5               깡 Official Remix  NaN  \n",
       "6                        NONSTOP    3  \n",
       "7            MAP OF THE SOUL : 7   11  \n",
       "8   Delight - The 2nd Mini Album  NaN  \n",
       "9                   사춘기집Ⅱ 꽃 본 나비    4  \n",
       "10          슬기로운 의사생활 OST Part 2    8  "
      ]
     },
     "execution_count": 406,
     "metadata": {},
     "output_type": "execute_result"
    }
   ],
   "source": [
    "df.head(10)"
   ]
  }
 ],
 "metadata": {
  "kernelspec": {
   "display_name": "Python 3",
   "language": "python",
   "name": "python3"
  },
  "language_info": {
   "codemirror_mode": {
    "name": "ipython",
    "version": 3
   },
   "file_extension": ".py",
   "mimetype": "text/x-python",
   "name": "python",
   "nbconvert_exporter": "python",
   "pygments_lexer": "ipython3",
   "version": "3.7.6"
  }
 },
 "nbformat": 4,
 "nbformat_minor": 4
}
