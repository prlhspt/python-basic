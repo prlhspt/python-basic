{
 "cells": [
  {
   "cell_type": "markdown",
   "metadata": {},
   "source": [
    "# 1. 아이디와 마일리지 포인트를 딕셔너리에 저장 후 출력하는 프로그램 작성"
   ]
  },
  {
   "cell_type": "code",
   "execution_count": 1,
   "metadata": {},
   "outputs": [],
   "source": [
    "point = {\"kim99\" : 12000, \"lee66\" : 11000, \"han55\" : 3000, \"hong77\" : 5000, \"hwang33\" : 18000}\n",
    "\n"
   ]
  },
  {
   "cell_type": "code",
   "execution_count": 2,
   "metadata": {},
   "outputs": [
    {
     "name": "stdout",
     "output_type": "stream",
     "text": [
      "아이디 : kim99점, 마일리지 : 12000점\n",
      "아이디 : lee66점, 마일리지 : 11000점\n",
      "아이디 : han55점, 마일리지 : 3000점\n",
      "아이디 : hong77점, 마일리지 : 5000점\n",
      "아이디 : hwang33점, 마일리지 : 18000점\n"
     ]
    }
   ],
   "source": [
    "for key, value in point.items():\n",
    "    print('아이디 : {}점, 마일리지 : {}점'.format(key, value))\n",
    "    "
   ]
  },
  {
   "cell_type": "markdown",
   "metadata": {},
   "source": [
    "# 2. 아이디 'han55'의 마일리지를 5000점으로 업데이트하고 업데이트된 정보를 출력하는 프로그램 작성"
   ]
  },
  {
   "cell_type": "code",
   "execution_count": 3,
   "metadata": {},
   "outputs": [
    {
     "name": "stdout",
     "output_type": "stream",
     "text": [
      "han55님의 마일리지가 5000점으로 수정 되었습니다.\n"
     ]
    }
   ],
   "source": [
    "point.update(han55 = 5000)\n",
    "for key, value in point.items():\n",
    "    if key == 'han55':\n",
    "        print('{}님의 마일리지가 {}점으로 수정 되었습니다.'.format(key, value))\n"
   ]
  },
  {
   "cell_type": "markdown",
   "metadata": {},
   "source": [
    "# 3. 딕셔너리에 아이디 'jang88'과 마일리지 7000을 추가한 다음 전체 딕셔너리와 추가된 데이터 출력하는  프로그램 작성"
   ]
  },
  {
   "cell_type": "code",
   "execution_count": 4,
   "metadata": {},
   "outputs": [
    {
     "data": {
      "text/plain": [
       "7000"
      ]
     },
     "execution_count": 4,
     "metadata": {},
     "output_type": "execute_result"
    }
   ],
   "source": [
    "point.setdefault('jang88', 7000)"
   ]
  },
  {
   "cell_type": "markdown",
   "metadata": {},
   "source": [
    "# 5. 딕셔너리 저장, 출력하는 프로그램 작성"
   ]
  },
  {
   "cell_type": "code",
   "execution_count": 5,
   "metadata": {},
   "outputs": [
    {
     "name": "stdout",
     "output_type": "stream",
     "text": [
      "------------------------------\n",
      "월 화 수 목 금 토 일 \n",
      "------------------------------\n",
      "25.5 28.3 33.2 32.1 17.3 35.3 33.3 \n",
      "------------------------------\n"
     ]
    }
   ],
   "source": [
    "weather = {'월' : 25.5, '화' : 28.3,  '수' : 33.2,  '목' : 32.1,  '금' : 17.3,  '토' : 35.3,  '일' : 33.3, }\n",
    "\n",
    "print(\"------------------------------\")\n",
    "for key, value in weather.items():\n",
    "    print(key, end = ' ')\n",
    "print(\"\")\n",
    "print(\"------------------------------\")\n",
    "for key, value in weather.items():\n",
    "    print(value, end = ' ')\n",
    "print(\"\")\n",
    "print(\"------------------------------\")\n",
    "\n"
   ]
  },
  {
   "cell_type": "markdown",
   "metadata": {},
   "source": [
    "# 7. 딕셔너리에서 주간 최고 기온이 30 이상인 요일을 출력하는 프로그램 작성"
   ]
  },
  {
   "cell_type": "code",
   "execution_count": 6,
   "metadata": {},
   "outputs": [
    {
     "name": "stdout",
     "output_type": "stream",
     "text": [
      "기온이 30 이상인 요일 : ['수', '목', '토', '일']\n"
     ]
    }
   ],
   "source": [
    "day = []\n",
    "for key, value in weather.items():\n",
    "    if value > 30:\n",
    "        day.append(key)\n",
    "                \n",
    "print('기온이 30 이상인 요일 : {}'.format(day))"
   ]
  },
  {
   "cell_type": "markdown",
   "metadata": {},
   "source": [
    "# 7장 연습문제"
   ]
  },
  {
   "cell_type": "markdown",
   "metadata": {},
   "source": [
    "# 1. 다음 프로그램의 실행 결과는?"
   ]
  },
  {
   "cell_type": "code",
   "execution_count": 7,
   "metadata": {},
   "outputs": [
    {
     "name": "stdout",
     "output_type": "stream",
     "text": [
      "20, 10\n"
     ]
    }
   ],
   "source": [
    "def f1(a):\n",
    "    a += 10\n",
    "    print(a, end=', ')\n",
    "    \n",
    "a = 10\n",
    "f1(a)\n",
    "print(a)"
   ]
  },
  {
   "cell_type": "markdown",
   "metadata": {},
   "source": [
    "# 2. 다음 프로그램의 실행 결과는?"
   ]
  },
  {
   "cell_type": "code",
   "execution_count": 8,
   "metadata": {},
   "outputs": [
    {
     "name": "stdout",
     "output_type": "stream",
     "text": [
      "300, 100, 300\n"
     ]
    }
   ],
   "source": [
    "def f2(a):\n",
    "    global y\n",
    "    y += a\n",
    "    x = 500\n",
    "    print(y, end=', ')\n",
    "    \n",
    "x = 100\n",
    "y = 200\n",
    "f2(x)\n",
    "print(x, end=', ')\n",
    "print(y)"
   ]
  },
  {
   "cell_type": "markdown",
   "metadata": {},
   "source": [
    "# 3. 2~n까지의 정수 중에서 소수를 구하는 프로그램을 함수를 이용하여 프로그램 작성"
   ]
  },
  {
   "cell_type": "code",
   "execution_count": 9,
   "metadata": {},
   "outputs": [
    {
     "name": "stdout",
     "output_type": "stream",
     "text": [
      "n 값을 입력해 주세요 : 20\n",
      "2\n",
      "3\n",
      "5\n",
      "7\n",
      "11\n",
      "13\n",
      "17\n",
      "19\n"
     ]
    }
   ],
   "source": [
    "n = int(input(\"n 값을 입력해 주세요 : \"))\n",
    "\n",
    "def prime_num(n):\n",
    "    for i in range(2, n):\n",
    "        for j in range(2, i + 1):\n",
    "            if i % j == 0:\n",
    "                if i == j:\n",
    "                    print(i)\n",
    "                else:\n",
    "                    break\n",
    "        \n",
    "    \n",
    "prime_num(n)"
   ]
  },
  {
   "cell_type": "markdown",
   "metadata": {},
   "source": [
    "# 5. 다음 프로그램의 실행 결과는?\n"
   ]
  },
  {
   "cell_type": "code",
   "execution_count": 10,
   "metadata": {},
   "outputs": [
    {
     "name": "stdout",
     "output_type": "stream",
     "text": [
      "[1]\n"
     ]
    }
   ],
   "source": [
    "def numSquare(num):\n",
    "    list_new = []\n",
    "    for i in range(1, num+1):\n",
    "        list_new.append(i**2)\n",
    "        \n",
    "        return list_new\n",
    "    \n",
    "n = 5\n",
    "result = numSquare(n)\n",
    "print(result)"
   ]
  },
  {
   "cell_type": "markdown",
   "metadata": {},
   "source": [
    "# 7. 다음은 유효한 비밀번호(10자리 이상, 영문대문자 반드시 포함)을 만드는 프로그램이다. 1개 이상의 사용자 함수를 정의하여 프로그램을 작성"
   ]
  },
  {
   "cell_type": "code",
   "execution_count": 11,
   "metadata": {},
   "outputs": [
    {
     "name": "stdout",
     "output_type": "stream",
     "text": [
      "비밀번호는 10자리 이상, 영문 대문자를 포함하여야 합니다.\n",
      "비밀 번호 : 3677848\n",
      "비밀 번호 확인: 3677848\n",
      "비밀번호가 잘못되었습니다! 다시 입력해주세요\n",
      "비밀 번호 : A123456789\n",
      "비밀 번호 확인: asdfsadf\n",
      "비밀번호가 잘못되었습니다! 다시 입력해주세요\n",
      "비밀 번호 : A123456789\n",
      "비밀 번호 확인: A123456789\n",
      "유효한 비밀번호입니다~~~\n"
     ]
    }
   ],
   "source": [
    "print(\"비밀번호는 10자리 이상, 영문 대문자를 포함하여야 합니다.\")\n",
    "def valid(passwd):\n",
    "        passwd_cof = input(\"비밀 번호 확인: \")\n",
    "        if passwd != passwd_cof:\n",
    "            print('비밀번호가 잘못되었습니다! 다시 입력해주세요')\n",
    "            return\n",
    "        if len(passwd) < 10:\n",
    "            print('비밀번호가 잘못되었습니다! 다시 입력해주세요')\n",
    "            return\n",
    "        for c in passwd:\n",
    "            if passwd >= 'A' and passwd <= 'Z':\n",
    "                print('유효한 비밀번호입니다~~~')\n",
    "                count = 1\n",
    "                return count\n",
    "            else:\n",
    "                print('비밀번호가 잘못되었습니다! 다시 입력해주세요')\n",
    "\n",
    "while True:\n",
    "    count = 0\n",
    "    passwd = input(\"비밀 번호 : \")\n",
    "    count = valid(passwd)\n",
    "\n",
    "    if count == 1:\n",
    "        break\n",
    "\n",
    "\n",
    "\n"
   ]
  },
  {
   "cell_type": "code",
   "execution_count": null,
   "metadata": {},
   "outputs": [],
   "source": []
  }
 ],
 "metadata": {
  "kernelspec": {
   "display_name": "Python 3",
   "language": "python",
   "name": "python3"
  },
  "language_info": {
   "codemirror_mode": {
    "name": "ipython",
    "version": 3
   },
   "file_extension": ".py",
   "mimetype": "text/x-python",
   "name": "python",
   "nbconvert_exporter": "python",
   "pygments_lexer": "ipython3",
   "version": "3.7.6"
  }
 },
 "nbformat": 4,
 "nbformat_minor": 4
}
