{
 "cells": [
  {
   "cell_type": "markdown",
   "metadata": {},
   "source": [
    "# 2장 연습문제 파이썬의 기본 문법\n",
    "\n",
    "\n",
    "\n"
   ]
  },
  {
   "cell_type": "markdown",
   "metadata": {},
   "source": [
    "## 1. 다음은 파이썬에서 많이 사용되는 데이터 형이다. 데이터 형의 정의 및 특징에 대해 설명하시오."
   ]
  },
  {
   "cell_type": "markdown",
   "metadata": {},
   "source": [
    "(1) 숫자 : 숫자로 구성된 데이터 형이다. 특징으로는 정수형(Integer)과 소수점이 있는 실수형(Floating Point) 숫자가 있다. 정수형 숫자는 -1, 2, 0 과 같은 음수, 0, 양수로 구성된 정수를 의미하고, 실수형 숫자는 3.14, -3.203, 0.00등과 같이 소수점이 존재하는 숫자를 말한다.\n",
    "\n",
    "(2) 문자열 : 문자열은 하나 또는 다수의 문자로 구성된 데이터 형을 말한다. 문자열을 사용할때는 숫자와는 달리 다음과 같이 해당 문자열 앞 뒤에 단 따옴표(')나 쌍 따옴표(')를 붙여야 한다."
   ]
  },
  {
   "cell_type": "markdown",
   "metadata": {},
   "source": [
    "## 2. 다음  프로그램의 실행 결과는?"
   ]
  },
  {
   "cell_type": "code",
   "execution_count": null,
   "metadata": {},
   "outputs": [],
   "source": [
    "a = 8\n",
    "b = 10\n",
    "\n",
    "c = a + b * 2\n",
    "c %= 5\n",
    "c **= 3\n",
    "c -= c * 10\n",
    "\n",
    "print(c)\n",
    "\n",
    "실행결과 : -243"
   ]
  },
  {
   "cell_type": "markdown",
   "metadata": {},
   "source": [
    "## 3. 원의 둘레와 면저글 구하는 프로그램을 작성하시오. 단, 실행결과는 아래와 정확하게 일치하도록 하고, 반지름은 키보드로 입력받아 처리한다."
   ]
  },
  {
   "cell_type": "code",
   "execution_count": 6,
   "metadata": {},
   "outputs": [
    {
     "name": "stdout",
     "output_type": "stream",
     "text": [
      "반지름을 입력하세요 : 10\n",
      "반지름 : 10 cm\n",
      "원의 둘레 : 62.800000000000004 cm\n",
      "원의 면적 : 314.0 cm2\n"
     ]
    }
   ],
   "source": [
    "circle_radius = int(input('반지름을 입력하세요 : '))\n",
    "\n",
    "pi = 3.14\n",
    "circle_round = 2 * circle_radius * pi\n",
    "circle_area = circle_radius**2 * pi\n",
    "\n",
    "print('반지름 : {} cm'.format(circle_radius))\n",
    "print('원의 둘레 : {} cm'.format(circle_round))\n",
    "print('원의 면적 : {} cm2'.format(circle_area))"
   ]
  },
  {
   "cell_type": "markdown",
   "metadata": {},
   "source": [
    "## 4. 온라인 서점에서 결제할 금액을 계산하는 프로그램을 작성하시오. 단, 실행결과는 아래와 정확하게 일치하도록 하고, 책 값, 할인율, 배송료는 키보드로 입력 받아 처리한다.\n",
    "\n",
    "※ 힌트 : 결제 금액 = 책 값 - (책 값 * 할인율 / 100) + 배송료"
   ]
  },
  {
   "cell_type": "code",
   "execution_count": 7,
   "metadata": {},
   "outputs": [
    {
     "name": "stdout",
     "output_type": "stream",
     "text": [
      "책 값을 입력하세요 : 15000\n",
      "할인율을 입력하세요(%) : 15\n",
      "배송료를 입력하세요 : 3000\n",
      "결제 금액 : 15750\n"
     ]
    }
   ],
   "source": [
    "book_value = int(input('책 값을 입력하세요 : '))\n",
    "sale_rate = int(input('할인율을 입력하세요(%) : '))\n",
    "delivery_fee = int(input('배송료를 입력하세요 : '))\n",
    "\n",
    "payment = book_value - (book_value * sale_rate / 100) + delivery_fee\n",
    "\n",
    "print('결제 금액 : %d' % payment)\n"
   ]
  },
  {
   "cell_type": "markdown",
   "metadata": {},
   "source": [
    "## 5. 이름, 현재년, 출생년을 입력받아 나이를 계산하는 프로그램을 작성하시오.\n",
    "\n",
    "※ 힌트 : 나이 = 현재년 - 출생년 + 1"
   ]
  },
  {
   "cell_type": "code",
   "execution_count": 8,
   "metadata": {},
   "outputs": [
    {
     "name": "stdout",
     "output_type": "stream",
     "text": [
      "이름을 입력하세요 : 안지영\n",
      "현재년을 입력하세요 : 2020\n",
      "탄생년을 입력하세요 : 1997\n",
      "안지영님의 나이는 24세 입니다!\n"
     ]
    }
   ],
   "source": [
    "name = input('이름을 입력하세요 : ')\n",
    "current_year = int(input('현재년을 입력하세요 : '))\n",
    "birth_year = int(input('탄생년을 입력하세요 : '))\n",
    "\n",
    "age = current_year - birth_year + 1\n",
    "\n",
    "print('{}님의 나이는 {}세 입니다!'.format(name, age))"
   ]
  },
  {
   "cell_type": "markdown",
   "metadata": {},
   "source": [
    "## 6. 연, 월, 일을 입력받아 ####-##-##의 형태로 출력하는 프로그램을 작성하시오. 단, 실행 결과에서와 같이 월과 일에 1~9의 숫자가 입력되면 그 숫자 앞에 0을 채운다."
   ]
  },
  {
   "cell_type": "code",
   "execution_count": 11,
   "metadata": {},
   "outputs": [
    {
     "name": "stdout",
     "output_type": "stream",
     "text": [
      "연을 입력하세요 : 2020\n",
      "월을 입력하세요 : 1\n",
      "일을 입력하세요 : 5\n",
      "2020-01-05\n"
     ]
    }
   ],
   "source": [
    "year = input('연을 입력하세요 : ')\n",
    "month = int(input('월을 입력하세요 : '))\n",
    "day = int(input('일을 입력하세요 : '))\n",
    "\n",
    "print(f'{year}-{month:02}-{day:02}')"
   ]
  },
  {
   "cell_type": "markdown",
   "metadata": {},
   "source": [
    "# 3장 조건문"
   ]
  },
  {
   "cell_type": "markdown",
   "metadata": {},
   "source": [
    "## 1. 변수 a, b, c의 값에 따라 연산의 결과가 참이면 True, 거짓이면 False를 빈 칸에 적으시오.\n",
    "\n",
    "|a|b|c|a!=2|not(b>=a)|c/2>a*3|\n",
    "|:------------------:|:--------:|:--------:|:--------:|:--------:|:--------:|\n",
    "|2|5|-3|True|False|False|\n",
    "|3|7|-4|False|False|False|\n",
    "|-10|10|-2|False|False|True|"
   ]
  },
  {
   "cell_type": "markdown",
   "metadata": {},
   "source": [
    "## 2. 변수 a, b, c의 값에 따라 연산의 결과가 참이면 True, 거짓이면 False를 빈 칸에 적으시오.\n",
    "\n",
    "|a|b|c|a>2 or c>b and c>2|not(a>5 or b>c and c>=3)|\n",
    "|:------------------:|:--------:|:--------:|:--------:|:--------:|\n",
    "|-5|3|2|False|True|\n",
    "|10|5|7|True|False|         \n",
    "|-3|10|2|False|True|"
   ]
  },
  {
   "cell_type": "markdown",
   "metadata": {},
   "source": [
    "## 3. 다음 프로그램의 실행 결과는?\n",
    "\n"
   ]
  },
  {
   "cell_type": "code",
   "execution_count": null,
   "metadata": {},
   "outputs": [],
   "source": [
    "a = 2\n",
    "z = a * 5\n",
    "w = (z - 3) * (a - 2) / 7 + 10\n",
    "\n",
    "if a > z or w > a:\n",
    "    y = 2 * a\n",
    "else :\n",
    "    y = 4 * a\n",
    "    \n",
    "print(y)\n",
    "\n",
    "실행결과 : 4"
   ]
  },
  {
   "cell_type": "markdown",
   "metadata": {},
   "source": [
    "## 4. 물의 섭씨 또는 화씨 온도를 입력받아 섭씨 온도와 물의 상태를 판별하는 프로그램을 작성하시오. 단, 화씨 온도가 입력될 경우에는 섭씨 온도로 변환한다.\n",
    "\n",
    "※ 힌트 : 섭씨 = (화씨 - 32) * 5 / 9"
   ]
  },
  {
   "cell_type": "code",
   "execution_count": 1,
   "metadata": {},
   "outputs": [
    {
     "name": "stdout",
     "output_type": "stream",
     "text": [
      "단위를 입력하세요(1: 섭씨 2: 화씨) : 2\n",
      "온도를 입력하세요 : 80\n",
      "물의 섭씨 온도 : 26.666666666666668, 상태 : 액체\n"
     ]
    }
   ],
   "source": [
    "unit = int(input('단위를 입력하세요(1: 섭씨 2: 화씨) : '))\n",
    "temperature = float(input('온도를 입력하세요 : '))\n",
    "\n",
    "if unit == 1:\n",
    "    temperature = (temperature * 1.8) + 32\n",
    "    if temperature >= 212:\n",
    "        state = '기체'\n",
    "    elif temperature > 32:\n",
    "        state = '액체'\n",
    "    else:\n",
    "        state = '고체'\n",
    "\n",
    "    print('물의 화씨 온도 : {}, 상태 : {}'.format(temperature, state))\n",
    "else:\n",
    "    temperature = (temperature - 32) * 5 / 9\n",
    "    if temperature >= 100:\n",
    "        state = '기체'\n",
    "    elif temperature > 0:    \n",
    "        state = '액체'\n",
    "    else:\n",
    "        state = '고체'\n",
    "                \n",
    "    print('물의 섭씨 온도 : {}, 상태 : {}'.format(temperature, state))"
   ]
  },
  {
   "cell_type": "markdown",
   "metadata": {},
   "source": [
    "## 5. 아이디를 입력받아 아이디가 'admin'이면 '모든 콘텐츠 이용 가능'을 출력하고 프로그램을 종료한다. 아이디가 'admin'이 아니면 회원 레벨을 입력받아 회원 레벨이 2~7이면 '일부 콘텐츠 이용 가능'을 출력하고, 그렇지 않으면 '콘텐츠 이용 불가'를 출력하는 프로그램을 작성하시오."
   ]
  },
  {
   "cell_type": "code",
   "execution_count": 45,
   "metadata": {},
   "outputs": [
    {
     "name": "stdout",
     "output_type": "stream",
     "text": [
      "아이디를 입력하세요 : rubato\n",
      "회원 레벨을 입력해 주세요 : 3\n",
      "일부 콘텐츠 이용 가능\n"
     ]
    }
   ],
   "source": [
    "id = input('아이디를 입력하세요 : ')\n",
    "\n",
    "if id == 'admin':\n",
    "    print('모든 콘텐츠 이용 가능')\n",
    "else:\n",
    "    level = int(input(\"회원 레벨을 입력해 주세요 : \"))\n",
    "    \n",
    "    if level <= 7 and level >= 2:\n",
    "        print('일부 콘텐츠 이용 가능')\n",
    "    else:\n",
    "        print('콘텐츠 이용 불가')"
   ]
  },
  {
   "cell_type": "markdown",
   "metadata": {},
   "source": [
    "## 6. 나이를 입력받아 입장료를 계산하는 프로그램을 작성하시오. 단, 10세 이하의 입장료는 1000원, 65세 이상의 입장료는 0원, 기본입장료는 2000원이다."
   ]
  },
  {
   "cell_type": "code",
   "execution_count": 54,
   "metadata": {},
   "outputs": [
    {
     "name": "stdout",
     "output_type": "stream",
     "text": [
      "나이를 입력하세요 : 6\n",
      "입장료는 1000원 입니다.\n"
     ]
    }
   ],
   "source": [
    "age = int(input('나이를 입력하세요 : '))\n",
    "\n",
    "if age >= 65:\n",
    "    print('입장료는 0원 입니다')\n",
    "elif age <= 10:\n",
    "    print('입장료는 1000원 입니다.')\n",
    "else:\n",
    "    print('입장료는 2000원 입니다.')"
   ]
  },
  {
   "cell_type": "markdown",
   "metadata": {},
   "source": [
    "## 7. 영어와 수학이 모두 80점 이상이면 '합격', 영어와 수학이 모두 80점 미만이면 '불합격', 두 시험 중 한 과목이 80점 이상이면 '재시험 기회제공'의 메세지를 출력하는 프로그램을 작성하시오."
   ]
  },
  {
   "cell_type": "code",
   "execution_count": 58,
   "metadata": {},
   "outputs": [
    {
     "name": "stdout",
     "output_type": "stream",
     "text": [
      "영어 점수를 입력하세요 : 85\n",
      "수학 점수를 입력하세요 : 75\n",
      "재시험 기회제공\n"
     ]
    }
   ],
   "source": [
    "eng = int(input(\"영어 점수를 입력하세요 : \"))\n",
    "math = int(input(\"수학 점수를 입력하세요 : \"))\n",
    "\n",
    "if eng >= 80 and math >= 80:\n",
    "    print('합격')\n",
    "elif eng <= 80 and math <= 80:\n",
    "    print('불합격')\n",
    "else:\n",
    "    print('재시험 기회제공')"
   ]
  }
 ],
 "metadata": {
  "kernelspec": {
   "display_name": "Python 3",
   "language": "python",
   "name": "python3"
  },
  "language_info": {
   "codemirror_mode": {
    "name": "ipython",
    "version": 3
   },
   "file_extension": ".py",
   "mimetype": "text/x-python",
   "name": "python",
   "nbconvert_exporter": "python",
   "pygments_lexer": "ipython3",
   "version": "3.7.6"
  }
 },
 "nbformat": 4,
 "nbformat_minor": 4
}
