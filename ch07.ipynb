{
 "cells": [
  {
   "cell_type": "markdown",
   "metadata": {},
   "source": [
    "# Chapter 06. Tuple과 Dictionary"
   ]
  },
  {
   "cell_type": "code",
   "execution_count": null,
   "metadata": {},
   "outputs": [],
   "source": [
    "# ex 6-1\n",
    "menu = ('coffee', 'milk', 'tea', 'cider')\n",
    "\n",
    "print(menu)\n",
    "print(menu[0])\n",
    "print(menu[2])\n",
    "print(menu[0:3])\n",
    "\n",
    "menu[1] = 'cola' # read only"
   ]
  },
  {
   "cell_type": "code",
   "execution_count": null,
   "metadata": {},
   "outputs": [],
   "source": [
    "# ex 6-2\n",
    "tuple1 = (\"apple\", \"banana\", \"cherry\")\n",
    "tuple2 = (\"orange\", \"melon\", \"strawberry\")\n",
    "\n",
    "tuple3 = tuple1 + tuple2\n",
    "print(tuple3)\n"
   ]
  },
  {
   "cell_type": "code",
   "execution_count": null,
   "metadata": {},
   "outputs": [],
   "source": [
    "# tuple 만들기\n",
    "# odds = (1, 3, 5, 7, 90)\n",
    "odds = tuple(range(1, 10, 2))\n",
    "print(odds)"
   ]
  },
  {
   "cell_type": "code",
   "execution_count": null,
   "metadata": {},
   "outputs": [],
   "source": [
    "# 표현식 (1, 4, 9, 16, 25)\n",
    "squares = tuple(i * i for i in range(1, 6))\n",
    "print(squares)"
   ]
  },
  {
   "cell_type": "code",
   "execution_count": null,
   "metadata": {},
   "outputs": [],
   "source": [
    "# 표현식 (1, 4, 9, 16, 25)\n",
    "odds_squares = tuple(i * i for i in range(1, 10) if i % 2 == 1)\n",
    "print(odds_squares)"
   ]
  },
  {
   "cell_type": "code",
   "execution_count": null,
   "metadata": {},
   "outputs": [],
   "source": [
    "a = [0, 10, 20, 30, 40, 50, 60, 70, 80, 90]\n",
    "print(30 in a)\n",
    "print(100 in a)"
   ]
  },
  {
   "cell_type": "code",
   "execution_count": null,
   "metadata": {},
   "outputs": [],
   "source": [
    "print(100 not in a)\n",
    "print(30 not in a)"
   ]
  },
  {
   "cell_type": "code",
   "execution_count": null,
   "metadata": {},
   "outputs": [],
   "source": [
    "1 in range(10)"
   ]
  },
  {
   "cell_type": "code",
   "execution_count": null,
   "metadata": {},
   "outputs": [],
   "source": [
    "15 not in range(10)"
   ]
  },
  {
   "cell_type": "code",
   "execution_count": null,
   "metadata": {},
   "outputs": [],
   "source": [
    "43 in (38, 43, 46)"
   ]
  },
  {
   "cell_type": "code",
   "execution_count": null,
   "metadata": {},
   "outputs": [],
   "source": [
    "print((1, 2, 3) + (10, 20, 30))\n",
    "print('Hello'+' ' + 'world!')"
   ]
  },
  {
   "cell_type": "code",
   "execution_count": null,
   "metadata": {},
   "outputs": [],
   "source": [
    "range(1, 10) + range(10, 20)"
   ]
  },
  {
   "cell_type": "code",
   "execution_count": null,
   "metadata": {},
   "outputs": [],
   "source": [
    "tuple(range(1, 10)) + tuple(range(10, 20))"
   ]
  },
  {
   "cell_type": "code",
   "execution_count": null,
   "metadata": {},
   "outputs": [],
   "source": [
    "'python' + str(3)"
   ]
  },
  {
   "cell_type": "code",
   "execution_count": null,
   "metadata": {},
   "outputs": [],
   "source": [
    "# 시퀀스 객체 반복하기\n",
    "print([1, 2, 3] * 3)\n",
    "print(3 * [1, 2, 3])"
   ]
  },
  {
   "cell_type": "code",
   "execution_count": null,
   "metadata": {},
   "outputs": [],
   "source": [
    "list(range(1, 5)) * 3"
   ]
  },
  {
   "cell_type": "code",
   "execution_count": null,
   "metadata": {},
   "outputs": [],
   "source": [
    "a = (11, 22, 33, 44 ,55, 66, 77, 88, 99)\n",
    "print(a[0:9:4])\n",
    "print(a[::4])"
   ]
  },
  {
   "cell_type": "code",
   "execution_count": null,
   "metadata": {},
   "outputs": [],
   "source": [
    "numbers = {'names': '안지영', 'age': 30, 'email': 'jiyoung@korea.com'}\n",
    "\n",
    "print(numbers)\n",
    "print(numbers['names'])\n"
   ]
  },
  {
   "cell_type": "code",
   "execution_count": null,
   "metadata": {},
   "outputs": [],
   "source": [
    "# ex 6-4\n",
    "name = '안진영'\n",
    "scores = {'kor': 95, 'eng': 85, 'math': 90, 'science': 80}\n",
    "print(scores)\n",
    "\n",
    "scores['kor'] = 70\n",
    "print(scores['kor'])\n",
    "\n",
    "scores['music'] = 100\n",
    "print(scores)\n",
    "\n",
    "del scores['science']\n",
    "print(scores)\n",
    "\n",
    "print('이름 : %s' % name)\n",
    "print('국어 : %d' % scores['kor'])\n",
    "print('영어 : %d' % scores['eng'])\n",
    "print('수학 : %d' % scores['math'])"
   ]
  },
  {
   "cell_type": "code",
   "execution_count": null,
   "metadata": {},
   "outputs": [],
   "source": [
    "# ex 6-5\n",
    "\n",
    "phones = {'갤럭시 노트8': 2017,  '갤럭시 S9': 2018, '갤럭시 노트10': 2019, '갤럭시 S20': 2020}\n",
    "print(phones)\n",
    "\n",
    "for key in phones :\n",
    "    print('%s => %s' % (key, phones[key]))\n",
    "\n",
    "print(len(phones))"
   ]
  },
  {
   "cell_type": "code",
   "execution_count": null,
   "metadata": {},
   "outputs": [],
   "source": [
    "lux = dict(health:490, helpth:800, mana:334)"
   ]
  },
  {
   "cell_type": "code",
   "execution_count": null,
   "metadata": {},
   "outputs": [],
   "source": [
    "fruits = {'orange', 'orange', 'cherry'}\n",
    "fruits\n",
    "type(fruits)"
   ]
  },
  {
   "cell_type": "markdown",
   "metadata": {},
   "source": [
    "# Chapter 07. 함수"
   ]
  },
  {
   "cell_type": "code",
   "execution_count": null,
   "metadata": {},
   "outputs": [],
   "source": [
    "# ex 7-1\n",
    "def hello() :\n",
    "    print('안녕하세요.')\n",
    "    \n",
    "hello()\n"
   ]
  },
  {
   "cell_type": "code",
   "execution_count": null,
   "metadata": {},
   "outputs": [],
   "source": [
    "def even_odd(num) :\n",
    "    if num % 2 == 0 :\n",
    "        print('%d은(는) 짝수이다.' % num)\n",
    "    else :\n",
    "        print('%d은(는) 홀수이다.' % num)\n",
    "\n",
    "even_odd(7)\n",
    "even_odd(16)"
   ]
  },
  {
   "cell_type": "code",
   "execution_count": null,
   "metadata": {},
   "outputs": [],
   "source": [
    "# ex 7-3\n",
    "def favorate_color(name, color, amount) :\n",
    "    if (amount == 1) :\n",
    "        print('%s님은 %s을 좋아하지 않습니다.' % (name, color))\n",
    "    elif (amount == 2) :\n",
    "        print('%s님은 %s을 조금 좋아합니다.' % (name, color))\n",
    "    else :\n",
    "        print('%s님은 %s을 매우 좋아합니다.' % (name, color))\n",
    "\n",
    "favorate_color('김지영', '빨강', 1)\n",
    "favorate_color('홍채영', '노랑', 2)\n",
    "favorate_color('진소진', '파랑', 3)\n"
   ]
  },
  {
   "cell_type": "code",
   "execution_count": null,
   "metadata": {},
   "outputs": [],
   "source": [
    "# ex 7-4\n",
    "def average(*scores) :\n",
    "    sum = 0\n",
    "    for i in range(len(scores)) :\n",
    "        sum += scores[i]\n",
    "    \n",
    "    avg = sum/len(scores)\n",
    "    print('%d과목의 평균 : %.2f' % (len(scores), avg))\n",
    "\n",
    "average(80, 90, 100)\n",
    "average(75, 80, 94, 78)\n",
    "average(80, 73, 76, 86, 82)\n"
   ]
  },
  {
   "cell_type": "code",
   "execution_count": null,
   "metadata": {},
   "outputs": [],
   "source": [
    "# ex 7-7\n",
    "def circle_area(r) :\n",
    "    area = r * r * 3.14\n",
    "    \n",
    "    return area\n",
    "\n",
    "radius = int(input('원의 반지름을 입력하세요 : '))\n",
    "result = circle_area(radius)\n",
    "print('반지름 : %d, 원의 면적 : %.2f' % (radius, result))"
   ]
  },
  {
   "cell_type": "code",
   "execution_count": null,
   "metadata": {},
   "outputs": [],
   "source": [
    "def new_circle(r) :\n",
    "    area = r * r * 3.14\n",
    "    circum = 2 * 3.14 * r\n",
    "    return area, circum"
   ]
  },
  {
   "cell_type": "code",
   "execution_count": null,
   "metadata": {},
   "outputs": [],
   "source": [
    "radius = int(input('원의 반지름을 입력하세요 : '))\n",
    "res1, res2 = new_circle(radius)\n",
    "print('radius %d, area %.2f, circum %.2f' % (radius, res1, res2))"
   ]
  },
  {
   "cell_type": "code",
   "execution_count": null,
   "metadata": {},
   "outputs": [],
   "source": [
    "# Q 7-1 함수로 정수 합계 구하기\n",
    "def sum(start, end) :\n",
    "    total = 0\n",
    "    for i in range(start, end+1) :\n",
    "        total += i\n",
    "    print('%d ~ %d의 정수 합계 : %d' % (start, end, total))\n",
    "    \n",
    "sum(10, 100)\n",
    "sum(100, 1000)\n",
    "sum(1000, 10000)"
   ]
  },
  {
   "cell_type": "code",
   "execution_count": 1,
   "metadata": {},
   "outputs": [
    {
     "name": "stdout",
     "output_type": "stream",
     "text": [
      "시작 수를 입력하세요: 10\n",
      "끝 수를 입력하세요: 20\n",
      "합계를 구할 배수를 입력하세요: 5\n",
      "10 ~ 20의 정수 중 5의 배수의 합 : 45\n"
     ]
    }
   ],
   "source": [
    "# Q 7-2 함수로 배수 합계 구하기\n",
    "def sum_multiple(n1, n2, num) :\n",
    "    sum = 0\n",
    "    for i in range(n1, n2+1) :\n",
    "        if i % num == 0 :\n",
    "            sum += i\n",
    "\n",
    "    return sum\n",
    "\n",
    "start = int(input('시작 수를 입력하세요: '))\n",
    "end = int(input('끝 수를 입력하세요: '))\n",
    "multiple = int(input('합계를 구할 배수를 입력하세요: '))\n",
    "\n",
    "result = sum_multiple(start, end, multiple)\n",
    "\n",
    "print('%d ~ %d의 정수 중 %d의 배수의 합 : %d' % (start, end, multiple, result))"
   ]
  },
  {
   "cell_type": "code",
   "execution_count": 2,
   "metadata": {},
   "outputs": [
    {
     "name": "stdout",
     "output_type": "stream",
     "text": [
      "첫 번째 수를 입력하세요: 10\n",
      "두 번째 수를 입력하세요: 35\n",
      "10과(와) 35의 최대공약수 : 5\n"
     ]
    }
   ],
   "source": [
    "def computeMaxGong(x, y):\n",
    "    if x > y:\n",
    "        small = y\n",
    "    else:\n",
    "        small = x\n",
    "        \n",
    "    for i in range(1, small+1):\n",
    "        if((x % i == 0) and (y % i == 0)):\n",
    "            result = i\n",
    "    return result\n",
    "\n",
    "num1 = int(input(\"첫 번째 수를 입력하세요: \"))\n",
    "num2 = int(input(\"두 번째 수를 입력하세요: \"))\n",
    "\n",
    "max_gong = computeMaxGong(num1, num2)\n",
    "\n",
    "print('%d과(와) %d의 최대공약수 : %d' % (num1, num2, max_gong))"
   ]
  },
  {
   "cell_type": "code",
   "execution_count": 5,
   "metadata": {},
   "outputs": [],
   "source": [
    "# 1부터 10000사이의 완전수\n",
    "def divisor(x):\n",
    "    sum = 0\n",
    "    for i in range(x-1):\n",
    "        if i % x == 0:\n",
    "            sum = sum + x\n",
    "\n",
    "for x in range(10001):\n",
    "    divisor(x)\n",
    "    if (sum == x):\n",
    "        print(sum)\n",
    "    sum = 0"
   ]
  },
  {
   "cell_type": "code",
   "execution_count": 19,
   "metadata": {},
   "outputs": [
    {
     "name": "stdout",
     "output_type": "stream",
     "text": [
      "6\n",
      "28\n",
      "496\n",
      "8128\n"
     ]
    }
   ],
   "source": [
    "def divisor(x):\n",
    "    sum = 0\n",
    "    for i in range(1, x):\n",
    "        if (x % i == 0):\n",
    "            sum = sum + i\n",
    "    return sum\n",
    "\n",
    "\n",
    "for x in range(3, 10001):\n",
    "    if (sum == divisor(x)):\n",
    "        print(sum)"
   ]
  },
  {
   "cell_type": "code",
   "execution_count": 20,
   "metadata": {},
   "outputs": [
    {
     "name": "stdout",
     "output_type": "stream",
     "text": [
      "10\n",
      "10000\n"
     ]
    }
   ],
   "source": [
    "# ex 7-10\n",
    "def func() :\n",
    "    x = 10\n",
    "    print(x)\n",
    "\n",
    "func()\n",
    "print(x)"
   ]
  },
  {
   "cell_type": "code",
   "execution_count": 21,
   "metadata": {},
   "outputs": [
    {
     "name": "stdout",
     "output_type": "stream",
     "text": [
      "10\n",
      "140729567453872\n",
      "10\n",
      "140729567453872\n"
     ]
    }
   ],
   "source": [
    "# ex 7-11\n",
    "def func() :\n",
    "    print(x)\n",
    "    print(id(x))\n",
    "    \n",
    "x = 10\n",
    "print(x)\n",
    "print(id(x))\n",
    "func()"
   ]
  },
  {
   "cell_type": "code",
   "execution_count": 22,
   "metadata": {},
   "outputs": [
    {
     "name": "stdout",
     "output_type": "stream",
     "text": [
      "10\n",
      "140729567453872\n",
      "100\n",
      "140729567456752\n",
      "10\n",
      "140729567453872\n"
     ]
    }
   ],
   "source": [
    "# ex 7-12\n",
    "def func() :\n",
    "    x = 100\n",
    "    print(x)\n",
    "    print(id(x))\n",
    "    \n",
    "x = 10\n",
    "print(x)\n",
    "print(id(x))\n",
    "\n",
    "func()\n",
    "\n",
    "print(x)\n",
    "print(id(x))"
   ]
  },
  {
   "cell_type": "code",
   "execution_count": 23,
   "metadata": {},
   "outputs": [
    {
     "name": "stdout",
     "output_type": "stream",
     "text": [
      "10\n",
      "100\n",
      "140729567456752\n",
      "100\n",
      "140729567456752\n"
     ]
    }
   ],
   "source": [
    "# ex 7-13\n",
    "def func() :\n",
    "    global x\n",
    "    x = 100\n",
    "    print(x)\n",
    "    print(id(x))\n",
    "    \n",
    "x = 10\n",
    "print(x)\n",
    "func()\n",
    "print(x)\n",
    "print(id(x))"
   ]
  },
  {
   "cell_type": "code",
   "execution_count": 24,
   "metadata": {},
   "outputs": [
    {
     "name": "stdout",
     "output_type": "stream",
     "text": [
      "파일 쓰기 완료!\n"
     ]
    }
   ],
   "source": [
    "# ex 7-14\n",
    "\n",
    "file = open('sample.txt', 'w', encoding='utf8')\n",
    "file.write('안녕하세요. 반갑습니다.')\n",
    "file.close()\n",
    "print('파일 쓰기 완료!')\n"
   ]
  },
  {
   "cell_type": "code",
   "execution_count": 25,
   "metadata": {},
   "outputs": [
    {
     "name": "stdout",
     "output_type": "stream",
     "text": [
      "김소영 82 80 93 97 93 88\n",
      "정예린 86 100 93 86 90 77\n",
      "이세영 91 88 99 79 92 68\n",
      "정수정 86 100 93 89 92 93\n",
      "박지수 80 100 95 89 90 84\n",
      "\n"
     ]
    }
   ],
   "source": [
    "scores = ['김소영 82 80 93 97 93 88',\n",
    "           '정예린 86 100 93 86 90 77',\n",
    "           '이세영 91 88 99 79 92 68',\n",
    "           '정수정 86 100 93 89 92 93',\n",
    "           '박지수 80 100 95 89 90 84']\n",
    "data = ''\n",
    "for item in scores :\n",
    "    data += item + '\\n'\n",
    "\n",
    "# 화면 출력하기    \n",
    "print(data)\n",
    "\n",
    "# 파일(scores.txt)에 저장하기\n",
    "file = open('scores.txt', 'w', encoding='utf8' )\n",
    "file.write(data)\n",
    "file.close()"
   ]
  },
  {
   "cell_type": "code",
   "execution_count": 26,
   "metadata": {},
   "outputs": [
    {
     "name": "stdout",
     "output_type": "stream",
     "text": [
      "scores.txt 파일의 내용 : \n",
      "김소영 82 80 93 97 93 88\n",
      "정예린 86 100 93 86 90 77\n",
      "이세영 91 88 99 79 92 68\n",
      "정수정 86 100 93 89 92 93\n",
      "박지수 80 100 95 89 90 84\n"
     ]
    }
   ],
   "source": [
    "file = open('scores.txt', 'r', encoding='utf8')\n",
    "lines = file.readlines()\n",
    "\n",
    "print('scores.txt 파일의 내용 : ')\n",
    "for line in lines :\n",
    "    print(line, end='')\n",
    "    \n",
    "file.close()"
   ]
  },
  {
   "cell_type": "code",
   "execution_count": null,
   "metadata": {},
   "outputs": [],
   "source": [
    "bvf "
   ]
  }
 ],
 "metadata": {
  "kernelspec": {
   "display_name": "Python 3",
   "language": "python",
   "name": "python3"
  },
  "language_info": {
   "codemirror_mode": {
    "name": "ipython",
    "version": 3
   },
   "file_extension": ".py",
   "mimetype": "text/x-python",
   "name": "python",
   "nbconvert_exporter": "python",
   "pygments_lexer": "ipython3",
   "version": "3.7.6"
  }
 },
 "nbformat": 4,
 "nbformat_minor": 4
}
