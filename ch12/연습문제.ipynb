{
 "cells": [
  {
   "cell_type": "markdown",
   "metadata": {},
   "source": [
    "# 12장 연습문제"
   ]
  },
  {
   "cell_type": "code",
   "execution_count": 356,
   "metadata": {},
   "outputs": [],
   "source": [
    "# 그리기 기본 package, 설정\n",
    "import matplotlib.pyplot as plt\n",
    "import matplotlib as mpl\n",
    "\n",
    "%matplotlib inline\n",
    "mpl.rcParams['axes.unicode_minus'] = False\n",
    "mpl.rc('font', family = 'Malgun Gothic')"
   ]
  },
  {
   "cell_type": "markdown",
   "metadata": {},
   "source": [
    "# 1. x 축 간격 3달로 막대 그래프 작성"
   ]
  },
  {
   "cell_type": "code",
   "execution_count": 357,
   "metadata": {},
   "outputs": [
    {
     "name": "stdout",
     "output_type": "stream",
     "text": [
      "['기준월', '카페수']\n",
      "[['201710', '79296'], ['201711', '80738'], ['201712', '76923'], ['201801', '77942'], ['201802', '84967'], ['201803', '80719'], ['201804', '80719'], ['201805', '87156'], ['201806', '81248'], ['201807', '82191'], ['201808', '82858'], ['201809', '88742'], ['201810', '89050'], ['201811', '89661'], ['201812', '95650'], ['201901', '96352'], ['201902', '97009'], ['201903', '97415'], ['201904', '97421'], ['201905', '97740'], ['201906', '98217'], ['201907', '98311'], ['201908', '98538'], ['201909', '98779']]\n"
     ]
    }
   ],
   "source": [
    "f = open('cafe_2year.csv', 'r', encoding='utf-8')\n",
    "lines = csv.reader(f)\n",
    "header = next(lines)\n",
    "print(header)\n",
    "\n",
    "list_data = []\n",
    "for line in lines :\n",
    "    list_data.append(line[:])\n",
    "\n",
    "print(list_data)\n",
    "f.close()"
   ]
  },
  {
   "cell_type": "code",
   "execution_count": 358,
   "metadata": {},
   "outputs": [
    {
     "data": {
      "text/plain": [
       "'201710'"
      ]
     },
     "execution_count": 358,
     "metadata": {},
     "output_type": "execute_result"
    }
   ],
   "source": [
    "list_data[0][0]"
   ]
  },
  {
   "cell_type": "code",
   "execution_count": 359,
   "metadata": {},
   "outputs": [
    {
     "data": {
      "image/png": "[encoded data removed]",
      "text/plain": [
       "<Figure size 432x288 with 1 Axes>"
      ]
     },
     "metadata": {
      "needs_background": "light"
     },
     "output_type": "display_data"
    }
   ],
   "source": [
    "import matplotlib.pyplot as plt\n",
    "from matplotlib import rc\n",
    "\n",
    "rc('font', family='Malgun Gothic')\n",
    "\n",
    "x = []\n",
    "y = []\n",
    "for i in range(1, len(list_data), 3):    \n",
    "    x.append(list_data[i+1][0])\n",
    "    y.append(int(list_data[i+1][1]))\n",
    "plt.bar(x, y)\n",
    "plt.ylim(76923, 100000)\n",
    "plt.title('전국의 월별 까페수', fontsize = 30)\n",
    "plt.xlabel('년월')\n",
    "plt.ylabel('까페수')\n",
    "plt.show()"
   ]
  },
  {
   "cell_type": "markdown",
   "metadata": {},
   "source": [
    "# 2. 지역 일반의 수 인턴수 레지던트 수 전문의 수 출력하는 프로그램 작성"
   ]
  },
  {
   "cell_type": "code",
   "execution_count": 360,
   "metadata": {},
   "outputs": [
    {
     "name": "stdout",
     "output_type": "stream",
     "text": [
      "['지역', '병원명', '일반의 수', '인턴 수', '레지던트 수', '전문의 수']\n",
      "[['인천', '가톨릭대학교인천성모병원', '1', '22', '68', '201'], ['서울', '강북삼성병원', '6', '28', '137', '204'], ['서울', '건국대학교병원', '1', '37', '164', '225'], ['대구', '경북대학교병원', '5', '77', '209', '225'], ['경남', '경상대학교병원', '1', '35', '114', '182'], ['서울', '경희대학교병원', '3', '94', '153', '223'], ['대구', '계명대학교동산병원', '3', '44', '145', '238'], ['서울', '고려대학교의과대학부속구로병원', '1', '32', '178', '292'], ['경기', '고려대학교의과대학부속안산병원', '4', '31', '94', '218'], ['부산', '고신대학교복음병원', '2', '24', '96', '194'], ['충남', '단국대학교의과대학부속병원', '0', '27', '122', '191'], ['대구', '대구가톨릭대학교병원', '2', '31', '124', '193'], ['부산', '동아대학교병원', '5', '26', '113', '210'], ['부산', '부산대학교병원', '2', '59', '192', '290'], ['경기', '분당서울대학교병원', '7', '2', '215', '511'], ['서울', '삼성서울병원', '22', '87', '418', '796'], ['서울', '서울대학교병원', '8', '185', '551', '725'], ['충남', '순천향대학교부속 천안병원', '1', '26', '104', '205'], ['경기', '순천향대학교부속부천병원', '2', '30', '105', '214'], ['경기', '아주대학교병원', '19', '61', '211', '380'], ['경남', '양산부산대학교병원', '1', '30', '117', '285'], ['강원', '연세대학교 원주세브란스기독병원', '13', '45', '144', '224'], ['서울', '연세대학교의과대학 강남세브란스병원', '0', '41', '259', '311'], ['대구', '영남대학교병원', '2', '37', '138', '208'], ['전북', '원광대학교병원', '1', '29', '96', '171'], ['인천', '의료법인 길의료재단 길병원', '7', '54', '186', '310'], ['부산', '인제대학교부산백병원', '4', '32', '137', '207'], ['인천', '인하대학교의과대학부속병원', '3', '42', '154', '232'], ['서울', '재단법인아산사회복지재단 서울아산병원', '25', '134', '469', '1020'], ['광주', '전남대학교병원', '1', '50', '185', '245'], ['전북', '전북대학교병원', '0', '39', '146', '235'], ['광주', '조선대학교병원', '1', '32', '114', '165'], ['서울', '중앙대학교병원', '2', '41', '138', '211'], ['대전', '충남대학교병원', '1', '52', '171', '301'], ['충북', '충북대학교병원', '2', '29', '97', '194'], ['대구', '칠곡경북대학교병원', '1', '0', '8', '156'], ['서울', '학교법인 고려중앙학원 고려대학교의과대학부속병원(안암병원)', '2', '41', '181', '306'], ['서울', '학교법인가톨릭학원가톨릭대학교서울성모병원', '5', '64', '264', '500'], ['서울', '학교법인연세대학교의과대학세브란스병원', '6', '4', '278', '824'], ['경기', '한림대학교성심병원', '1', '36', '147', '206'], ['서울', '한양대학교병원', '4', '51', '160', '199'], ['전남', '화순전남대학교병원', '2', '23', '76', '150'], ['인천', '(의)나사렛의료재단 나사렛국제병원', '5', '0', '0', '50'], ['경기', '(의)영문의료재단 다보스병원', '0', '0', '0', '31'], ['대구', '(재)미리내천주성삼성직수도회천주성삼병원', '1', '0', '0', '21'], ['광주', 'KS병원', '1', '0', '0', '35'], ['인천', '가톨릭관동대학교 국제성모병원', '2', '16', '18', '137'], ['경기', '가톨릭대학교 성빈센트병원', '7', '32', '97', '233'], ['서울', '가톨릭대학교 여의도성모병원', '2', '23', '90', '145'], ['서울', '가톨릭대학교 은평성모병원', '0', '13', '38', '166'], ['경기', '가톨릭대학교부천성모병원', '4', '22', '74', '145'], ['경기', '가톨릭대학교의정부성모병원', '4', '30', '100', '169'], ['경기', '강남병원', '0', '0', '0', '50'], ['서울', '강동경희대학교의대병원', '0', '0', '99', '162'], ['강원', '강릉아산병원', '0', '0', '62', '143'], ['강원', '강원대학교병원', '1', '32', '54', '157'], ['강원', '강원도 삼척의료원', '1', '0', '0', '24'], ['강원', '강원도 영월의료원', '3', '0', '0', '17'], ['강원', '강원도 원주의료원', '2', '0', '0', '27'], ['강원', '강원도강릉의료원', '2', '0', '0', '16'], ['강원', '강원도속초의료원', '3', '0', '0', '22'], ['경남', '강일병원', '0', '0', '0', '27'], ['충북', '건국대학교 충주병원', '1', '0', '19', '75'], ['인천', '검단탑병원', '2', '0', '0', '47'], ['경기', '경기도의료원 수원병원', '2', '0', '0', '28'], ['경기', '경기도의료원 안성병원', '1', '0', '0', '23'], ['경기', '경기도의료원 이천병원', '1', '0', '0', '24'], ['경기', '경기도의료원의정부병원', '3', '0', '0', '21'], ['경기', '경기도의료원파주병원', '2', '0', '0', '26'], ['경기', '경기도의료원포천병원', '1', '0', '0', '20'], ['경남', '경상남도마산의료원', '1', '0', '0', '23'], ['경북', '경상북도김천의료원', '3', '0', '0', '32'], ['경북', '경상북도안동의료원', '2', '0', '0', '25'], ['경북', '경상북도포항의료원', '3', '0', '0', '20'], ['서울', '경찰병원', '2', '15', '46', '72'], ['대구', '계명대학교대구동산병원', '0', '0', '0', '31'], ['대구', '곽병원', '2', '0', '0', '22'], ['경기', '광명성애병원', '2', '8', '31', '74'], ['전남', '광양사랑병원', '0', '0', '0', '20'], ['광주', '광주기독병원', '2', '13', '32', '86'], ['광주', '광주병원', '2', '0', '0', '34'], ['광주', '광주보훈병원', '3', '7', '25', '62'], ['광주', '광주수완병원', '0', '0', '0', '18'], ['광주', '광주씨티병원', '0', '0', '0', '23'], ['광주', '광주일곡병원', '0', '0', '0', '20'], ['광주', '광주한국병원', '0', '0', '0', '25'], ['광주', '광주현대병원', '1', '0', '0', '33'], ['광주', '광주희망병원', '0', '0', '0', '24'], ['서울', '구로성심병원', '0', '0', '0', '33'], ['경북', '구미강동병원', '3', '0', '0', '33'], ['부산', '구포성심병원', '0', '0', '0', '32'], ['경기', '국군수도병원', '0', '0', '1', '125'], ['경기', '국립암센터', '1', '0', '35', '207'], ['서울', '국립중앙의료원', '4', '21', '50', '124'], ['경기', '국민건강보험공단일산병원', '2', '4', '48', '198'], ['대전', '근로복지공단 대전병원', '2', '0', '0', '24'], ['전남', '근로복지공단 순천병원', '3', '0', '0', '20'], ['경남', '근로복지공단 창원병원', '6', '0', '0', '23'], ['강원', '근로복지공단 태백병원', '2', '0', '0', '16'], ['경기', '근로복지공단안산병원', '2', '0', '0', '35'], ['인천', '근로복지공단인천병원', '0', '0', '0', '33'], ['전남', '나주종합병원', '2', '0', '0', '21'], ['경기', '남양주 한양병원', '0', '0', '0', '29'], ['경기', '남양주나눔병원', '0', '0', '0', '15'], ['서울', '녹색병원', '4', '0', '0', '33'], ['경기', '단원병원', '0', '0', '0', '41'], ['충남', '당진종합병원', '0', '0', '0', '27'], ['대구', '대구가톨릭대학교 칠곡가톨릭병원', '1', '0', '0', '22'], ['대구', '대구의료원', '1', '5', '18', '33'], ['대구', '대구파티마병원', '2', '21', '61', '137'], ['부산', '대동병원', '4', '1', '13', '64'], ['서울', '대림성모병원', '1', '0', '0', '43'], ['경기', '대아의료재단한도병원', '1', '0', '0', '63'], ['전북', '대자인병원', '2', '0', '0', '82'], ['대전', '대전보훈병원', '5', '0', '6', '40'], ['대전', '대전한국병원', '1', '0', '0', '33'], ['경기', '대진의료재단 분당제생병원', '2', '16', '65', '130'], ['대전', '대청병원', '2', '0', '0', '24'], ['대구', '더블유병원', '0', '0', '0', '29'], ['경북', '동국대학교의과대학경주병원', '2', '0', '24', '80'], ['경기', '동국대학교일산불교병원', '1', '17', '80', '148'], ['부산', '동남권원자력의학원', '2', '0', '0', '57'], ['부산', '동래봉생병원', '0', '0', '0', '37'], ['경남', '동마산병원', '0', '0', '0', '14'], ['광주', '동아병원', '0', '0', '0', '31'], ['대구', '드림병원', '0', '0', '0', '24'], ['인천', '메디플렉스 세종병원', '2', '0', '0', '81'], ['서울', '명지성모병원', '0', '0', '0', '29'], ['전남', '목포기독병원', '1', '0', '0', '38'], ['전남', '목포시의료원', '1', '0', '0', '17'], ['전남', '목포한국병원', '3', '1', '0', '73'], ['광주', '미래로21병원', '0', '0', '0', '29'], ['서울', '미즈메디병원', '2', '0', '0', '60'], ['경남', '베데스다병원', '0', '0', '0', '23'], ['서울', '부민병원', '0', '0', '0', '37'], ['부산', '부산광역시의료원', '1', '5', '22', '58'], ['부산', '부산성모병원(재단법인 천주교부산교구유지재단)', '1', '5', '22', '64'], ['전북', '부안성모병원', '1', '0', '0', '17'], ['경기', '부천대성병원', '1', '0', '0', '12'], ['인천', '부평세림병원', '2', '3', '9', '38'], ['인천', '비에스종합병원', '2', '0', '0', '17'], ['부산', '비에이치에스한서병원', '1', '0', '5', '50'], ['경기', '삼성본병원', '1', '0', '0', '10'], ['부산', '삼육부산병원', '3', '1', '4', '33'], ['서울', '삼육서울병원', '3', '10', '25', '77'], ['대구', '삼일병원', '0', '0', '0', '18'], ['광주', '상무병원', '0', '0', '0', '25'], ['경북', '상주적십자병원', '1', '0', '0', '24'], ['광주', '서광병원', '0', '0', '0', '23'], ['광주', '서남대학교남광병원', '0', '0', '0', '0'], ['광주', '서남대학교병원', '0', '0', '0', '0'], ['충남', '서산중앙병원', '3', '0', '0', '26'], ['울산', '서울산보람병원', '1', '0', '0', '21'], ['서울', '서울성심병원', '1', '0', '12', '31'], ['서울', '서울적십자병원', '4', '8', '10', '36'], ['서울', '서울특별시 동부병원', '3', '0', '0', '30'], ['서울', '서울특별시보라매병원', '4', '0', '16', '229'], ['서울', '서울특별시서남병원', '1', '0', '0', '41'], ['서울', '서울특별시서울의료원', '3', '29', '76', '129'], ['전남', '성가롤로병원', '3', '1', '5', '97'], ['경기', '성남중앙병원', '1', '3', '9', '30'], ['서울', '성심의료재단강동성심병원', '0', '23', '90', '131'], ['서울', '성애의료재단 성애병원', '2', '3', '16', '63'], ['서울', '세란병원', '0', '0', '0', '38'], ['강원', '속초보광병원', '2', '0', '0', '15'], ['경기', '순천의료재단 정병원', '0', '0', '0', '31'], ['전남', '순천중앙병원', '1', '0', '0', '10'], ['경북', '순천향대학교 부속 구미병원', '4', '0', '12', '76'], ['서울', '순천향대학교 부속 서울병원', '2', '38', '134', '190'], ['광주', '신가병원', '1', '0', '0', '23'], ['서울', '씨엠병원', '1', '0', '0', '22'], ['충남', '아산충무병원', '1', '0', '0', '38'], ['경북', '안동성소병원', '1', '0', '0', '59'], ['경기', '안성성모병원', '0', '0', '0', '31'], ['경북', '에스포항병원', '0', '0', '0', '32'], ['서울', '에이치플러스 양지병원', '3', '4', '1', '77'], ['세종시', '엔케이(NK)세종병원', '1', '0', '0', '16'], ['전남', '여수전남병원', '2', '1', '3', '30'], ['전남', '여천전남병원', '2', '1', '0', '38'], ['경기', '연세대학교 의과대학 용인세브란스병원', '1', '4', '0', '35'], ['경남', '연세에스병원', '0', '0', '0', '21'], ['전남', '영광종합병원', '1', '0', '0', '24'], ['경북', '영남대학교의과대학부속영천병원', '1', '0', '0', '20'], ['부산', '영도병원', '0', '2', '1', '27'], ['경북', '영주적십자병원', '3', '0', '0', '10'], ['충남', '예산종합병원', '0', '0', '0', '10'], ['경기', '오산한국병원', '3', '2', '4', '54'], ['인천', '온누리병원', '1', '0', '0', '23'], ['서울', '우리들병원', '0', '0', '0', '23'], ['광주', '운암한국병원', '1', '0', '0', '21'], ['경기', '원광대학교의과대학산본병원', '0', '6', '20', '58'], ['서울', '을지대학교 을지병원', '3', '22', '78', '142'], ['경북', '의)근원의료재단경산중앙병원', '2', '0', '0', '30'], ['경기', '의료법인 갈렌의료재단 박병원', '0', '0', '0', '18'], ['강원', '의료법인 강릉동인병원', '1', '0', '0', '45'], ['전남', '의료법인 거명의료재단 영광기독병원', '1', '0', '0', '15'], ['경남', '의료법인 거붕 백병원', '2', '0', '0', '29'], ['부산', '의료법인 광혜의료재단 광혜병원', '0', '0', '0', '21'], ['경기', '의료법인 남촌의료재단 시흥시화병원', '2', '0', '0', '36'], ['경기', '의료법인 녹산의료재단동수원병원', '4', '0', '11', '63'], ['경기', '의료법인 녹향의료재단 신천연합병원', '0', '0', '0', '19'], ['경남', '의료법인 대우의료재단대우병원', '2', '0', '0', '29'], ['울산', '의료법인 동강의료재단 동강병원', '3', '1', '6', '88'], ['울산', '의료법인 동강의료재단 동천동강병원', '0', '0', '0', '21'], ['강원', '의료법인 동해동인병원', '2', '0', '0', '21'], ['경기', '의료법인 박애의료재단 박애병원', '1', '0', '0', '23'], ['충남', '의료법인 백제병원', '3', '0', '0', '49'], ['경남', '의료법인 보원의료재단 웅상중앙병원', '1', '0', '0', '25'], ['전남', '의료법인 서구의료재단 여수성심병원', '0', '0', '0', '0'], ['경기', '의료법인 석경의료재단 센트럴병원', '1', '0', '0', '36'], ['경남', '의료법인 성념의료재단맑은샘병원', '0', '0', '0', '14'], ['인천', '의료법인 성수의료재단 인천백병원', '2', '0', '0', '20'], ['울산', '의료법인 송은의료재단 울산시티병원', '4', '0', '0', '27'], ['경기', '의료법인 영동의료재단 의정부백병원', '3', '0', '0', '21'], ['충남', '의료법인 영서의료재단 천안충무병원', '5', '0', '0', '51'], ['대전', '의료법인 영훈의료재단 대전선병원', '2', '9', '19', '64'], ['전북', '의료법인 오성의료재단 동군산병원', '2', '0', '0', '44'], ['전남', '의료법인 우범의료재단 장흥종합병원', '0', '0', '0', '11'], ['경기', '의료법인 원광의료재단 원광종합병원', '1', '0', '0', '11'], ['부산', '의료법인 은성의료재단 좋은강안병원', '3', '2', '10', '67'], ['울산', '의료법인 은성의료재단 좋은삼정병원', '3', '0', '0', '21'], ['경기', '의료법인 은혜와감사의료재단 화성중앙종합병원', '1', '0', '0', '15'], ['부산', '의료법인 인당의료재단 부민병원', '1', '1', '4', '54'], ['부산', '의료법인 인당의료재단 해운대부민병원', '1', '0', '0', '41'], ['인천', '의료법인 인천사랑병원', '4', '0', '7', '61'], ['충북', '의료법인 인화재단 한국병원', '13', '1', '1', '57'], ['충북', '의료법인 자산의료재단 제천서울병원', '2', '0', '0', '24'], ['충북', '의료법인 정산의료재단 효성병원', '3', '0', '2', '44'], ['울산', '의료법인 정안의료재단 중앙병원', '2', '0', '0', '34'], ['제주', '의료법인 중앙의료재단 중앙병원', '0', '0', '0', '34'], ['서울', '의료법인 청구성심병원', '2', '0', '0', '25'], ['경남', '의료법인 한마음국제의료재단 한마음창원병원', '2', '0', '0', '61'], ['제주', '의료법인 혜인의료재단 한국병원', '0', '0', '0', '33'], ['경남', '의료법인 환명의료재단 조은금강병원', '1', '0', '0', '29'], ['충북', '의료법인 힐링의료재단 옥천성모병원', '1', '0', '0', '17'], ['경남', '의료법인갑을의료재단갑을장유병원', '1', '0', '0', '26'], ['충북', '의료법인건명의료재단진천성모병원', '0', '0', '0', '21'], ['대구', '의료법인구의료재단 구병원', '1', '0', '0', '30'], ['부산', '의료법인기독교한국침례회의료재단왈레스기념 침례병원', '0', '0', '0', '0'], ['전남', '의료법인대송의료재단 무안병원', '0', '0', '0', '18'], ['경기', '의료법인대인의료재단 다니엘종합병원', '3', '0', '0', '21'], ['경북', '의료법인덕산의료재단김천제일병원', '0', '0', '0', '36'], ['서울', '의료법인동신의료재단 동신병원', '4', '0', '0', '21'], ['경북', '의료법인동춘의료재단문경제일병원', '1', '0', '0', '33'], ['인천', '의료법인루가의료재단 나은병원', '4', '0', '0', '64'], ['경기', '의료법인명지의료재단명지병원', '3', '31', '39', '140'], ['충북', '의료법인명지의료재단명지병원', '2', '0', '0', '28'], ['전남', '의료법인목포구암의료재단 목포중앙병원', '0', '0', '0', '46'], ['경기', '의료법인백송의료재단 굿모닝병원', '1', '0', '0', '87'], ['경남', '의료법인보원의료재단 경희의료원교육협력 중앙병원', '1', '2', '0', '55'], ['경북', '의료법인삼백의료재단상주성모병원', '0', '0', '0', '23'], ['경남', '의료법인석영의료재단창원제일종합병원', '2', '0', '0', '15'], ['전북', '의료법인석천재단고창병원', '1', '0', '0', '17'], ['인천', '의료법인성세의료재단 뉴 성민병원', '0', '0', '0', '23'], ['서울', '의료법인성화의료재단  대한병원', '3', '0', '0', '16'], ['경남', '의료법인숭인의료재단 김해복음병원', '2', '0', '0', '23'], ['경북', '의료법인안동병원', '2', '0', '0', '96'], ['경기', '의료법인양진의료재단평택성모병원', '1', '0', '0', '57'], ['전북', '의료법인영경의료재단전주병원', '0', '0', '0', '30'], ['전남', '의료법인영성의료재단 고흥종합병원', '1', '0', '0', '16'], ['대전', '의료법인영훈의료재단 유성선병원', '5', '0', '0', '81'], ['경기', '의료법인우리의료재단김포우리병원', '2', '2', '6', '66'], ['부산', '의료법인은성의료재단좋은삼선병원', '2', '6', '8', '54'], ['경북', '의료법인은성의료재단좋은선린병원', '1', '0', '0', '30'], ['경기', '의료법인인봉의료재단뉴고려병원', '2', '0', '0', '59'], ['경기', '의료법인일심의료재단우리병원', '0', '0', '0', '26'], ['부산', '의료법인정선의료재단 온종합병원', '3', '2', '3', '61'], ['부산', '의료법인정화의료재단 김원묵기념봉생병원', '0', '0', '7', '56'], ['경남', '의료법인청아의료재단청아병원', '1', '0', '0', '20'], ['전남', '의료법인청언의료재단 순천제일병원', '0', '0', '0', '12'], ['서울', '의료법인풍산의료재단동부제일병원', '2', '0', '0', '18'], ['전남', '의료법인한국의료재단 순천한국병원', '0', '0', '0', '22'], ['충북', '의료법인한마음의료재단하나병원', '4', '1', '8', '58'], ['경북', '의료법인한성재단포항세명기독병원', '4', '0', '0', '108'], ['서울', '의료법인한전의료재단 한일병원', '4', '5', '30', '74'], ['경남', '의료법인합포의료재단에스엠지연세병원', '2', '0', '0', '36'], ['전남', '의료법인해민의료재단 세안종합병원', '1', '0', '0', '15'], ['전남', '의료법인행촌의료재단 해남종합병원', '1', '0', '0', '24'], ['울산', '의료법인혜명심의료재단 울산병원', '1', '0', '0', '40'], ['경기', '의료법인혜원의료재단세종병원', '3', '2', '11', '66'], ['강원', '의산의료재단 강릉고려병원', '1', '0', '0', '14'], ['서울', '이화여자대학교의과대학부속목동병원', '1', '31', '166', '192'], ['서울', '이화여자대학교의과대학부속서울병원', '0', '0', '0', '133'], ['전북', '익산병원', '2', '0', '0', '38'], ['경기', '인산의료재단 메트로병원', '2', '0', '0', '17'], ['서울', '인제대학교 상계백병원', '3', '27', '133', '155'], ['서울', '인제대학교 서울백병원', '1', '8', '29', '68'], ['부산', '인제대학교 해운대백병원', '2', '21', '87', '199'], ['경기', '인제대학교일산백병원', '1', '26', '110', '160'], ['인천', '인천광역시의료원', '2', '0', '0', '38'], ['인천', '인천기독병원', '3', '0', '0', '19'], ['충남', '재단법인 아산사회복지재단 부속 보령아산병원', '0', '0', '0', '17'], ['전북', '재단법인 아산사회복지재단 정읍아산병원', '0', '0', '0', '23'], ['경남', '재단법인대구포교성베네딕도수녀회창원파티마병원', '0', '10', '4', '88'], ['충북', '재단법인베스티안재단베스티안병원', '0', '0', '0', '13'], ['서울', '재단법인베스티안재단베스티안서울병원', '0', '0', '0', '14'], ['전북', '재단법인예수병원유지재단예수병원', '3', '11', '66', '137'], ['부산', '재단법인천주교부산교구유지재단 메리놀병원', '1', '2', '22', '61'], ['부산', '재단법인한호기독교선교회 일신기독병원', '1', '0', '0', '41'], ['전북', '전라북도 군산의료원', '2', '4', '4', '47'], ['전북', '전라북도 남원의료원', '2', '0', '6', '35'], ['전북', '전주고려병원', '0', '0', '0', '19'], ['경남', '제일병원', '1', '0', '0', '51'], ['제주', '제주대학교병원', '2', '23', '52', '168'], ['제주', '제주특별자치도 서귀포의료원', '0', '0', '0', '40'], ['제주', '제주한라병원', '2', '0', '13', '118'], ['경기', '조은오산병원', '0', '0', '0', '21'], ['부산', '좋은문화병원', '5', '1', '1', '57'], ['경남', '진주고려병원', '2', '0', '0', '27'], ['서울', '차의과학대학교 강남차병원', '1', '0', '6', '87'], ['경북', '차의과학대학교부속구미차병원', '2', '0', '0', '76'], ['경기', '차의과학대학교분당차병원', '7', '41', '161', '280'], ['경기', '참조은병원', '5', '0', '0', '56'], ['경남', '창원경상대학교병원', '2', '4', '5', '144'], ['광주', '첨단종합병원', '2', '0', '0', '43'], ['충북', '청주성모병원', '0', '16', '15', '73'], ['경기', '추병원', '1', '2', '4', '29'], ['충남', '충청남도 공주의료원', '1', '0', '0', '27'], ['충남', '충청남도 서산의료원', '1', '0', '0', '24'], ['충남', '충청남도 천안의료원', '2', '0', '0', '27'], ['충남', '충청남도 홍성의료원', '1', '0', '0', '40'], ['충북', '충청북도 청주의료원', '5', '0', '0', '44'], ['충북', '충청북도 충주의료원', '2', '0', '0', '33'], ['경북', '포항성모병원', '2', '3', '9', '86'], ['광주', '하남성심병원', '1', '0', '0', '24'], ['울산', '학교법인 울산공업학원 울산대학교병원', '5', '22', '98', '215'], ['대전', '학교법인 을지학원 을지대학교병원', '2', '27', '87', '147'], ['부산', '학교법인 춘해병원', '2', '0', '0', '23'], ['부산', '학교법인)동의병원', '6', '1', '18', '65'], ['대전', '학교법인가톨릭학원 가톨릭대학교 대전성모병원', '1', '22', '55', '135'], ['대전', '학교법인건양학원 건양대학교병원', '4', '32', '87', '157'], ['경남', '학교법인성균관대학삼성창원병원', '4', '22', '75', '180'], ['대구', '한국보훈복지의료공단 대구보훈병원', '6', '0', '9', '49'], ['부산', '한국보훈복지의료공단 부산보훈병원', '5', '6', '20', '61'], ['서울', '한국보훈복지의료공단 중앙보훈병원', '2', '32', '103', '168'], ['서울', '한국원자력의학원원자력병원', '7', '15', '50', '114'], ['서울', '한림대학교 강남성심병원', '0', '26', '95', '139'], ['서울', '한림대학교 한강성심병원', '0', '0', '0', '42'], ['경기', '한림대학교동탄성심병원', '0', '27', '59', '166'], ['강원', '한림대학교부속 춘천성심병원', '0', '11', '49', '106'], ['인천', '한림병원', '3', '1', '2', '81'], ['제주', '한마음병원', '1', '0', '0', '35'], ['경기', '한양대학교구리병원', '0', '18', '80', '139'], ['경남', '한일병원', '3', '0', '0', '23'], ['전남', '해남우리종합병원', '1', '0', '0', '22'], ['부산', '해동병원', '1', '0', '0', '27'], ['광주', '해피뷰병원', '0', '0', '0', '17'], ['경기', '현대병원', '1', '0', '0', '56'], ['인천', '현대유비스병원', '2', '0', '0', '43'], ['서울', '혜민병원', '0', '0', '0', '33'], ['서울', '홍익병원', '1', '4', '14', '55'], ['강원', '홍천아산병원', '1', '0', '0', '10'], ['경기', '효산의료재단 안양샘병원', '7', '5', '17', '86'], ['경기', '효산의료재단 지샘병원', '2', '0', '2', '72'], ['서울', '희명병원', '1', '0', '0', '22']]\n"
     ]
    }
   ],
   "source": [
    "f = open('doctor_2019.csv', 'r', encoding='utf-8')\n",
    "lines = csv.reader(f)\n",
    "header = next(lines)\n",
    "print(header)\n",
    "\n",
    "list_data = []\n",
    "for line in lines :\n",
    "    list_data.append(line[:])\n",
    "\n",
    "print(list_data)\n",
    "f.close()"
   ]
  },
  {
   "cell_type": "code",
   "execution_count": 361,
   "metadata": {},
   "outputs": [
    {
     "data": {
      "text/plain": [
       "list"
      ]
     },
     "execution_count": 361,
     "metadata": {},
     "output_type": "execute_result"
    }
   ],
   "source": [
    "type(list_data)"
   ]
  },
  {
   "cell_type": "code",
   "execution_count": 362,
   "metadata": {},
   "outputs": [
    {
     "name": "stdout",
     "output_type": "stream",
     "text": [
      "지역일반의인턴레지던트전문의\n",
      "서울   162   1196   4757     9375\n",
      "부산   58   197   785     2211\n",
      "대구   27   215   712     1436\n",
      "인천   47   138   444     1518\n",
      "대전   25   142   425     1006\n",
      "광주   16   102   356     1006\n",
      "울산   19   23   104     467\n"
     ]
    }
   ],
   "source": [
    "import numpy as np\n",
    "su = [0, 0, 0, 0]\n",
    "bs = [0, 0, 0, 0]\n",
    "dg = [0, 0, 0, 0]\n",
    "ic = [0, 0, 0, 0]\n",
    "dj = [0, 0, 0, 0]\n",
    "kj = [0, 0, 0, 0]\n",
    "us = [0, 0, 0, 0]\n",
    "\n",
    "for i in range(0, len(list_data)):\n",
    "    if list_data[i][0] == '서울':\n",
    "        for j in range(0, 4):\n",
    "            su[j] = su[j] + int(list_data[i][j+2])\n",
    "    elif list_data[i][0] == '부산':\n",
    "        for j in range(0, 4):\n",
    "            bs[j] = bs[j] + int(list_data[i][j+2])\n",
    "    elif list_data[i][0] == '대구':\n",
    "        for j in range(0, 4):\n",
    "            dg[j] = dg[j] + int(list_data[i][j+2])\n",
    "    elif list_data[i][0] == '인천':\n",
    "        for j in range(0, 4):\n",
    "            ic[j] = ic[j] + int(list_data[i][j+2])\n",
    "    elif list_data[i][0] == '대전':\n",
    "        for j in range(0, 4):\n",
    "            dj[j] = dj[j] + int(list_data[i][j+2])\n",
    "    elif list_data[i][0] == '광주':\n",
    "        for j in range(0, 4):\n",
    "            kj[j] = kj[j] + int(list_data[i][j+2])\n",
    "    elif list_data[i][0] == '울산':\n",
    "        for j in range(0, 4):\n",
    "            us[j] = us[j] + int(list_data[i][j+2])\n",
    "        \n",
    "         \n",
    "        \n",
    "print('지역'  '일반의'  '인턴'  '레지던트'  '전문의')\n",
    "print('서울   {}   {}   {}     {}'.format(su[0], su[1], su[2], su[3]))\n",
    "print('부산   {}   {}   {}     {}'.format(bs[0], bs[1], bs[2], bs[3]))\n",
    "print('대구   {}   {}   {}     {}'.format(dg[0], dg[1], dg[2], dg[3]))\n",
    "print('인천   {}   {}   {}     {}'.format(ic[0], ic[1], ic[2], ic[3]))\n",
    "print('대전   {}   {}   {}     {}'.format(dj[0], dj[1], dj[2], dj[3]))\n",
    "print('광주   {}   {}   {}     {}'.format(kj[0], kj[1], kj[2], kj[3]))\n",
    "print('울산   {}   {}   {}     {}'.format(us[0], us[1], us[2], us[3]))"
   ]
  },
  {
   "cell_type": "markdown",
   "metadata": {},
   "source": [
    "# 3. 2번 문제 결과 doctor2.scv로 저장하기"
   ]
  },
  {
   "cell_type": "code",
   "execution_count": 363,
   "metadata": {},
   "outputs": [],
   "source": [
    "import csv\n",
    "f = open('doctor2.csv', 'w', encoding='utf-8', newline='')\n",
    "wr = csv.writer(f)\n",
    "wr.writerow(['지역','일반의','인턴','레지던트','전문의'])\n",
    "wr.writerow(['서울',su[0], su[1], su[2], su[3]])\n",
    "wr.writerow(['부산',bs[0], bs[1], bs[2], bs[3]])\n",
    "wr.writerow(['대구',dg[0], dg[1], dg[2], dg[3]])\n",
    "wr.writerow(['인천',ic[0], ic[1], ic[2], ic[3]])\n",
    "wr.writerow(['대전',dj[0], dj[1], dj[2], dj[3]])\n",
    "wr.writerow(['광주',kj[0], kj[1], kj[2], kj[3]])\n",
    "wr.writerow(['울산',us[0], us[1], us[2], us[3]])\n",
    "\n",
    "f.close()"
   ]
  },
  {
   "cell_type": "markdown",
   "metadata": {},
   "source": [
    "# 4. doctor2.scv 파일 받아들여 의사 수 산포 그래프로 보여주는 그래프 작성"
   ]
  },
  {
   "cell_type": "code",
   "execution_count": 364,
   "metadata": {},
   "outputs": [
    {
     "name": "stdout",
     "output_type": "stream",
     "text": [
      "['지역', '일반의', '인턴', '레지던트', '전문의']\n",
      "[['서울', '162', '1196', '4757', '9375'], ['부산', '58', '197', '785', '2211'], ['대구', '27', '215', '712', '1436'], ['인천', '47', '138', '444', '1518'], ['대전', '25', '142', '425', '1006'], ['광주', '16', '102', '356', '1006'], ['울산', '19', '23', '104', '467']]\n"
     ]
    }
   ],
   "source": [
    "f = open('doctor2.csv', 'r', encoding='utf-8')\n",
    "lines = csv.reader(f, delimiter = ',')\n",
    "header = next(lines)\n",
    "print(header)\n",
    "\n",
    "list_data = []\n",
    "for line in lines :\n",
    "    list_data.append(line[:])\n",
    "\n",
    "print(list_data)\n",
    "f.close()"
   ]
  },
  {
   "cell_type": "code",
   "execution_count": 365,
   "metadata": {},
   "outputs": [
    {
     "data": {
      "image/png": "[encoded data removed]",
      "text/plain": [
       "<Figure size 432x288 with 1 Axes>"
      ]
     },
     "metadata": {
      "needs_background": "light"
     },
     "output_type": "display_data"
    }
   ],
   "source": [
    "x = []\n",
    "y = []\n",
    "for i in range(0, len(list_data)):\n",
    "    x.append(list_data[i][0])\n",
    "    y.append(int(list_data[i][4]))\n",
    "    \n",
    "plt.title('서울 및 광역시 종합병원 전문의 수')\n",
    "plt.scatter(x, y)\n",
    "\n",
    "plt.ylabel('의사 수')\n",
    "plt.show()"
   ]
  },
  {
   "cell_type": "markdown",
   "metadata": {},
   "source": [
    "# 5. doctor2.scv 파일 읽고 선 그래프로 나타내는 프로그램 작성"
   ]
  },
  {
   "cell_type": "code",
   "execution_count": 366,
   "metadata": {},
   "outputs": [
    {
     "name": "stdout",
     "output_type": "stream",
     "text": [
      "['지역', '일반의', '인턴', '레지던트', '전문의']\n",
      "[['서울', '162', '1196', '4757', '9375'], ['부산', '58', '197', '785', '2211'], ['대구', '27', '215', '712', '1436'], ['인천', '47', '138', '444', '1518'], ['대전', '25', '142', '425', '1006'], ['광주', '16', '102', '356', '1006'], ['울산', '19', '23', '104', '467']]\n"
     ]
    }
   ],
   "source": [
    "f = open('doctor2.csv', 'r', encoding='utf-8')\n",
    "lines = csv.reader(f, delimiter = ',')\n",
    "header = next(lines)\n",
    "print(header)\n",
    "\n",
    "list_data = []\n",
    "for line in lines :\n",
    "    list_data.append(line[:])\n",
    "\n",
    "print(list_data)\n",
    "f.close()"
   ]
  },
  {
   "cell_type": "code",
   "execution_count": 373,
   "metadata": {},
   "outputs": [
    {
     "data": {
      "image/png": "[encoded data removed]",
      "text/plain": [
       "<Figure size 432x288 with 1 Axes>"
      ]
     },
     "metadata": {
      "needs_background": "light"
     },
     "output_type": "display_data"
    }
   ],
   "source": [
    "x = []\n",
    "y1 = []\n",
    "y2 = []\n",
    "y3 = []\n",
    "y4 = []\n",
    "\n",
    "for i in range(0, len(list_data)):\n",
    "    x.append(list_data[i][0])\n",
    "    y1.append(int(list_data[i][1]))\n",
    "    y2.append(int(list_data[i][2]))\n",
    "    y3.append(int(list_data[i][3]))\n",
    "    y4.append(int(list_data[i][4]))\n",
    "    \n",
    "plt.plot(x, y1, label='일반의', color='red', linestyle='--', marker='*')\n",
    "plt.plot(x, y2, label='인턴', color='blue', linestyle='-', marker='s')\n",
    "plt.plot(x, y3, label='레지던트', color='yellow', linestyle=':', marker='d')\n",
    "plt.plot(x, y4, label='전문의', color='purple', linestyle='-.', marker='o')\n",
    "\n",
    "plt.ylim(0, 10000)\n",
    "plt.title('서울 및 광역시 종합병원 의사 수')\n",
    "plt.legend(loc='best')\n",
    "\n",
    "plt.show()"
   ]
  },
  {
   "cell_type": "markdown",
   "metadata": {},
   "source": [
    "# 6. doctor2.csv 파일 읽고 파이 그래프 프로그램 작성"
   ]
  },
  {
   "cell_type": "code",
   "execution_count": 368,
   "metadata": {},
   "outputs": [
    {
     "name": "stdout",
     "output_type": "stream",
     "text": [
      "['지역', '일반의', '인턴', '레지던트', '전문의']\n",
      "[['서울', '162', '1196', '4757', '9375'], ['부산', '58', '197', '785', '2211'], ['대구', '27', '215', '712', '1436'], ['인천', '47', '138', '444', '1518'], ['대전', '25', '142', '425', '1006'], ['광주', '16', '102', '356', '1006'], ['울산', '19', '23', '104', '467']]\n"
     ]
    }
   ],
   "source": [
    "f = open('doctor2.csv', 'r', encoding='utf-8')\n",
    "lines = csv.reader(f, delimiter = ',')\n",
    "header = next(lines)\n",
    "print(header)\n",
    "\n",
    "list_data = []\n",
    "for line in lines :\n",
    "    list_data.append(line[:])\n",
    "\n",
    "print(list_data)\n",
    "f.close()"
   ]
  },
  {
   "cell_type": "code",
   "execution_count": 369,
   "metadata": {},
   "outputs": [
    {
     "data": {
      "image/png": "[encoded data removed]",
      "text/plain": [
       "<Figure size 432x288 with 1 Axes>"
      ]
     },
     "metadata": {},
     "output_type": "display_data"
    }
   ],
   "source": [
    "# ex 12-9\n",
    "\n",
    "y1 = 0\n",
    "y2 = 0\n",
    "y3 = 0\n",
    "y4 = 0\n",
    "\n",
    "for i in range(0, len(list_data)):\n",
    "    y1 = y1 + int(list_data[i][1])\n",
    "    y2 = y2 + int(list_data[i][2])\n",
    "    y3 = y3 + int(list_data[i][3]) \n",
    "    y4 = y4 + int(list_data[i][4]) \n",
    "\n",
    "x = ['일반의', '인턴', '레지던트', '전문의']\n",
    "portion = [(y1 / (y1+y2+y3+y4) * 100), (y2 / (y1+y2+y3+y4) * 100), (y3 / (y1+y2+y3+y4) * 100),\n",
    "           (y4 / (y1+y2+y3+y4) * 100)]\n",
    "\n",
    "plt.pie(portion, explode=(0, 0.1, 0, 0), labels=x, autopct='%1.1f%%', shadow=True, startangle=90)\n",
    "plt.title('총 가구 대비 반려동물 기르는 비율(2018)')\n",
    "\n",
    "plt.show()"
   ]
  },
  {
   "cell_type": "code",
   "execution_count": null,
   "metadata": {},
   "outputs": [],
   "source": []
  },
  {
   "cell_type": "code",
   "execution_count": null,
   "metadata": {},
   "outputs": [],
   "source": []
  }
 ],
 "metadata": {
  "kernelspec": {
   "display_name": "Python 3",
   "language": "python",
   "name": "python3"
  },
  "language_info": {
   "codemirror_mode": {
    "name": "ipython",
    "version": 3
   },
   "file_extension": ".py",
   "mimetype": "text/x-python",
   "name": "python",
   "nbconvert_exporter": "python",
   "pygments_lexer": "ipython3",
   "version": "3.7.6"
  }
 },
 "nbformat": 4,
 "nbformat_minor": 4
}
